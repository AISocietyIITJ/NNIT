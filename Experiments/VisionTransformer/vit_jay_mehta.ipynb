{
 "cells": [
  {
   "cell_type": "code",
   "execution_count": 23,
   "id": "38382738",
   "metadata": {},
   "outputs": [],
   "source": [
    "import torch \n",
    "from torch import nn\n",
    "import os\n",
    "import numpy as np\n",
    "import matplotlib.pyplot as plt"
   ]
  },
  {
   "cell_type": "code",
   "execution_count": 24,
   "id": "65af66c0",
   "metadata": {},
   "outputs": [
    {
     "data": {
      "text/plain": [
       "(WindowsPath('archive/data2/training_data'),\n",
       " WindowsPath('archive/data2/testing_data'))"
      ]
     },
     "execution_count": 24,
     "metadata": {},
     "output_type": "execute_result"
    }
   ],
   "source": [
    "from pathlib import Path\n",
    "data_path = Path(\"archive/\")\n",
    "image_path = data_path / \"data2\"\n",
    "train_dir = image_path / \"training_data\"\n",
    "test_dir = image_path / \"testing_data\"\n",
    "\n",
    "train_dir, test_dir"
   ]
  },
  {
   "cell_type": "code",
   "execution_count": 25,
   "id": "87f52e78",
   "metadata": {},
   "outputs": [],
   "source": [
    "from torch.utils.data import DataLoader\n",
    "from torchvision import transforms\n",
    "\n",
    "data_transform = transforms.Compose([\n",
    "  # Resize our images to 64x64\n",
    "  transforms.Resize(size=(32, 32)),\n",
    "  # Flip the images randomly on the horizontal\n",
    "#   transforms.RandomHorizontalFlip(p=0.5),\n",
    "  # Turn the image into a torch.Tensor\n",
    "  transforms.ToTensor(),\n",
    "  transforms.Grayscale(num_output_channels=1)   \n",
    "])"
   ]
  },
  {
   "cell_type": "code",
   "execution_count": 26,
   "id": "c617c2ed",
   "metadata": {},
   "outputs": [
    {
     "data": {
      "text/plain": [
       "(Dataset ImageFolder\n",
       "     Number of datapoints: 20628\n",
       "     Root location: archive\\data2\\training_data\n",
       "     StandardTransform\n",
       " Transform: Compose(\n",
       "                Resize(size=(32, 32), interpolation=bilinear, max_size=None, antialias=warn)\n",
       "                ToTensor()\n",
       "                Grayscale(num_output_channels=1)\n",
       "            ),\n",
       " Dataset ImageFolder\n",
       "     Number of datapoints: 3241\n",
       "     Root location: archive\\data2\\testing_data\n",
       "     StandardTransform\n",
       " Transform: Compose(\n",
       "                Resize(size=(32, 32), interpolation=bilinear, max_size=None, antialias=warn)\n",
       "                ToTensor()\n",
       "                Grayscale(num_output_channels=1)\n",
       "            ))"
      ]
     },
     "execution_count": 26,
     "metadata": {},
     "output_type": "execute_result"
    }
   ],
   "source": [
    "from torchvision import datasets\n",
    "train_data = datasets.ImageFolder(root=train_dir,\n",
    "                                  transform=data_transform, # a transform for the data\n",
    "                                  target_transform=None) # a transform for the label/target \n",
    "\n",
    "test_data = datasets.ImageFolder(root=test_dir,\n",
    "                                 transform=data_transform)\n",
    "\n",
    "train_data, test_data"
   ]
  },
  {
   "cell_type": "code",
   "execution_count": 27,
   "id": "2d9eaf59",
   "metadata": {},
   "outputs": [
    {
     "data": {
      "text/plain": [
       "20628"
      ]
     },
     "execution_count": 27,
     "metadata": {},
     "output_type": "execute_result"
    }
   ],
   "source": [
    "len(train_data)"
   ]
  },
  {
   "cell_type": "code",
   "execution_count": 28,
   "id": "b604b27b",
   "metadata": {},
   "outputs": [
    {
     "data": {
      "text/plain": [
       "{'0': 0,\n",
       " '1': 1,\n",
       " '2': 2,\n",
       " '3': 3,\n",
       " '4': 4,\n",
       " '5': 5,\n",
       " '6': 6,\n",
       " '7': 7,\n",
       " '8': 8,\n",
       " '9': 9,\n",
       " 'A': 10,\n",
       " 'B': 11,\n",
       " 'C': 12,\n",
       " 'D': 13,\n",
       " 'E': 14,\n",
       " 'F': 15,\n",
       " 'G': 16,\n",
       " 'H': 17,\n",
       " 'I': 18,\n",
       " 'J': 19,\n",
       " 'K': 20,\n",
       " 'L': 21,\n",
       " 'M': 22,\n",
       " 'N': 23,\n",
       " 'O': 24,\n",
       " 'P': 25,\n",
       " 'Q': 26,\n",
       " 'R': 27,\n",
       " 'S': 28,\n",
       " 'T': 29,\n",
       " 'U': 30,\n",
       " 'V': 31,\n",
       " 'W': 32,\n",
       " 'X': 33,\n",
       " 'Y': 34,\n",
       " 'Z': 35}"
      ]
     },
     "execution_count": 28,
     "metadata": {},
     "output_type": "execute_result"
    }
   ],
   "source": [
    "class_dict = train_data.class_to_idx\n",
    "class_dict"
   ]
  },
  {
   "cell_type": "code",
   "execution_count": 29,
   "id": "8ee97ac8",
   "metadata": {},
   "outputs": [
    {
     "data": {
      "text/plain": [
       "['0',\n",
       " '1',\n",
       " '2',\n",
       " '3',\n",
       " '4',\n",
       " '5',\n",
       " '6',\n",
       " '7',\n",
       " '8',\n",
       " '9',\n",
       " 'A',\n",
       " 'B',\n",
       " 'C',\n",
       " 'D',\n",
       " 'E',\n",
       " 'F',\n",
       " 'G',\n",
       " 'H',\n",
       " 'I',\n",
       " 'J',\n",
       " 'K',\n",
       " 'L',\n",
       " 'M',\n",
       " 'N',\n",
       " 'O',\n",
       " 'P',\n",
       " 'Q',\n",
       " 'R',\n",
       " 'S',\n",
       " 'T',\n",
       " 'U',\n",
       " 'V',\n",
       " 'W',\n",
       " 'X',\n",
       " 'Y',\n",
       " 'Z']"
      ]
     },
     "execution_count": 29,
     "metadata": {},
     "output_type": "execute_result"
    }
   ],
   "source": [
    "class_name = train_data.classes\n",
    "class_name"
   ]
  },
  {
   "cell_type": "code",
   "execution_count": 30,
   "id": "3475ee44",
   "metadata": {},
   "outputs": [
    {
     "data": {
      "text/plain": [
       "('archive\\\\data2\\\\training_data\\\\0\\\\44440.png', 0)"
      ]
     },
     "execution_count": 30,
     "metadata": {},
     "output_type": "execute_result"
    }
   ],
   "source": [
    "train_data.samples[1]"
   ]
  },
  {
   "cell_type": "code",
   "execution_count": 31,
   "id": "2bd0fbf0",
   "metadata": {},
   "outputs": [
    {
     "name": "stdout",
     "output_type": "stream",
     "text": [
      "Image tensor:\n",
      " tensor([[[0.8627, 0.8705, 0.8627,  ..., 0.8705, 0.8666, 0.8666],\n",
      "         [0.8783, 0.8705, 0.8705,  ..., 0.8744, 0.8666, 0.8705],\n",
      "         [0.8666, 0.8744, 0.8705,  ..., 0.8823, 0.8783, 0.8862],\n",
      "         ...,\n",
      "         [0.8744, 0.8783, 0.8783,  ..., 0.8783, 0.8783, 0.8744],\n",
      "         [0.8666, 0.8627, 0.8666,  ..., 0.8823, 0.8666, 0.8587],\n",
      "         [0.8627, 0.8744, 0.8744,  ..., 0.8666, 0.8862, 0.8783]]])\n",
      "Image shape: torch.Size([1, 32, 32])\n",
      "Image datatype: torch.float32\n",
      "Image label: 0\n",
      "Label datatype: <class 'int'>\n"
     ]
    }
   ],
   "source": [
    "img, label = train_data[0][0], train_data[0][1]\n",
    "print(f\"Image tensor:\\n {img}\")\n",
    "print(f\"Image shape: {img.shape}\")\n",
    "print(f\"Image datatype: {img.dtype}\")\n",
    "print(f\"Image label: {label}\")\n",
    "print(f\"Label datatype: {type(label)}\")"
   ]
  },
  {
   "cell_type": "code",
   "execution_count": 32,
   "id": "dd25fc2c",
   "metadata": {},
   "outputs": [
    {
     "data": {
      "text/plain": [
       "(<torch.utils.data.dataloader.DataLoader at 0x2492ad104d0>,\n",
       " <torch.utils.data.dataloader.DataLoader at 0x2492d1988d0>)"
      ]
     },
     "execution_count": 32,
     "metadata": {},
     "output_type": "execute_result"
    }
   ],
   "source": [
    "from torch.utils.data import DataLoader\n",
    "BATCH_SIZE=32\n",
    "train_dataloader = DataLoader(dataset=train_data,\n",
    "                              batch_size=BATCH_SIZE,\n",
    "                              num_workers=1,\n",
    "                              shuffle=True)\n",
    "\n",
    "test_dataloader = DataLoader(dataset=test_data,\n",
    "                             batch_size=BATCH_SIZE,\n",
    "                             num_workers=1,\n",
    "                             shuffle=False)\n",
    "\n",
    "train_dataloader, test_dataloader"
   ]
  },
  {
   "cell_type": "code",
   "execution_count": 33,
   "id": "15347cb0",
   "metadata": {},
   "outputs": [
    {
     "data": {
      "text/plain": [
       "(645, 102)"
      ]
     },
     "execution_count": 33,
     "metadata": {},
     "output_type": "execute_result"
    }
   ],
   "source": [
    "len(train_dataloader), len(test_dataloader)"
   ]
  },
  {
   "cell_type": "code",
   "execution_count": 34,
   "id": "b65f220c",
   "metadata": {},
   "outputs": [
    {
     "name": "stdout",
     "output_type": "stream",
     "text": [
      "Image shape: torch.Size([32, 1, 32, 32]) -> [batch_size, color_channels, height, width]\n",
      "Label shape: torch.Size([32])\n"
     ]
    }
   ],
   "source": [
    "img, label = next(iter(train_dataloader))\n",
    "\n",
    "# Batch size will now be 1, you can change the batch size if you like\n",
    "print(f\"Image shape: {img.shape} -> [batch_size, color_channels, height, width]\")\n",
    "print(f\"Label shape: {label.shape}\")"
   ]
  },
  {
   "cell_type": "code",
   "execution_count": 35,
   "id": "5da61628",
   "metadata": {},
   "outputs": [
    {
     "data": {
      "text/plain": [
       "torch.Size([1, 32, 32])"
      ]
     },
     "execution_count": 35,
     "metadata": {},
     "output_type": "execute_result"
    },
    {
     "data": {
      "image/png": "[encoded data removed]",
      "text/plain": [
       "<Figure size 640x480 with 1 Axes>"
      ]
     },
     "metadata": {},
     "output_type": "display_data"
    }
   ],
   "source": [
    "plt.imshow(train_data[1000][0].squeeze())\n",
    "train_data[1000][0].shape"
   ]
  },
  {
   "cell_type": "code",
   "execution_count": 36,
   "id": "6eae6eed",
   "metadata": {},
   "outputs": [
    {
     "name": "stdout",
     "output_type": "stream",
     "text": [
      "Number of patches per row: 4.0  \n",
      "Number of patches per column: 4.0  \n",
      "Total patches: 16.0  \n",
      "Patch size: 8 pixels x 8 pixels\n"
     ]
    },
    {
     "data": {
      "image/png": "[encoded data removed]",
      "text/plain": [
       "<Figure size 400x400 with 16 Axes>"
      ]
     },
     "metadata": {},
     "output_type": "display_data"
    }
   ],
   "source": [
    "# Setup code to plot whole image as patches\n",
    "image_permuted = train_data[0][0].permute(1,2,0)\n",
    "label =train_data[0][1]\n",
    "\n",
    "img_size = 32\n",
    "patch_size = 8\n",
    "num_patches = img_size/patch_size \n",
    "assert img_size % patch_size == 0, \"Image size must be divisible by patch size\"\n",
    "print(f\"Number of patches per row: {num_patches}\\\n",
    "  \\nNumber of patches per column: {num_patches}\\\n",
    "  \\nTotal patches: {num_patches*num_patches}\\\n",
    "  \\nPatch size: {patch_size} pixels x {patch_size} pixels\")\n",
    "\n",
    "# Create a series of subplots\n",
    "fig, axs = plt.subplots(nrows=img_size // patch_size,\n",
    "                        ncols=img_size // patch_size,\n",
    "                        figsize=(num_patches, num_patches),\n",
    "                        sharex=True,\n",
    "                        sharey=True)\n",
    "\n",
    "# Loop through height and width of image\n",
    "for i, patch_height in enumerate(range(0, img_size, patch_size)): # iterate through height\n",
    "  for j, patch_width in enumerate(range(0, img_size, patch_size)):\n",
    "    # Plot the permuted image on the different axes \n",
    "    axs[i, j].imshow(image_permuted[patch_height:patch_height+patch_size, # iterate through height\n",
    "                                    patch_width:patch_width+patch_size, # iterate through width\n",
    "                                    :]) # get all color channels\n",
    "    # Set up label information for each subplot (patch)\n",
    "    axs[i, j].set_ylabel(i+1,\n",
    "                         rotation=\"horizontal\",\n",
    "                         horizontalalignment=\"right\",\n",
    "                         verticalalignment=\"center\")\n",
    "    axs[i, j].set_xlabel(j+1)\n",
    "    axs[i, j].set_xticks([])\n",
    "    axs[i, j].set_yticks([])\n",
    "    axs[i, j].label_outer()\n",
    "\n",
    "# Set up a title for the plot\n",
    "fig.suptitle(f\"{class_name[label]} -> Patchified\", fontsize=14)\n",
    "plt.show()"
   ]
  },
  {
   "cell_type": "code",
   "execution_count": 37,
   "id": "0ea10d0b",
   "metadata": {},
   "outputs": [],
   "source": [
    "# 1. Create a class called PatchEmbedding\n",
    "class PatchEmbedding(nn.Module):\n",
    "  # 2. Initilaize the layer with appropriate hyperparameters\n",
    "  def __init__(self,\n",
    "               in_channels:int=1,\n",
    "               patch_size:int=8,\n",
    "               embedding_dim:int=64): # from Table 1 for ViT-Base\n",
    "    super().__init__()\n",
    "\n",
    "    self.patch_size = patch_size\n",
    "  \n",
    "    # 3. Create a layer to turn an image into embedded patches\n",
    "    self.patcher = nn.Conv2d(in_channels=in_channels,\n",
    "                             out_channels=embedding_dim,\n",
    "                             kernel_size=patch_size,\n",
    "                             stride=patch_size,\n",
    "                             padding=0)\n",
    "    \n",
    "    # 4. Create a layer to flatten feature map outputs of Conv2d\n",
    "    self.flatten = nn.Flatten(start_dim=2,\n",
    "                              end_dim=3)\n",
    "    \n",
    "  # 5. Define a forward method to define the forward computation steps\n",
    "  def forward(self, x):\n",
    "    # Create assertion to check that inputs are the correct shape\n",
    "    image_resolution = x.shape[-1]\n",
    "    assert image_resolution % patch_size == 0, f\"Input image size must be divisible by patch size, image shape: {image_resolution}, patch size: {self.patch_size}\"\n",
    "\n",
    "    # Perform the forward pass\n",
    "    x_patched = self.patcher(x) \n",
    "    x_flattened = self.flatten(x_patched)\n",
    "    # 6. Make the returned sequence embedding dimensions are in the right order (batch_size, number_of_patches, embedding_dimension)\n",
    "    return x_flattened.permute(0, 2, 1)\n"
   ]
  },
  {
   "cell_type": "code",
   "execution_count": 38,
   "id": "15e9d409",
   "metadata": {},
   "outputs": [
    {
     "name": "stdout",
     "output_type": "stream",
     "text": [
      "Input image size: torch.Size([1, 1, 32, 32])\n",
      "Output patch embedding sequence shape: torch.Size([1, 16, 64])\n"
     ]
    }
   ],
   "source": [
    "torch.manual_seed(42)\n",
    "\n",
    "# Create an instance of patch embedding layer\n",
    "patchify = PatchEmbedding(in_channels=1,\n",
    "                          patch_size=8,\n",
    "                          embedding_dim=64)\n",
    "\n",
    "# Pass a single image through patch embedding layer\n",
    "print(f\"Input image size: {train_data[0][0].unsqueeze(0).shape}\")\n",
    "patch_embedded_image = patchify(train_data[0][0].unsqueeze(0)) # add an extra batch dimension\n",
    "print(f\"Output patch embedding sequence shape: {patch_embedded_image.shape}\")"
   ]
  },
  {
   "cell_type": "code",
   "execution_count": 39,
   "id": "4f1cefe8",
   "metadata": {},
   "outputs": [
    {
     "data": {
      "text/plain": [
       "tensor([[[ 0.4689, -1.0576,  0.1939,  ...,  0.3344,  0.2627,  0.5901],\n",
       "         [ 0.3855, -0.2247,  0.1355,  ..., -0.0054,  0.3526,  0.4858],\n",
       "         [ 0.3549, -0.1911,  0.0733,  ..., -0.0311,  0.2553,  0.5321],\n",
       "         ...,\n",
       "         [ 0.0155, -0.7253,  0.1492,  ...,  0.1541,  0.0979, -0.0377],\n",
       "         [ 0.0347, -0.7641,  0.1041,  ...,  0.1323,  0.0941, -0.0051],\n",
       "         [ 0.2368, -1.1744,  0.1131,  ...,  0.5254,  0.1013,  0.4422]]],\n",
       "       grad_fn=<PermuteBackward0>)"
      ]
     },
     "execution_count": 39,
     "metadata": {},
     "output_type": "execute_result"
    }
   ],
   "source": [
    "patch_embedded_image"
   ]
  },
  {
   "cell_type": "code",
   "execution_count": 40,
   "id": "7d3d3f05",
   "metadata": {},
   "outputs": [],
   "source": [
    "class ViT(nn.Module): \n",
    "    def __init__(self,\n",
    "               img_size:int=32, # Table 3 from the ViT paper\n",
    "               in_channels:int=1,\n",
    "               patch_size:int=8, \n",
    "               num_transformer_layers:int=2, # Table 1 for \"Layers\" for ViT-Base\n",
    "               embedding_dim:int=64, # Hidden size D from Table 1 for ViT-Base\n",
    "               mlp_size:int=64, # Table 1\n",
    "               num_heads:int=2, # Table 1\n",
    "               attn_dropout:int=0,\n",
    "               mlp_dropout:int=0.1,\n",
    "               embedding_dropout:int=0.1, # Dropout for patch and position embeddings\n",
    "               num_classes:int=36): # number of classes in our classification problem\n",
    "        super().__init__()\n",
    "\n",
    "        self.num_patches = (img_size * img_size) // patch_size**2\n",
    "\n",
    "        self.patch_embedding = PatchEmbedding(in_channels=in_channels,patch_size=patch_size,embedding_dim=embedding_dim)\n",
    "\n",
    "        self.class_token = nn.Parameter(torch.randn(1,1,embedding_dim),requires_grad=True)\n",
    "\n",
    "        self.positional_embedding = nn.Parameter(torch.randn(1,17,embedding_dim))\n",
    "\n",
    "        self.dropout = nn.Dropout(p=embedding_dropout)\n",
    "\n",
    "#         self.transformer_encoder_layer= nn.TransformerEncoderLayer(d_model=embedding_dim,\n",
    "#                                                          nhead = num_heads,\n",
    "#                                                          dim_feedforward=mlp_size,\n",
    "#                                                          dropout=0.1,\n",
    "#                                                          activation = \"gelu\",\n",
    "#                                                          batch_first=True,\n",
    "#                                                          norm_first=True)\n",
    "\n",
    "        self.transformer_encoder = nn.TransformerEncoder(encoder_layer = nn.TransformerEncoderLayer(d_model=embedding_dim,\n",
    "                                                         nhead = num_heads,\n",
    "                                                         dim_feedforward=mlp_size,\n",
    "                                                         dropout=0.1,\n",
    "                                                         activation = \"gelu\",\n",
    "                                                         batch_first=True,\n",
    "                                                         norm_first=True),num_layers=num_transformer_layers)\n",
    "        \n",
    "            # Create classifier head\n",
    "        self.classifier = nn.Sequential(\n",
    "            nn.LayerNorm(normalized_shape=embedding_dim),\n",
    "            nn.Linear(in_features=embedding_dim,\n",
    "                      out_features=num_classes)\n",
    "        )\n",
    "    \n",
    "    def forward(self,x):\n",
    "        batch_size = x.shape[0]\n",
    "        \n",
    "        class_token = self.class_token.expand(batch_size, -1, -1) # \"-1\" means to infer the dimensions\n",
    "        x = self.patch_embedding(x)\n",
    "        x = torch.cat((class_token, x), dim=1)\n",
    "#         print(x.shape)\n",
    "        \n",
    "        x = self.positional_embedding + x\n",
    "        \n",
    "        x = self.dropout(x)\n",
    "\n",
    "        x = self.transformer_encoder(x)\n",
    "\n",
    "        x = self.classifier(x[:, 0])\n",
    "\n",
    "        return x \n",
    "\n",
    "        \n",
    "        "
   ]
  },
  {
   "cell_type": "code",
   "execution_count": 41,
   "id": "74cef403",
   "metadata": {},
   "outputs": [
    {
     "data": {
      "text/plain": [
       "tensor([[-0.5474,  0.3886,  0.9171,  0.4183, -0.1946, -0.2359,  0.2206,  0.1926,\n",
       "          0.9267, -0.0030, -0.0825, -0.5517,  1.0194, -1.0225, -0.3656, -0.2443,\n",
       "          0.2121,  0.2814,  0.7671,  0.2993, -0.1771,  0.2461, -0.5261,  0.7746,\n",
       "         -0.2434,  0.0063, -0.2855,  0.4956,  0.1114,  0.5046, -0.0013, -0.5472,\n",
       "         -0.4883, -0.2983,  0.3588,  0.1217]], grad_fn=<AddmmBackward0>)"
      ]
     },
     "execution_count": 41,
     "metadata": {},
     "output_type": "execute_result"
    }
   ],
   "source": [
    "torch.manual_seed(42)\n",
    "vit = ViT(num_classes=36)\n",
    "\n",
    "# Pass the random image tensor to our ViT instance\n",
    "vit(train_data[0][0].unsqueeze(0))"
   ]
  },
  {
   "cell_type": "code",
   "execution_count": 42,
   "id": "04d7f884",
   "metadata": {},
   "outputs": [
    {
     "data": {
      "text/plain": [
       "36"
      ]
     },
     "execution_count": 42,
     "metadata": {},
     "output_type": "execute_result"
    }
   ],
   "source": [
    "len(class_name)"
   ]
  },
  {
   "cell_type": "code",
   "execution_count": 43,
   "id": "4f178b14",
   "metadata": {},
   "outputs": [
    {
     "data": {
      "text/plain": [
       "==================================================================================================================================\n",
       "Layer (type (var_name))                            Input Shape          Output Shape         Param #              Trainable\n",
       "==================================================================================================================================\n",
       "ViT (ViT)                                          [32, 1, 32, 32]      [32, 36]             1,152                True\n",
       "├─PatchEmbedding (patch_embedding)                 [32, 1, 32, 32]      [32, 16, 64]         --                   True\n",
       "│    └─Conv2d (patcher)                            [32, 1, 32, 32]      [32, 64, 4, 4]       4,160                True\n",
       "│    └─Flatten (flatten)                           [32, 64, 4, 4]       [32, 64, 16]         --                   --\n",
       "├─Dropout (dropout)                                [32, 17, 64]         [32, 17, 64]         --                   --\n",
       "├─TransformerEncoder (transformer_encoder)         [32, 17, 64]         [32, 17, 64]         --                   True\n",
       "│    └─ModuleList (layers)                         --                   --                   --                   True\n",
       "│    │    └─TransformerEncoderLayer (0)            [32, 17, 64]         [32, 17, 64]         25,216               True\n",
       "│    │    └─TransformerEncoderLayer (1)            [32, 17, 64]         [32, 17, 64]         25,216               True\n",
       "├─Sequential (classifier)                          [32, 64]             [32, 36]             --                   True\n",
       "│    └─LayerNorm (0)                               [32, 64]             [32, 64]             128                  True\n",
       "│    └─Linear (1)                                  [32, 64]             [32, 36]             2,340                True\n",
       "==================================================================================================================================\n",
       "Total params: 58,212\n",
       "Trainable params: 58,212\n",
       "Non-trainable params: 0\n",
       "Total mult-adds (Units.MEGABYTES): 2.21\n",
       "==================================================================================================================================\n",
       "Input size (MB): 0.13\n",
       "Forward/backward pass size (MB): 0.29\n",
       "Params size (MB): 0.03\n",
       "Estimated Total Size (MB): 0.45\n",
       "=================================================================================================================================="
      ]
     },
     "execution_count": 43,
     "metadata": {},
     "output_type": "execute_result"
    }
   ],
   "source": [
    "from torchinfo import summary\n",
    "\n",
    "summary(model=ViT(num_classes=len(class_name)),\n",
    "        input_size=(32, 1, 32, 32), # (batch_size, color_channels, height, width)\n",
    "        col_names=[\"input_size\", \"output_size\", \"num_params\", \"trainable\"],\n",
    "        col_width=20,\n",
    "        row_settings=[\"var_names\"])"
   ]
  },
  {
   "cell_type": "code",
   "execution_count": 44,
   "id": "2ad5653b",
   "metadata": {},
   "outputs": [],
   "source": [
    "loss_fn = nn.CrossEntropyLoss() \n",
    "optimizer = torch.optim.Adam(params=vit.parameters(),\n",
    "                             lr=0.00003)"
   ]
  },
  {
   "cell_type": "code",
   "execution_count": 45,
   "id": "81be3499",
   "metadata": {},
   "outputs": [],
   "source": [
    "def acc_fn(y_preds,y_blob_test):\n",
    "    count = 0\n",
    "    for i in range(len(y_preds)):\n",
    "        if y_preds[i] == y_blob_test[i]:\n",
    "            count+=1\n",
    "    return count*100/len(y_preds)"
   ]
  },
  {
   "cell_type": "code",
   "execution_count": 46,
   "id": "f0daffe6",
   "metadata": {},
   "outputs": [],
   "source": [
    "from tqdm import tqdm\n",
    "\n",
    "# Create train_step()\n",
    "def train_step(model: torch.nn.Module,\n",
    "               dataloader: torch.utils.data.DataLoader,\n",
    "               loss_fn: torch.nn.Module,\n",
    "               optimizer:torch.optim.Optimizer):\n",
    "    correct=0\n",
    "  # Put the model in train mode\n",
    "    model.train()\n",
    "\n",
    "  # Setup train loss and train accuracy values\n",
    "    train_loss, train_acc = 0, 0\n",
    "\n",
    "  # Loop through data loader data batches\n",
    "    for batch, (X, y) in tqdm(enumerate(dataloader)):\n",
    "\n",
    "    # 1. Forward pass\n",
    "        y_pred = model(X) # output model logits\n",
    "\n",
    "    # 2. Calculate the loss\n",
    "        loss = loss_fn(y_pred, y)\n",
    "        train_loss += loss.item()\n",
    "\n",
    "    # 3. Optimizer zero grad\n",
    "        optimizer.zero_grad()\n",
    "\n",
    "    # 4. Loss backward\n",
    "        loss.backward()\n",
    "\n",
    "    # 5. Optimizer step\n",
    "        optimizer.step()\n",
    "\n",
    "    # Calculate accuracy metric\n",
    "        y_pred_class = torch.argmax(torch.softmax(y_pred, dim=1), dim=1)\n",
    "        \n",
    "        for i in range(len(y_pred_class)):\n",
    "            if(int(y_pred_class[i]) == int(y[i])):\n",
    "                correct+=1\n",
    "#         print(y_pred_class)\n",
    "#         print(y)\n",
    "# #         if torch.eq(y_pred_class,y) :\n",
    "#         if int(y_pred_class) == int(y):\n",
    "#             correct+=1\n",
    "#         train_acc += (y_pred_class==y).sum().item()/len(y_pred)\n",
    "  \n",
    "  # Adjust metrics to get average loss and accuracy per batch\n",
    "    train_loss = train_loss / len(dataloader)\n",
    "    train_acc = correct*100 / len(train_data) \n",
    "    return train_loss, train_acc "
   ]
  },
  {
   "cell_type": "code",
   "execution_count": 47,
   "id": "62f011a2",
   "metadata": {},
   "outputs": [],
   "source": [
    "# Create a test step\n",
    "def test_step(model: torch.nn.Module,\n",
    "              dataloader: torch.utils.data.DataLoader,\n",
    "              loss_fn: torch.nn.Module):\n",
    "  # Put model in eval mode\n",
    "    model.eval()\n",
    "    correct=0\n",
    "  # Setup test loss and test accuracy values\n",
    "    test_loss, test_acc = 0,  0\n",
    "\n",
    "  # Turn on inference mode\n",
    "    with torch.inference_mode():\n",
    "    # Loop through DataLoader batches\n",
    "        for batch, (X, y) in tqdm(enumerate(dataloader)): \n",
    "\n",
    "      # 1. Forward pass\n",
    "            test_pred_logits = model(X)\n",
    "\n",
    "      # 2. Calculate the loss\n",
    "            loss = loss_fn(test_pred_logits, y)\n",
    "            test_loss += loss.item()\n",
    "\n",
    "      # Calculate the accuracy\n",
    "            test_pred_labels = test_pred_logits.argmax(dim=1)\n",
    "            for i in range(len(test_pred_labels)):\n",
    "                if(int(test_pred_labels[i]) == int(y[i])):\n",
    "                    correct+=1\n",
    "  # Adjust metrics to get average loss and accuracy per batch\n",
    "    test_loss = test_loss / len(dataloader)\n",
    "    test_acc = correct*100 / len(test_data)\n",
    "    return test_loss, test_acc"
   ]
  },
  {
   "cell_type": "code",
   "execution_count": 48,
   "id": "513c3b71",
   "metadata": {},
   "outputs": [],
   "source": [
    "# 1. Create a train function that takes in various model parameters + optimizer + dataloaders + loss function\n",
    "def train(model: torch.nn.Module,\n",
    "          train_dataloader,\n",
    "          test_dataloader,\n",
    "          optimizer,\n",
    "          loss_fn: torch.nn.Module = nn.CrossEntropyLoss(),\n",
    "          epochs: int = 10):\n",
    "  \n",
    "  # 2. Create empty results dictionary\n",
    "    results = {\"train_loss\": [],\n",
    "             \"train_acc\": [],\n",
    "             \"test_loss\": [],\n",
    "             \"test_acc\": []}\n",
    "  \n",
    "  # 3. Loop through training and testing steps for a number of epochs\n",
    "    for epoch in range(epochs):\n",
    "        train_loss, train_acc = train_step(model=model,\n",
    "                                       dataloader=train_dataloader,\n",
    "                                       loss_fn=loss_fn,\n",
    "                                       optimizer=optimizer)\n",
    "        test_loss, test_acc = test_step(model=model,\n",
    "                                    dataloader=test_dataloader,\n",
    "                                    loss_fn=loss_fn)\n",
    "    \n",
    "    # 4. Print out what's happening\n",
    "        print(f\"Epoch: {epoch} | Train loss: {train_loss:.4f} | Train acc: {train_acc:.4f} | Test loss: {test_loss:.4f} | Test acc: {test_acc:.4f}\")\n",
    "\n",
    "        # 5. Update results dictionary\n",
    "        results[\"train_loss\"].append(train_loss)\n",
    "        results[\"train_acc\"].append(train_acc)\n",
    "        results[\"test_loss\"].append(test_loss)\n",
    "        results[\"test_acc\"].append(test_acc)\n",
    "  \n",
    "  # 6. Return the filled results at the end of the epochs\n",
    "    return results"
   ]
  },
  {
   "cell_type": "code",
   "execution_count": 72,
   "id": "f22acb11",
   "metadata": {
    "scrolled": true
   },
   "outputs": [
    {
     "name": "stderr",
     "output_type": "stream",
     "text": [
      "645it [00:38, 16.57it/s]\n",
      "102it [00:06, 15.21it/s]\n"
     ]
    },
    {
     "name": "stdout",
     "output_type": "stream",
     "text": [
      "Epoch: 0 | Train loss: 0.8094 | Train acc: 74.9952 | Test loss: 0.3288 | Test acc: 89.0774\n"
     ]
    },
    {
     "name": "stderr",
     "output_type": "stream",
     "text": [
      "645it [00:38, 16.81it/s]\n",
      "102it [00:06, 15.07it/s]\n"
     ]
    },
    {
     "name": "stdout",
     "output_type": "stream",
     "text": [
      "Epoch: 1 | Train loss: 0.8007 | Train acc: 75.6157 | Test loss: 0.3313 | Test acc: 88.9540\n"
     ]
    },
    {
     "name": "stderr",
     "output_type": "stream",
     "text": [
      "645it [00:42, 15.16it/s]\n",
      "102it [00:06, 15.37it/s]\n"
     ]
    },
    {
     "name": "stdout",
     "output_type": "stream",
     "text": [
      "Epoch: 2 | Train loss: 0.8061 | Train acc: 75.2085 | Test loss: 0.3289 | Test acc: 89.0466\n"
     ]
    },
    {
     "name": "stderr",
     "output_type": "stream",
     "text": [
      "645it [00:38, 16.92it/s]\n",
      "102it [00:06, 15.68it/s]\n"
     ]
    },
    {
     "name": "stdout",
     "output_type": "stream",
     "text": [
      "Epoch: 3 | Train loss: 0.7945 | Train acc: 75.4315 | Test loss: 0.3301 | Test acc: 88.9540\n"
     ]
    },
    {
     "name": "stderr",
     "output_type": "stream",
     "text": [
      "645it [00:36, 17.50it/s]\n",
      "102it [00:06, 14.99it/s]\n"
     ]
    },
    {
     "name": "stdout",
     "output_type": "stream",
     "text": [
      "Epoch: 4 | Train loss: 0.8019 | Train acc: 75.6060 | Test loss: 0.3287 | Test acc: 89.1392\n"
     ]
    },
    {
     "name": "stderr",
     "output_type": "stream",
     "text": [
      "645it [00:36, 17.71it/s]\n",
      "102it [00:06, 16.32it/s]\n"
     ]
    },
    {
     "name": "stdout",
     "output_type": "stream",
     "text": [
      "Epoch: 5 | Train loss: 0.8074 | Train acc: 75.3539 | Test loss: 0.3298 | Test acc: 88.9849\n"
     ]
    },
    {
     "name": "stderr",
     "output_type": "stream",
     "text": [
      "645it [00:36, 17.58it/s]\n",
      "102it [00:07, 14.42it/s]\n"
     ]
    },
    {
     "name": "stdout",
     "output_type": "stream",
     "text": [
      "Epoch: 6 | Train loss: 0.8121 | Train acc: 75.1794 | Test loss: 0.3274 | Test acc: 88.9540\n"
     ]
    },
    {
     "name": "stderr",
     "output_type": "stream",
     "text": [
      "645it [00:37, 17.05it/s]\n",
      "102it [00:06, 16.09it/s]\n"
     ]
    },
    {
     "name": "stdout",
     "output_type": "stream",
     "text": [
      "Epoch: 7 | Train loss: 0.8166 | Train acc: 75.1406 | Test loss: 0.3362 | Test acc: 89.1083\n"
     ]
    },
    {
     "name": "stderr",
     "output_type": "stream",
     "text": [
      "645it [00:36, 17.79it/s]\n",
      "102it [00:07, 14.22it/s]\n"
     ]
    },
    {
     "name": "stdout",
     "output_type": "stream",
     "text": [
      "Epoch: 8 | Train loss: 0.8006 | Train acc: 75.2085 | Test loss: 0.3250 | Test acc: 89.0774\n"
     ]
    },
    {
     "name": "stderr",
     "output_type": "stream",
     "text": [
      "645it [00:37, 17.31it/s]\n",
      "102it [00:06, 15.92it/s]\n"
     ]
    },
    {
     "name": "stdout",
     "output_type": "stream",
     "text": [
      "Epoch: 9 | Train loss: 0.8112 | Train acc: 74.9176 | Test loss: 0.3314 | Test acc: 88.9849\n"
     ]
    },
    {
     "name": "stderr",
     "output_type": "stream",
     "text": [
      "112it [00:06, 17.16it/s]\n"
     ]
    },
    {
     "ename": "KeyboardInterrupt",
     "evalue": "",
     "output_type": "error",
     "traceback": [
      "\u001b[1;31m---------------------------------------------------------------------------\u001b[0m",
      "\u001b[1;31mKeyboardInterrupt\u001b[0m                         Traceback (most recent call last)",
      "Cell \u001b[1;32mIn[72], line 8\u001b[0m\n\u001b[0;32m      5\u001b[0m NUM_EPOCHS \u001b[38;5;241m=\u001b[39m \u001b[38;5;241m100\u001b[39m\n\u001b[0;32m      7\u001b[0m \u001b[38;5;66;03m# Train model_0\u001b[39;00m\n\u001b[1;32m----> 8\u001b[0m vit_results \u001b[38;5;241m=\u001b[39m \u001b[43mtrain\u001b[49m\u001b[43m(\u001b[49m\u001b[43mmodel\u001b[49m\u001b[38;5;241;43m=\u001b[39;49m\u001b[43mvit\u001b[49m\u001b[43m,\u001b[49m\n\u001b[0;32m      9\u001b[0m \u001b[43m                        \u001b[49m\u001b[43mtrain_dataloader\u001b[49m\u001b[38;5;241;43m=\u001b[39;49m\u001b[43mtrain_dataloader\u001b[49m\u001b[43m,\u001b[49m\n\u001b[0;32m     10\u001b[0m \u001b[43m                        \u001b[49m\u001b[43mtest_dataloader\u001b[49m\u001b[38;5;241;43m=\u001b[39;49m\u001b[43mtest_dataloader\u001b[49m\u001b[43m,\u001b[49m\n\u001b[0;32m     11\u001b[0m \u001b[43m                        \u001b[49m\u001b[43moptimizer\u001b[49m\u001b[38;5;241;43m=\u001b[39;49m\u001b[43moptimizer\u001b[49m\u001b[43m,\u001b[49m\n\u001b[0;32m     12\u001b[0m \u001b[43m                        \u001b[49m\u001b[43mloss_fn\u001b[49m\u001b[38;5;241;43m=\u001b[39;49m\u001b[43mloss_fn\u001b[49m\u001b[43m,\u001b[49m\n\u001b[0;32m     13\u001b[0m \u001b[43m                        \u001b[49m\u001b[43mepochs\u001b[49m\u001b[38;5;241;43m=\u001b[39;49m\u001b[43mNUM_EPOCHS\u001b[49m\u001b[43m)\u001b[49m\n",
      "Cell \u001b[1;32mIn[35], line 17\u001b[0m, in \u001b[0;36mtrain\u001b[1;34m(model, train_dataloader, test_dataloader, optimizer, loss_fn, epochs)\u001b[0m\n\u001b[0;32m     15\u001b[0m \u001b[38;5;66;03m# 3. Loop through training and testing steps for a number of epochs\u001b[39;00m\n\u001b[0;32m     16\u001b[0m   \u001b[38;5;28;01mfor\u001b[39;00m epoch \u001b[38;5;129;01min\u001b[39;00m \u001b[38;5;28mrange\u001b[39m(epochs):\n\u001b[1;32m---> 17\u001b[0m       train_loss, train_acc \u001b[38;5;241m=\u001b[39m \u001b[43mtrain_step\u001b[49m\u001b[43m(\u001b[49m\u001b[43mmodel\u001b[49m\u001b[38;5;241;43m=\u001b[39;49m\u001b[43mmodel\u001b[49m\u001b[43m,\u001b[49m\n\u001b[0;32m     18\u001b[0m \u001b[43m                                     \u001b[49m\u001b[43mdataloader\u001b[49m\u001b[38;5;241;43m=\u001b[39;49m\u001b[43mtrain_dataloader\u001b[49m\u001b[43m,\u001b[49m\n\u001b[0;32m     19\u001b[0m \u001b[43m                                     \u001b[49m\u001b[43mloss_fn\u001b[49m\u001b[38;5;241;43m=\u001b[39;49m\u001b[43mloss_fn\u001b[49m\u001b[43m,\u001b[49m\n\u001b[0;32m     20\u001b[0m \u001b[43m                                     \u001b[49m\u001b[43moptimizer\u001b[49m\u001b[38;5;241;43m=\u001b[39;49m\u001b[43moptimizer\u001b[49m\u001b[43m)\u001b[49m\n\u001b[0;32m     21\u001b[0m       test_loss, test_acc \u001b[38;5;241m=\u001b[39m test_step(model\u001b[38;5;241m=\u001b[39mmodel,\n\u001b[0;32m     22\u001b[0m                                   dataloader\u001b[38;5;241m=\u001b[39mtest_dataloader,\n\u001b[0;32m     23\u001b[0m                                   loss_fn\u001b[38;5;241m=\u001b[39mloss_fn)\n\u001b[0;32m     25\u001b[0m   \u001b[38;5;66;03m# 4. Print out what's happening\u001b[39;00m\n",
      "Cell \u001b[1;32mIn[30], line 19\u001b[0m, in \u001b[0;36mtrain_step\u001b[1;34m(model, dataloader, loss_fn, optimizer)\u001b[0m\n\u001b[0;32m     15\u001b[0m \u001b[38;5;66;03m# Loop through data loader data batches\u001b[39;00m\n\u001b[0;32m     16\u001b[0m   \u001b[38;5;28;01mfor\u001b[39;00m batch, (X, y) \u001b[38;5;129;01min\u001b[39;00m tqdm(\u001b[38;5;28menumerate\u001b[39m(dataloader)):\n\u001b[0;32m     17\u001b[0m \n\u001b[0;32m     18\u001b[0m   \u001b[38;5;66;03m# 1. Forward pass\u001b[39;00m\n\u001b[1;32m---> 19\u001b[0m       y_pred \u001b[38;5;241m=\u001b[39m \u001b[43mmodel\u001b[49m\u001b[43m(\u001b[49m\u001b[43mX\u001b[49m\u001b[43m)\u001b[49m \u001b[38;5;66;03m# output model logits\u001b[39;00m\n\u001b[0;32m     21\u001b[0m   \u001b[38;5;66;03m# 2. Calculate the loss\u001b[39;00m\n\u001b[0;32m     22\u001b[0m       loss \u001b[38;5;241m=\u001b[39m loss_fn(y_pred, y)\n",
      "File \u001b[1;32m~\\AppData\\Roaming\\Python\\Python311\\site-packages\\torch\\nn\\modules\\module.py:1501\u001b[0m, in \u001b[0;36mModule._call_impl\u001b[1;34m(self, *args, **kwargs)\u001b[0m\n\u001b[0;32m   1496\u001b[0m \u001b[38;5;66;03m# If we don't have any hooks, we want to skip the rest of the logic in\u001b[39;00m\n\u001b[0;32m   1497\u001b[0m \u001b[38;5;66;03m# this function, and just call forward.\u001b[39;00m\n\u001b[0;32m   1498\u001b[0m \u001b[38;5;28;01mif\u001b[39;00m \u001b[38;5;129;01mnot\u001b[39;00m (\u001b[38;5;28mself\u001b[39m\u001b[38;5;241m.\u001b[39m_backward_hooks \u001b[38;5;129;01mor\u001b[39;00m \u001b[38;5;28mself\u001b[39m\u001b[38;5;241m.\u001b[39m_backward_pre_hooks \u001b[38;5;129;01mor\u001b[39;00m \u001b[38;5;28mself\u001b[39m\u001b[38;5;241m.\u001b[39m_forward_hooks \u001b[38;5;129;01mor\u001b[39;00m \u001b[38;5;28mself\u001b[39m\u001b[38;5;241m.\u001b[39m_forward_pre_hooks\n\u001b[0;32m   1499\u001b[0m         \u001b[38;5;129;01mor\u001b[39;00m _global_backward_pre_hooks \u001b[38;5;129;01mor\u001b[39;00m _global_backward_hooks\n\u001b[0;32m   1500\u001b[0m         \u001b[38;5;129;01mor\u001b[39;00m _global_forward_hooks \u001b[38;5;129;01mor\u001b[39;00m _global_forward_pre_hooks):\n\u001b[1;32m-> 1501\u001b[0m     \u001b[38;5;28;01mreturn\u001b[39;00m \u001b[43mforward_call\u001b[49m\u001b[43m(\u001b[49m\u001b[38;5;241;43m*\u001b[39;49m\u001b[43margs\u001b[49m\u001b[43m,\u001b[49m\u001b[43m \u001b[49m\u001b[38;5;241;43m*\u001b[39;49m\u001b[38;5;241;43m*\u001b[39;49m\u001b[43mkwargs\u001b[49m\u001b[43m)\u001b[49m\n\u001b[0;32m   1502\u001b[0m \u001b[38;5;66;03m# Do not call functions when jit is used\u001b[39;00m\n\u001b[0;32m   1503\u001b[0m full_backward_hooks, non_full_backward_hooks \u001b[38;5;241m=\u001b[39m [], []\n",
      "Cell \u001b[1;32mIn[24], line 61\u001b[0m, in \u001b[0;36mViT.forward\u001b[1;34m(self, x)\u001b[0m\n\u001b[0;32m     57\u001b[0m x \u001b[38;5;241m=\u001b[39m \u001b[38;5;28mself\u001b[39m\u001b[38;5;241m.\u001b[39mpositional_embedding \u001b[38;5;241m+\u001b[39m x\n\u001b[0;32m     59\u001b[0m x \u001b[38;5;241m=\u001b[39m \u001b[38;5;28mself\u001b[39m\u001b[38;5;241m.\u001b[39mdropout(x)\n\u001b[1;32m---> 61\u001b[0m x \u001b[38;5;241m=\u001b[39m \u001b[38;5;28;43mself\u001b[39;49m\u001b[38;5;241;43m.\u001b[39;49m\u001b[43mtransformer_encoder\u001b[49m\u001b[43m(\u001b[49m\u001b[43mx\u001b[49m\u001b[43m)\u001b[49m\n\u001b[0;32m     63\u001b[0m x \u001b[38;5;241m=\u001b[39m \u001b[38;5;28mself\u001b[39m\u001b[38;5;241m.\u001b[39mclassifier(x[:, \u001b[38;5;241m0\u001b[39m])\n\u001b[0;32m     65\u001b[0m \u001b[38;5;28;01mreturn\u001b[39;00m x\n",
      "File \u001b[1;32m~\\AppData\\Roaming\\Python\\Python311\\site-packages\\torch\\nn\\modules\\module.py:1501\u001b[0m, in \u001b[0;36mModule._call_impl\u001b[1;34m(self, *args, **kwargs)\u001b[0m\n\u001b[0;32m   1496\u001b[0m \u001b[38;5;66;03m# If we don't have any hooks, we want to skip the rest of the logic in\u001b[39;00m\n\u001b[0;32m   1497\u001b[0m \u001b[38;5;66;03m# this function, and just call forward.\u001b[39;00m\n\u001b[0;32m   1498\u001b[0m \u001b[38;5;28;01mif\u001b[39;00m \u001b[38;5;129;01mnot\u001b[39;00m (\u001b[38;5;28mself\u001b[39m\u001b[38;5;241m.\u001b[39m_backward_hooks \u001b[38;5;129;01mor\u001b[39;00m \u001b[38;5;28mself\u001b[39m\u001b[38;5;241m.\u001b[39m_backward_pre_hooks \u001b[38;5;129;01mor\u001b[39;00m \u001b[38;5;28mself\u001b[39m\u001b[38;5;241m.\u001b[39m_forward_hooks \u001b[38;5;129;01mor\u001b[39;00m \u001b[38;5;28mself\u001b[39m\u001b[38;5;241m.\u001b[39m_forward_pre_hooks\n\u001b[0;32m   1499\u001b[0m         \u001b[38;5;129;01mor\u001b[39;00m _global_backward_pre_hooks \u001b[38;5;129;01mor\u001b[39;00m _global_backward_hooks\n\u001b[0;32m   1500\u001b[0m         \u001b[38;5;129;01mor\u001b[39;00m _global_forward_hooks \u001b[38;5;129;01mor\u001b[39;00m _global_forward_pre_hooks):\n\u001b[1;32m-> 1501\u001b[0m     \u001b[38;5;28;01mreturn\u001b[39;00m \u001b[43mforward_call\u001b[49m\u001b[43m(\u001b[49m\u001b[38;5;241;43m*\u001b[39;49m\u001b[43margs\u001b[49m\u001b[43m,\u001b[49m\u001b[43m \u001b[49m\u001b[38;5;241;43m*\u001b[39;49m\u001b[38;5;241;43m*\u001b[39;49m\u001b[43mkwargs\u001b[49m\u001b[43m)\u001b[49m\n\u001b[0;32m   1502\u001b[0m \u001b[38;5;66;03m# Do not call functions when jit is used\u001b[39;00m\n\u001b[0;32m   1503\u001b[0m full_backward_hooks, non_full_backward_hooks \u001b[38;5;241m=\u001b[39m [], []\n",
      "File \u001b[1;32m~\\AppData\\Roaming\\Python\\Python311\\site-packages\\torch\\nn\\modules\\transformer.py:315\u001b[0m, in \u001b[0;36mTransformerEncoder.forward\u001b[1;34m(self, src, mask, src_key_padding_mask, is_causal)\u001b[0m\n\u001b[0;32m    312\u001b[0m is_causal \u001b[38;5;241m=\u001b[39m make_causal\n\u001b[0;32m    314\u001b[0m \u001b[38;5;28;01mfor\u001b[39;00m mod \u001b[38;5;129;01min\u001b[39;00m \u001b[38;5;28mself\u001b[39m\u001b[38;5;241m.\u001b[39mlayers:\n\u001b[1;32m--> 315\u001b[0m     output \u001b[38;5;241m=\u001b[39m \u001b[43mmod\u001b[49m\u001b[43m(\u001b[49m\u001b[43moutput\u001b[49m\u001b[43m,\u001b[49m\u001b[43m \u001b[49m\u001b[43msrc_mask\u001b[49m\u001b[38;5;241;43m=\u001b[39;49m\u001b[43mmask\u001b[49m\u001b[43m,\u001b[49m\u001b[43m \u001b[49m\u001b[43mis_causal\u001b[49m\u001b[38;5;241;43m=\u001b[39;49m\u001b[43mis_causal\u001b[49m\u001b[43m,\u001b[49m\u001b[43m \u001b[49m\u001b[43msrc_key_padding_mask\u001b[49m\u001b[38;5;241;43m=\u001b[39;49m\u001b[43msrc_key_padding_mask_for_layers\u001b[49m\u001b[43m)\u001b[49m\n\u001b[0;32m    317\u001b[0m \u001b[38;5;28;01mif\u001b[39;00m convert_to_nested:\n\u001b[0;32m    318\u001b[0m     output \u001b[38;5;241m=\u001b[39m output\u001b[38;5;241m.\u001b[39mto_padded_tensor(\u001b[38;5;241m0.\u001b[39m)\n",
      "File \u001b[1;32m~\\AppData\\Roaming\\Python\\Python311\\site-packages\\torch\\nn\\modules\\module.py:1501\u001b[0m, in \u001b[0;36mModule._call_impl\u001b[1;34m(self, *args, **kwargs)\u001b[0m\n\u001b[0;32m   1496\u001b[0m \u001b[38;5;66;03m# If we don't have any hooks, we want to skip the rest of the logic in\u001b[39;00m\n\u001b[0;32m   1497\u001b[0m \u001b[38;5;66;03m# this function, and just call forward.\u001b[39;00m\n\u001b[0;32m   1498\u001b[0m \u001b[38;5;28;01mif\u001b[39;00m \u001b[38;5;129;01mnot\u001b[39;00m (\u001b[38;5;28mself\u001b[39m\u001b[38;5;241m.\u001b[39m_backward_hooks \u001b[38;5;129;01mor\u001b[39;00m \u001b[38;5;28mself\u001b[39m\u001b[38;5;241m.\u001b[39m_backward_pre_hooks \u001b[38;5;129;01mor\u001b[39;00m \u001b[38;5;28mself\u001b[39m\u001b[38;5;241m.\u001b[39m_forward_hooks \u001b[38;5;129;01mor\u001b[39;00m \u001b[38;5;28mself\u001b[39m\u001b[38;5;241m.\u001b[39m_forward_pre_hooks\n\u001b[0;32m   1499\u001b[0m         \u001b[38;5;129;01mor\u001b[39;00m _global_backward_pre_hooks \u001b[38;5;129;01mor\u001b[39;00m _global_backward_hooks\n\u001b[0;32m   1500\u001b[0m         \u001b[38;5;129;01mor\u001b[39;00m _global_forward_hooks \u001b[38;5;129;01mor\u001b[39;00m _global_forward_pre_hooks):\n\u001b[1;32m-> 1501\u001b[0m     \u001b[38;5;28;01mreturn\u001b[39;00m \u001b[43mforward_call\u001b[49m\u001b[43m(\u001b[49m\u001b[38;5;241;43m*\u001b[39;49m\u001b[43margs\u001b[49m\u001b[43m,\u001b[49m\u001b[43m \u001b[49m\u001b[38;5;241;43m*\u001b[39;49m\u001b[38;5;241;43m*\u001b[39;49m\u001b[43mkwargs\u001b[49m\u001b[43m)\u001b[49m\n\u001b[0;32m   1502\u001b[0m \u001b[38;5;66;03m# Do not call functions when jit is used\u001b[39;00m\n\u001b[0;32m   1503\u001b[0m full_backward_hooks, non_full_backward_hooks \u001b[38;5;241m=\u001b[39m [], []\n",
      "File \u001b[1;32m~\\AppData\\Roaming\\Python\\Python311\\site-packages\\torch\\nn\\modules\\transformer.py:588\u001b[0m, in \u001b[0;36mTransformerEncoderLayer.forward\u001b[1;34m(self, src, src_mask, src_key_padding_mask, is_causal)\u001b[0m\n\u001b[0;32m    586\u001b[0m x \u001b[38;5;241m=\u001b[39m src\n\u001b[0;32m    587\u001b[0m \u001b[38;5;28;01mif\u001b[39;00m \u001b[38;5;28mself\u001b[39m\u001b[38;5;241m.\u001b[39mnorm_first:\n\u001b[1;32m--> 588\u001b[0m     x \u001b[38;5;241m=\u001b[39m x \u001b[38;5;241m+\u001b[39m \u001b[38;5;28;43mself\u001b[39;49m\u001b[38;5;241;43m.\u001b[39;49m\u001b[43m_sa_block\u001b[49m\u001b[43m(\u001b[49m\u001b[38;5;28;43mself\u001b[39;49m\u001b[38;5;241;43m.\u001b[39;49m\u001b[43mnorm1\u001b[49m\u001b[43m(\u001b[49m\u001b[43mx\u001b[49m\u001b[43m)\u001b[49m\u001b[43m,\u001b[49m\u001b[43m \u001b[49m\u001b[43msrc_mask\u001b[49m\u001b[43m,\u001b[49m\u001b[43m \u001b[49m\u001b[43msrc_key_padding_mask\u001b[49m\u001b[43m,\u001b[49m\u001b[43m \u001b[49m\u001b[43mis_causal\u001b[49m\u001b[38;5;241;43m=\u001b[39;49m\u001b[43mis_causal\u001b[49m\u001b[43m)\u001b[49m\n\u001b[0;32m    589\u001b[0m     x \u001b[38;5;241m=\u001b[39m x \u001b[38;5;241m+\u001b[39m \u001b[38;5;28mself\u001b[39m\u001b[38;5;241m.\u001b[39m_ff_block(\u001b[38;5;28mself\u001b[39m\u001b[38;5;241m.\u001b[39mnorm2(x))\n\u001b[0;32m    590\u001b[0m \u001b[38;5;28;01melse\u001b[39;00m:\n",
      "File \u001b[1;32m~\\AppData\\Roaming\\Python\\Python311\\site-packages\\torch\\nn\\modules\\transformer.py:599\u001b[0m, in \u001b[0;36mTransformerEncoderLayer._sa_block\u001b[1;34m(self, x, attn_mask, key_padding_mask, is_causal)\u001b[0m\n\u001b[0;32m    597\u001b[0m \u001b[38;5;28;01mdef\u001b[39;00m \u001b[38;5;21m_sa_block\u001b[39m(\u001b[38;5;28mself\u001b[39m, x: Tensor,\n\u001b[0;32m    598\u001b[0m               attn_mask: Optional[Tensor], key_padding_mask: Optional[Tensor], is_causal: \u001b[38;5;28mbool\u001b[39m \u001b[38;5;241m=\u001b[39m \u001b[38;5;28;01mFalse\u001b[39;00m) \u001b[38;5;241m-\u001b[39m\u001b[38;5;241m>\u001b[39m Tensor:\n\u001b[1;32m--> 599\u001b[0m     x \u001b[38;5;241m=\u001b[39m \u001b[38;5;28;43mself\u001b[39;49m\u001b[38;5;241;43m.\u001b[39;49m\u001b[43mself_attn\u001b[49m\u001b[43m(\u001b[49m\u001b[43mx\u001b[49m\u001b[43m,\u001b[49m\u001b[43m \u001b[49m\u001b[43mx\u001b[49m\u001b[43m,\u001b[49m\u001b[43m \u001b[49m\u001b[43mx\u001b[49m\u001b[43m,\u001b[49m\n\u001b[0;32m    600\u001b[0m \u001b[43m                       \u001b[49m\u001b[43mattn_mask\u001b[49m\u001b[38;5;241;43m=\u001b[39;49m\u001b[43mattn_mask\u001b[49m\u001b[43m,\u001b[49m\n\u001b[0;32m    601\u001b[0m \u001b[43m                       \u001b[49m\u001b[43mkey_padding_mask\u001b[49m\u001b[38;5;241;43m=\u001b[39;49m\u001b[43mkey_padding_mask\u001b[49m\u001b[43m,\u001b[49m\n\u001b[0;32m    602\u001b[0m \u001b[43m                       \u001b[49m\u001b[43mneed_weights\u001b[49m\u001b[38;5;241;43m=\u001b[39;49m\u001b[38;5;28;43;01mFalse\u001b[39;49;00m\u001b[43m,\u001b[49m\u001b[43m \u001b[49m\u001b[43mis_causal\u001b[49m\u001b[38;5;241;43m=\u001b[39;49m\u001b[43mis_causal\u001b[49m\u001b[43m)\u001b[49m[\u001b[38;5;241m0\u001b[39m]\n\u001b[0;32m    603\u001b[0m     \u001b[38;5;28;01mreturn\u001b[39;00m \u001b[38;5;28mself\u001b[39m\u001b[38;5;241m.\u001b[39mdropout1(x)\n",
      "File \u001b[1;32m~\\AppData\\Roaming\\Python\\Python311\\site-packages\\torch\\nn\\modules\\module.py:1501\u001b[0m, in \u001b[0;36mModule._call_impl\u001b[1;34m(self, *args, **kwargs)\u001b[0m\n\u001b[0;32m   1496\u001b[0m \u001b[38;5;66;03m# If we don't have any hooks, we want to skip the rest of the logic in\u001b[39;00m\n\u001b[0;32m   1497\u001b[0m \u001b[38;5;66;03m# this function, and just call forward.\u001b[39;00m\n\u001b[0;32m   1498\u001b[0m \u001b[38;5;28;01mif\u001b[39;00m \u001b[38;5;129;01mnot\u001b[39;00m (\u001b[38;5;28mself\u001b[39m\u001b[38;5;241m.\u001b[39m_backward_hooks \u001b[38;5;129;01mor\u001b[39;00m \u001b[38;5;28mself\u001b[39m\u001b[38;5;241m.\u001b[39m_backward_pre_hooks \u001b[38;5;129;01mor\u001b[39;00m \u001b[38;5;28mself\u001b[39m\u001b[38;5;241m.\u001b[39m_forward_hooks \u001b[38;5;129;01mor\u001b[39;00m \u001b[38;5;28mself\u001b[39m\u001b[38;5;241m.\u001b[39m_forward_pre_hooks\n\u001b[0;32m   1499\u001b[0m         \u001b[38;5;129;01mor\u001b[39;00m _global_backward_pre_hooks \u001b[38;5;129;01mor\u001b[39;00m _global_backward_hooks\n\u001b[0;32m   1500\u001b[0m         \u001b[38;5;129;01mor\u001b[39;00m _global_forward_hooks \u001b[38;5;129;01mor\u001b[39;00m _global_forward_pre_hooks):\n\u001b[1;32m-> 1501\u001b[0m     \u001b[38;5;28;01mreturn\u001b[39;00m \u001b[43mforward_call\u001b[49m\u001b[43m(\u001b[49m\u001b[38;5;241;43m*\u001b[39;49m\u001b[43margs\u001b[49m\u001b[43m,\u001b[49m\u001b[43m \u001b[49m\u001b[38;5;241;43m*\u001b[39;49m\u001b[38;5;241;43m*\u001b[39;49m\u001b[43mkwargs\u001b[49m\u001b[43m)\u001b[49m\n\u001b[0;32m   1502\u001b[0m \u001b[38;5;66;03m# Do not call functions when jit is used\u001b[39;00m\n\u001b[0;32m   1503\u001b[0m full_backward_hooks, non_full_backward_hooks \u001b[38;5;241m=\u001b[39m [], []\n",
      "File \u001b[1;32m~\\AppData\\Roaming\\Python\\Python311\\site-packages\\torch\\nn\\modules\\activation.py:1205\u001b[0m, in \u001b[0;36mMultiheadAttention.forward\u001b[1;34m(self, query, key, value, key_padding_mask, need_weights, attn_mask, average_attn_weights, is_causal)\u001b[0m\n\u001b[0;32m   1191\u001b[0m     attn_output, attn_output_weights \u001b[38;5;241m=\u001b[39m F\u001b[38;5;241m.\u001b[39mmulti_head_attention_forward(\n\u001b[0;32m   1192\u001b[0m         query, key, value, \u001b[38;5;28mself\u001b[39m\u001b[38;5;241m.\u001b[39membed_dim, \u001b[38;5;28mself\u001b[39m\u001b[38;5;241m.\u001b[39mnum_heads,\n\u001b[0;32m   1193\u001b[0m         \u001b[38;5;28mself\u001b[39m\u001b[38;5;241m.\u001b[39min_proj_weight, \u001b[38;5;28mself\u001b[39m\u001b[38;5;241m.\u001b[39min_proj_bias,\n\u001b[1;32m   (...)\u001b[0m\n\u001b[0;32m   1202\u001b[0m         average_attn_weights\u001b[38;5;241m=\u001b[39maverage_attn_weights,\n\u001b[0;32m   1203\u001b[0m         is_causal\u001b[38;5;241m=\u001b[39mis_causal)\n\u001b[0;32m   1204\u001b[0m \u001b[38;5;28;01melse\u001b[39;00m:\n\u001b[1;32m-> 1205\u001b[0m     attn_output, attn_output_weights \u001b[38;5;241m=\u001b[39m \u001b[43mF\u001b[49m\u001b[38;5;241;43m.\u001b[39;49m\u001b[43mmulti_head_attention_forward\u001b[49m\u001b[43m(\u001b[49m\n\u001b[0;32m   1206\u001b[0m \u001b[43m        \u001b[49m\u001b[43mquery\u001b[49m\u001b[43m,\u001b[49m\u001b[43m \u001b[49m\u001b[43mkey\u001b[49m\u001b[43m,\u001b[49m\u001b[43m \u001b[49m\u001b[43mvalue\u001b[49m\u001b[43m,\u001b[49m\u001b[43m \u001b[49m\u001b[38;5;28;43mself\u001b[39;49m\u001b[38;5;241;43m.\u001b[39;49m\u001b[43membed_dim\u001b[49m\u001b[43m,\u001b[49m\u001b[43m \u001b[49m\u001b[38;5;28;43mself\u001b[39;49m\u001b[38;5;241;43m.\u001b[39;49m\u001b[43mnum_heads\u001b[49m\u001b[43m,\u001b[49m\n\u001b[0;32m   1207\u001b[0m \u001b[43m        \u001b[49m\u001b[38;5;28;43mself\u001b[39;49m\u001b[38;5;241;43m.\u001b[39;49m\u001b[43min_proj_weight\u001b[49m\u001b[43m,\u001b[49m\u001b[43m \u001b[49m\u001b[38;5;28;43mself\u001b[39;49m\u001b[38;5;241;43m.\u001b[39;49m\u001b[43min_proj_bias\u001b[49m\u001b[43m,\u001b[49m\n\u001b[0;32m   1208\u001b[0m \u001b[43m        \u001b[49m\u001b[38;5;28;43mself\u001b[39;49m\u001b[38;5;241;43m.\u001b[39;49m\u001b[43mbias_k\u001b[49m\u001b[43m,\u001b[49m\u001b[43m \u001b[49m\u001b[38;5;28;43mself\u001b[39;49m\u001b[38;5;241;43m.\u001b[39;49m\u001b[43mbias_v\u001b[49m\u001b[43m,\u001b[49m\u001b[43m \u001b[49m\u001b[38;5;28;43mself\u001b[39;49m\u001b[38;5;241;43m.\u001b[39;49m\u001b[43madd_zero_attn\u001b[49m\u001b[43m,\u001b[49m\n\u001b[0;32m   1209\u001b[0m \u001b[43m        \u001b[49m\u001b[38;5;28;43mself\u001b[39;49m\u001b[38;5;241;43m.\u001b[39;49m\u001b[43mdropout\u001b[49m\u001b[43m,\u001b[49m\u001b[43m \u001b[49m\u001b[38;5;28;43mself\u001b[39;49m\u001b[38;5;241;43m.\u001b[39;49m\u001b[43mout_proj\u001b[49m\u001b[38;5;241;43m.\u001b[39;49m\u001b[43mweight\u001b[49m\u001b[43m,\u001b[49m\u001b[43m \u001b[49m\u001b[38;5;28;43mself\u001b[39;49m\u001b[38;5;241;43m.\u001b[39;49m\u001b[43mout_proj\u001b[49m\u001b[38;5;241;43m.\u001b[39;49m\u001b[43mbias\u001b[49m\u001b[43m,\u001b[49m\n\u001b[0;32m   1210\u001b[0m \u001b[43m        \u001b[49m\u001b[43mtraining\u001b[49m\u001b[38;5;241;43m=\u001b[39;49m\u001b[38;5;28;43mself\u001b[39;49m\u001b[38;5;241;43m.\u001b[39;49m\u001b[43mtraining\u001b[49m\u001b[43m,\u001b[49m\n\u001b[0;32m   1211\u001b[0m \u001b[43m        \u001b[49m\u001b[43mkey_padding_mask\u001b[49m\u001b[38;5;241;43m=\u001b[39;49m\u001b[43mkey_padding_mask\u001b[49m\u001b[43m,\u001b[49m\n\u001b[0;32m   1212\u001b[0m \u001b[43m        \u001b[49m\u001b[43mneed_weights\u001b[49m\u001b[38;5;241;43m=\u001b[39;49m\u001b[43mneed_weights\u001b[49m\u001b[43m,\u001b[49m\n\u001b[0;32m   1213\u001b[0m \u001b[43m        \u001b[49m\u001b[43mattn_mask\u001b[49m\u001b[38;5;241;43m=\u001b[39;49m\u001b[43mattn_mask\u001b[49m\u001b[43m,\u001b[49m\n\u001b[0;32m   1214\u001b[0m \u001b[43m        \u001b[49m\u001b[43maverage_attn_weights\u001b[49m\u001b[38;5;241;43m=\u001b[39;49m\u001b[43maverage_attn_weights\u001b[49m\u001b[43m,\u001b[49m\n\u001b[0;32m   1215\u001b[0m \u001b[43m        \u001b[49m\u001b[43mis_causal\u001b[49m\u001b[38;5;241;43m=\u001b[39;49m\u001b[43mis_causal\u001b[49m\u001b[43m)\u001b[49m\n\u001b[0;32m   1216\u001b[0m \u001b[38;5;28;01mif\u001b[39;00m \u001b[38;5;28mself\u001b[39m\u001b[38;5;241m.\u001b[39mbatch_first \u001b[38;5;129;01mand\u001b[39;00m is_batched:\n\u001b[0;32m   1217\u001b[0m     \u001b[38;5;28;01mreturn\u001b[39;00m attn_output\u001b[38;5;241m.\u001b[39mtranspose(\u001b[38;5;241m1\u001b[39m, \u001b[38;5;241m0\u001b[39m), attn_output_weights\n",
      "File \u001b[1;32m~\\AppData\\Roaming\\Python\\Python311\\site-packages\\torch\\nn\\functional.py:5373\u001b[0m, in \u001b[0;36mmulti_head_attention_forward\u001b[1;34m(query, key, value, embed_dim_to_check, num_heads, in_proj_weight, in_proj_bias, bias_k, bias_v, add_zero_attn, dropout_p, out_proj_weight, out_proj_bias, training, key_padding_mask, need_weights, attn_mask, use_separate_proj_weight, q_proj_weight, k_proj_weight, v_proj_weight, static_k, static_v, average_attn_weights, is_causal)\u001b[0m\n\u001b[0;32m   5370\u001b[0m k \u001b[38;5;241m=\u001b[39m k\u001b[38;5;241m.\u001b[39mview(bsz, num_heads, src_len, head_dim)\n\u001b[0;32m   5371\u001b[0m v \u001b[38;5;241m=\u001b[39m v\u001b[38;5;241m.\u001b[39mview(bsz, num_heads, src_len, head_dim)\n\u001b[1;32m-> 5373\u001b[0m attn_output \u001b[38;5;241m=\u001b[39m \u001b[43mscaled_dot_product_attention\u001b[49m\u001b[43m(\u001b[49m\u001b[43mq\u001b[49m\u001b[43m,\u001b[49m\u001b[43m \u001b[49m\u001b[43mk\u001b[49m\u001b[43m,\u001b[49m\u001b[43m \u001b[49m\u001b[43mv\u001b[49m\u001b[43m,\u001b[49m\u001b[43m \u001b[49m\u001b[43mattn_mask\u001b[49m\u001b[43m,\u001b[49m\u001b[43m \u001b[49m\u001b[43mdropout_p\u001b[49m\u001b[43m,\u001b[49m\u001b[43m \u001b[49m\u001b[43mis_causal\u001b[49m\u001b[43m)\u001b[49m\n\u001b[0;32m   5374\u001b[0m attn_output \u001b[38;5;241m=\u001b[39m attn_output\u001b[38;5;241m.\u001b[39mpermute(\u001b[38;5;241m2\u001b[39m, \u001b[38;5;241m0\u001b[39m, \u001b[38;5;241m1\u001b[39m, \u001b[38;5;241m3\u001b[39m)\u001b[38;5;241m.\u001b[39mcontiguous()\u001b[38;5;241m.\u001b[39mview(bsz \u001b[38;5;241m*\u001b[39m tgt_len, embed_dim)\n\u001b[0;32m   5376\u001b[0m attn_output \u001b[38;5;241m=\u001b[39m linear(attn_output, out_proj_weight, out_proj_bias)\n",
      "\u001b[1;31mKeyboardInterrupt\u001b[0m: "
     ]
    }
   ],
   "source": [
    "# Set random seeds\n",
    "torch.manual_seed(42) \n",
    "\n",
    "# Set number of epochs\n",
    "NUM_EPOCHS = 100\n",
    "\n",
    "# Train model_0\n",
    "vit_results = train(model=vit,\n",
    "                        train_dataloader=train_dataloader,\n",
    "                        test_dataloader=test_dataloader,\n",
    "                        optimizer=optimizer,\n",
    "                        loss_fn=loss_fn,\n",
    "                        epochs=NUM_EPOCHS)"
   ]
  },
  {
   "cell_type": "code",
   "execution_count": 51,
   "id": "32addab0",
   "metadata": {},
   "outputs": [
    {
     "name": "stdout",
     "output_type": "stream",
     "text": [
      "{'train_loss': [1.1618178362070128, 1.1430982236714327, 1.1487995036812715, 1.1387720403745192, 1.1447693115056947], 'train_acc': [64.20399457048671, 64.91177040915261, 64.68392476245879, 65.01357378320729, 64.65483808415746], 'test_loss': [0.5781810216459573, 0.5679586307675231, 0.5664459008212183, 0.5601505415112364, 0.578780870811612], 'test_acc': [81.17864856525763, 80.68497377352669, 81.6414686825054, 81.51804998457266, 80.16044430731256]}\n"
     ]
    }
   ],
   "source": [
    "# print(vit_results)"
   ]
  },
  {
   "cell_type": "code",
   "execution_count": 7,
   "id": "666d0a3f",
   "metadata": {},
   "outputs": [],
   "source": [
    "from pathlib import Path\n",
    "\n",
    "# 1. Create models directory\n",
    "MODEL_PATH = Path(\"models\")\n",
    "MODEL_PATH.mkdir(parents=True, exist_ok=True)\n",
    "\n",
    "# 2. Create model save path\n",
    "MODEL_NAME = \"OCR2.pth\"\n",
    "MODEL_SAVE_PATH = MODEL_PATH / MODEL_NAME\n",
    "\n",
    "# 3. Save the model state dict\n",
    "print(f\"Saving model to: {MODEL_SAVE_PATH}\")\n",
    "torch.save(obj=vit.state_dict(),\n",
    "           f=MODEL_SAVE_PATH) "
   ]
  },
  {
   "cell_type": "code",
   "execution_count": 49,
   "id": "ad280a97",
   "metadata": {},
   "outputs": [
    {
     "data": {
      "text/plain": [
       "ViT(\n",
       "  (patch_embedding): PatchEmbedding(\n",
       "    (patcher): Conv2d(1, 64, kernel_size=(8, 8), stride=(8, 8))\n",
       "    (flatten): Flatten(start_dim=2, end_dim=3)\n",
       "  )\n",
       "  (dropout): Dropout(p=0.1, inplace=False)\n",
       "  (transformer_encoder): TransformerEncoder(\n",
       "    (layers): ModuleList(\n",
       "      (0-1): 2 x TransformerEncoderLayer(\n",
       "        (self_attn): MultiheadAttention(\n",
       "          (out_proj): NonDynamicallyQuantizableLinear(in_features=64, out_features=64, bias=True)\n",
       "        )\n",
       "        (linear1): Linear(in_features=64, out_features=64, bias=True)\n",
       "        (dropout): Dropout(p=0.1, inplace=False)\n",
       "        (linear2): Linear(in_features=64, out_features=64, bias=True)\n",
       "        (norm1): LayerNorm((64,), eps=1e-05, elementwise_affine=True)\n",
       "        (norm2): LayerNorm((64,), eps=1e-05, elementwise_affine=True)\n",
       "        (dropout1): Dropout(p=0.1, inplace=False)\n",
       "        (dropout2): Dropout(p=0.1, inplace=False)\n",
       "      )\n",
       "    )\n",
       "  )\n",
       "  (classifier): Sequential(\n",
       "    (0): LayerNorm((64,), eps=1e-05, elementwise_affine=True)\n",
       "    (1): Linear(in_features=64, out_features=36, bias=True)\n",
       "  )\n",
       ")"
      ]
     },
     "execution_count": 49,
     "metadata": {},
     "output_type": "execute_result"
    }
   ],
   "source": [
    "# Load a PyTorch model\n",
    "\n",
    "# Create a new instance of lienar regression model V2\n",
    "loaded_model_vit = ViT()\n",
    "\n",
    "# Load the saved model_1 state_dict\n",
    "loaded_model_vit.load_state_dict(torch.load(MODEL_SAVE_PATH))\n",
    "\n",
    "# Put the loaded model to device\n",
    "loaded_model_vit"
   ]
  },
  {
   "cell_type": "code",
   "execution_count": 50,
   "id": "cde5ecd8",
   "metadata": {},
   "outputs": [],
   "source": [
    "def make_predictions(model: torch.nn.Module,\n",
    "                     data: list):\n",
    "  pred_probs = []\n",
    "  model.eval()\n",
    "  with torch.inference_mode():\n",
    "    for sample in data:\n",
    "      # Prepare the sample (add a batch dimension and pass to target device)\n",
    "      sample = torch.unsqueeze(sample, dim=0)\n",
    "\n",
    "      # Forward pass (model outputs raw logits)\n",
    "      pred_logit = model(sample)\n",
    "\n",
    "      # Get prediction probability (logit -> prediction probability)\n",
    "      pred_prob = torch.softmax(pred_logit.squeeze(), dim=0)\n",
    "\n",
    "      # Get pred_prob off the GPU for further calculations\n",
    "      pred_probs.append(pred_prob)\n",
    "\n",
    "  # Stack the pred_probs to turn list into a tensor\n",
    "  return torch.stack(pred_probs)"
   ]
  },
  {
   "cell_type": "code",
   "execution_count": 59,
   "id": "9fe5ebd7",
   "metadata": {},
   "outputs": [
    {
     "data": {
      "text/plain": [
       "torch.Size([1, 32, 32])"
      ]
     },
     "execution_count": 59,
     "metadata": {},
     "output_type": "execute_result"
    }
   ],
   "source": [
    "import random\n",
    "# random.seed(42)\n",
    "test_samples = [] \n",
    "test_labels = []\n",
    "for sample, label in random.sample(list(test_data), k=9):\n",
    "  test_samples.append(sample)\n",
    "  test_labels.append(label)\n",
    "\n",
    "# View the first sample shape\n",
    "test_samples[0].shape"
   ]
  },
  {
   "cell_type": "code",
   "execution_count": 60,
   "id": "d7f7f538",
   "metadata": {},
   "outputs": [
    {
     "data": {
      "text/plain": [
       "tensor([[1.7623e-07, 5.3958e-16, 6.6347e-09, 2.9112e-12, 8.0710e-13, 9.3582e-11,\n",
       "         1.2236e-04, 1.0467e-13, 9.8256e-08, 1.6541e-09, 2.9229e-09, 1.0174e-03,\n",
       "         2.9428e-06, 5.4607e-08, 9.9490e-01, 3.6867e-03, 1.6255e-04, 2.0214e-06,\n",
       "         8.5248e-12, 6.3013e-15, 2.2941e-07, 2.9315e-06, 3.6005e-09, 9.2320e-10,\n",
       "         3.6946e-08, 1.0458e-04, 1.7450e-08, 2.3663e-07, 7.0988e-12, 8.4521e-17,\n",
       "         1.3940e-08, 2.2062e-12, 7.5723e-15, 7.7214e-16, 1.0966e-11, 7.6260e-09],\n",
       "        [4.5438e-03, 2.3274e-05, 3.4196e-03, 6.0636e-06, 1.2000e-03, 6.6339e-05,\n",
       "         2.8199e-04, 4.6187e-04, 1.2601e-06, 5.0643e-02, 2.1181e-04, 4.1224e-05,\n",
       "         3.1126e-03, 1.7178e-04, 7.0852e-05, 2.5956e-04, 8.4313e-03, 1.6361e-05,\n",
       "         7.4724e-05, 8.6287e-05, 6.3464e-06, 2.3326e-05, 1.6036e-05, 4.4138e-07,\n",
       "         3.2836e-03, 8.8151e-04, 9.0262e-01, 1.6429e-04, 2.7370e-06, 2.5403e-04,\n",
       "         9.0232e-04, 1.7221e-02, 1.9461e-04, 3.2892e-05, 2.3167e-04, 1.0378e-03]])"
      ]
     },
     "execution_count": 60,
     "metadata": {},
     "output_type": "execute_result"
    }
   ],
   "source": [
    "pred_probs = make_predictions(model=loaded_model_vit,\n",
    "                              data=test_samples)\n",
    "\n",
    "# View first two prediction probabilities\n",
    "pred_probs[:2]"
   ]
  },
  {
   "cell_type": "code",
   "execution_count": 61,
   "id": "2dc00d62",
   "metadata": {},
   "outputs": [
    {
     "data": {
      "text/plain": [
       "tensor([14, 26,  0, 29, 29,  2, 34, 10, 32])"
      ]
     },
     "execution_count": 61,
     "metadata": {},
     "output_type": "execute_result"
    }
   ],
   "source": [
    "# Convert prediction probabilities to labels\n",
    "pred_classes = pred_probs.argmax(dim=1)\n",
    "pred_classes"
   ]
  },
  {
   "cell_type": "code",
   "execution_count": 62,
   "id": "bc2c2c05",
   "metadata": {},
   "outputs": [
    {
     "data": {
      "image/png": "[encoded data removed]",
      "text/plain": [
       "<Figure size 900x900 with 9 Axes>"
      ]
     },
     "metadata": {},
     "output_type": "display_data"
    }
   ],
   "source": [
    "# Plot predictions\n",
    "plt.figure(figsize=(9, 9))\n",
    "nrows = 3\n",
    "ncols = 3\n",
    "for i, sample in enumerate(test_samples):\n",
    "  # Create subplot\n",
    "  plt.subplot(nrows, ncols, i+1)\n",
    "\n",
    "  # Plot the target image\n",
    "  plt.imshow(sample.squeeze(), cmap=\"gray\")\n",
    "\n",
    "  # Find the prediction (in text form, e.g \"Sandal\")\n",
    "  pred_label = class_name[pred_classes[i]]\n",
    "\n",
    "  # Get the truth label (in text form) \n",
    "  truth_label = class_name[test_labels[i]]\n",
    "\n",
    "  # Create a title for the plot\n",
    "  title_text = f\"Pred: {pred_label} | Truth: {truth_label}\"\n",
    "\n",
    "  # Check for equality between pred and truth and change color of title text\n",
    "  if pred_label == truth_label:\n",
    "    plt.title(title_text, fontsize=10, c=\"g\") # green text if prediction same as truth\n",
    "  else:\n",
    "    plt.title(title_text, fontsize=10, c=\"r\") \n",
    "  \n",
    "  plt.axis(False);"
   ]
  },
  {
   "cell_type": "code",
   "execution_count": 55,
   "id": "0507f6fe",
   "metadata": {},
   "outputs": [
    {
     "data": {
      "application/vnd.jupyter.widget-view+json": {
       "model_id": "5736ccc4a7724bf886acf14fa0ef471a",
       "version_major": 2,
       "version_minor": 0
      },
      "text/plain": [
       "Making predictions...:   0%|          | 0/102 [00:07<?, ?it/s]"
      ]
     },
     "metadata": {},
     "output_type": "display_data"
    },
    {
     "data": {
      "text/plain": [
       "tensor([28, 16, 32,  ..., 32, 32,  8])"
      ]
     },
     "execution_count": 55,
     "metadata": {},
     "output_type": "execute_result"
    }
   ],
   "source": [
    "from tqdm.auto import tqdm \n",
    "\n",
    "\n",
    "# 1. Make predictions with trained model\n",
    "y_preds = []\n",
    "vit.eval()\n",
    "with torch.inference_mode():\n",
    "  for X, y in tqdm(test_dataloader, desc=\"Making predictions...\"):\n",
    "    # Send the data and targets to target device\n",
    "    # Do the forward pass\n",
    "    y_logit = vit(X)\n",
    "    # Turn predictions from logits -> prediction probabilities -> prediction labels\n",
    "    y_pred = torch.softmax(y_logit.squeeze(), dim=0).argmax(dim=1)\n",
    "    # Put prediction on CPU for evaluation\n",
    "    y_preds.append(y_pred.cpu())\n",
    "\n",
    "# Concatenate list of predictions into a tensor\n",
    "# print(y_preds)\n",
    "y_pred_tensor = torch.cat(y_preds)\n",
    "y_pred_tensor"
   ]
  },
  {
   "cell_type": "code",
   "execution_count": 171,
   "id": "0d865489",
   "metadata": {},
   "outputs": [
    {
     "name": "stdout",
     "output_type": "stream",
     "text": [
      "Collecting mlxtend\n",
      "  Downloading mlxtend-0.22.0-py2.py3-none-any.whl (1.4 MB)\n",
      "                                              0.0/1.4 MB ? eta -:--:--\n",
      "                                              0.0/1.4 MB ? eta -:--:--\n",
      "                                              0.0/1.4 MB ? eta -:--:--\n",
      "                                              0.0/1.4 MB 660.6 kB/s eta 0:00:03\n",
      "     -                                        0.1/1.4 MB 550.5 kB/s eta 0:00:03\n",
      "     --                                       0.1/1.4 MB 512.0 kB/s eta 0:00:03\n",
      "     --                                       0.1/1.4 MB 512.0 kB/s eta 0:00:03\n",
      "     ---                                      0.1/1.4 MB 437.6 kB/s eta 0:00:03\n",
      "     ---                                      0.1/1.4 MB 437.6 kB/s eta 0:00:03\n",
      "     ---                                      0.1/1.4 MB 361.0 kB/s eta 0:00:04\n",
      "     ----                                     0.1/1.4 MB 388.1 kB/s eta 0:00:04\n",
      "     -----                                    0.2/1.4 MB 374.9 kB/s eta 0:00:04\n",
      "     -----                                    0.2/1.4 MB 393.8 kB/s eta 0:00:03\n",
      "     -----                                    0.2/1.4 MB 393.8 kB/s eta 0:00:03\n",
      "     ------                                   0.2/1.4 MB 382.6 kB/s eta 0:00:03\n",
      "     ------                                   0.2/1.4 MB 382.6 kB/s eta 0:00:03\n",
      "     -------                                  0.2/1.4 MB 376.8 kB/s eta 0:00:03\n",
      "     --------                                 0.3/1.4 MB 393.3 kB/s eta 0:00:03\n",
      "     --------                                 0.3/1.4 MB 399.3 kB/s eta 0:00:03\n",
      "     ---------                                0.3/1.4 MB 401.6 kB/s eta 0:00:03\n",
      "     ----------                               0.3/1.4 MB 400.9 kB/s eta 0:00:03\n",
      "     ----------                               0.4/1.4 MB 417.2 kB/s eta 0:00:03\n",
      "     -----------                              0.4/1.4 MB 422.0 kB/s eta 0:00:03\n",
      "     ------------                             0.4/1.4 MB 440.5 kB/s eta 0:00:03\n",
      "     -------------                            0.5/1.4 MB 437.0 kB/s eta 0:00:03\n",
      "     --------------                           0.5/1.4 MB 449.9 kB/s eta 0:00:02\n",
      "     --------------                           0.5/1.4 MB 440.3 kB/s eta 0:00:02\n",
      "     ---------------                          0.5/1.4 MB 440.1 kB/s eta 0:00:02\n",
      "     ----------------                         0.5/1.4 MB 442.6 kB/s eta 0:00:02\n",
      "     ----------------                         0.6/1.4 MB 442.4 kB/s eta 0:00:02\n",
      "     ----------------                         0.6/1.4 MB 434.2 kB/s eta 0:00:02\n",
      "     -----------------                        0.6/1.4 MB 439.5 kB/s eta 0:00:02\n",
      "     ------------------                       0.6/1.4 MB 437.0 kB/s eta 0:00:02\n",
      "     ------------------                       0.6/1.4 MB 437.0 kB/s eta 0:00:02\n",
      "     -------------------                      0.7/1.4 MB 434.7 kB/s eta 0:00:02\n",
      "     -------------------                      0.7/1.4 MB 430.3 kB/s eta 0:00:02\n",
      "     -------------------                      0.7/1.4 MB 430.3 kB/s eta 0:00:02\n",
      "     --------------------                     0.7/1.4 MB 432.8 kB/s eta 0:00:02\n",
      "     ---------------------                    0.7/1.4 MB 431.0 kB/s eta 0:00:02\n",
      "     ---------------------                    0.7/1.4 MB 431.0 kB/s eta 0:00:02\n",
      "     ----------------------                   0.8/1.4 MB 427.2 kB/s eta 0:00:02\n",
      "     -----------------------                  0.8/1.4 MB 425.7 kB/s eta 0:00:02\n",
      "     -----------------------                  0.8/1.4 MB 429.6 kB/s eta 0:00:02\n",
      "     ------------------------                 0.8/1.4 MB 424.4 kB/s eta 0:00:02\n",
      "     ------------------------                 0.8/1.4 MB 424.7 kB/s eta 0:00:02\n",
      "     -------------------------                0.8/1.4 MB 423.2 kB/s eta 0:00:02\n",
      "     -------------------------                0.9/1.4 MB 420.2 kB/s eta 0:00:02\n",
      "     --------------------------               0.9/1.4 MB 415.9 kB/s eta 0:00:02\n",
      "     --------------------------               0.9/1.4 MB 416.3 kB/s eta 0:00:02\n",
      "     ---------------------------              0.9/1.4 MB 416.7 kB/s eta 0:00:02\n",
      "     ----------------------------             1.0/1.4 MB 413.0 kB/s eta 0:00:01\n",
      "     ----------------------------             1.0/1.4 MB 411.9 kB/s eta 0:00:01\n",
      "     -----------------------------            1.0/1.4 MB 407.0 kB/s eta 0:00:01\n",
      "     -----------------------------            1.0/1.4 MB 404.0 kB/s eta 0:00:01\n",
      "     -----------------------------            1.0/1.4 MB 404.0 kB/s eta 0:00:01\n",
      "     ------------------------------           1.0/1.4 MB 398.9 kB/s eta 0:00:01\n",
      "     -------------------------------          1.1/1.4 MB 401.8 kB/s eta 0:00:01\n",
      "     -------------------------------          1.1/1.4 MB 398.6 kB/s eta 0:00:01\n",
      "     --------------------------------         1.1/1.4 MB 397.0 kB/s eta 0:00:01\n",
      "     --------------------------------         1.1/1.4 MB 397.7 kB/s eta 0:00:01\n",
      "     ---------------------------------        1.1/1.4 MB 396.9 kB/s eta 0:00:01\n",
      "     ----------------------------------       1.2/1.4 MB 396.8 kB/s eta 0:00:01\n",
      "     ----------------------------------       1.2/1.4 MB 397.5 kB/s eta 0:00:01\n",
      "     -----------------------------------      1.2/1.4 MB 395.9 kB/s eta 0:00:01\n",
      "     -----------------------------------      1.2/1.4 MB 395.3 kB/s eta 0:00:01\n",
      "     ------------------------------------     1.2/1.4 MB 395.9 kB/s eta 0:00:01\n",
      "     ------------------------------------     1.2/1.4 MB 393.2 kB/s eta 0:00:01\n",
      "     -------------------------------------    1.3/1.4 MB 392.0 kB/s eta 0:00:01\n",
      "     -------------------------------------    1.3/1.4 MB 392.6 kB/s eta 0:00:01\n",
      "     --------------------------------------   1.3/1.4 MB 392.0 kB/s eta 0:00:01\n",
      "     --------------------------------------   1.3/1.4 MB 392.7 kB/s eta 0:00:01\n",
      "     ---------------------------------------  1.3/1.4 MB 391.4 kB/s eta 0:00:01\n",
      "     ---------------------------------------  1.4/1.4 MB 390.3 kB/s eta 0:00:01\n",
      "     ---------------------------------------  1.4/1.4 MB 390.3 kB/s eta 0:00:01\n",
      "     ---------------------------------------- 1.4/1.4 MB 380.3 kB/s eta 0:00:00\n",
      "Requirement already satisfied: scipy>=1.2.1 in c:\\python311\\lib\\site-packages (from mlxtend) (1.10.1)\n",
      "Requirement already satisfied: numpy>=1.16.2 in c:\\python311\\lib\\site-packages (from mlxtend) (1.23.5)\n",
      "Requirement already satisfied: pandas>=0.24.2 in c:\\python311\\lib\\site-packages (from mlxtend) (2.0.0)\n",
      "Requirement already satisfied: scikit-learn>=1.0.2 in c:\\users\\ksipl\\appdata\\roaming\\python\\python311\\site-packages (from mlxtend) (1.3.0)\n",
      "Requirement already satisfied: matplotlib>=3.0.0 in c:\\python311\\lib\\site-packages (from mlxtend) (3.7.1)\n",
      "Requirement already satisfied: joblib>=0.13.2 in c:\\users\\ksipl\\appdata\\roaming\\python\\python311\\site-packages (from mlxtend) (1.3.1)\n",
      "Requirement already satisfied: setuptools in c:\\python311\\lib\\site-packages (from mlxtend) (65.5.0)\n",
      "Requirement already satisfied: contourpy>=1.0.1 in c:\\python311\\lib\\site-packages (from matplotlib>=3.0.0->mlxtend) (1.0.7)\n",
      "Requirement already satisfied: cycler>=0.10 in c:\\python311\\lib\\site-packages (from matplotlib>=3.0.0->mlxtend) (0.11.0)\n",
      "Requirement already satisfied: fonttools>=4.22.0 in c:\\python311\\lib\\site-packages (from matplotlib>=3.0.0->mlxtend) (4.39.3)\n",
      "Requirement already satisfied: kiwisolver>=1.0.1 in c:\\python311\\lib\\site-packages (from matplotlib>=3.0.0->mlxtend) (1.4.4)\n",
      "Requirement already satisfied: packaging>=20.0 in c:\\python311\\lib\\site-packages (from matplotlib>=3.0.0->mlxtend) (23.0)\n",
      "Requirement already satisfied: pillow>=6.2.0 in c:\\python311\\lib\\site-packages (from matplotlib>=3.0.0->mlxtend) (9.5.0)\n",
      "Requirement already satisfied: pyparsing>=2.3.1 in c:\\python311\\lib\\site-packages (from matplotlib>=3.0.0->mlxtend) (3.0.9)\n",
      "Requirement already satisfied: python-dateutil>=2.7 in c:\\python311\\lib\\site-packages (from matplotlib>=3.0.0->mlxtend) (2.8.2)\n",
      "Requirement already satisfied: pytz>=2020.1 in c:\\python311\\lib\\site-packages (from pandas>=0.24.2->mlxtend) (2023.3)\n",
      "Requirement already satisfied: tzdata>=2022.1 in c:\\python311\\lib\\site-packages (from pandas>=0.24.2->mlxtend) (2023.3)\n",
      "Requirement already satisfied: threadpoolctl>=2.0.0 in c:\\users\\ksipl\\appdata\\roaming\\python\\python311\\site-packages (from scikit-learn>=1.0.2->mlxtend) (3.1.0)\n",
      "Requirement already satisfied: six>=1.5 in c:\\python311\\lib\\site-packages (from python-dateutil>=2.7->matplotlib>=3.0.0->mlxtend) (1.16.0)\n",
      "Installing collected packages: mlxtend\n",
      "Successfully installed mlxtend-0.22.0\n"
     ]
    },
    {
     "name": "stdout",
     "output_type": "stream",
     "text": [
      "Requirement already satisfied: mlxtend in c:\\python311\\lib\\site-packages (0.22.0)\n",
      "Requirement already satisfied: scipy>=1.2.1 in c:\\python311\\lib\\site-packages (from mlxtend) (1.10.1)\n",
      "Requirement already satisfied: numpy>=1.16.2 in c:\\python311\\lib\\site-packages (from mlxtend) (1.23.5)\n",
      "Requirement already satisfied: pandas>=0.24.2 in c:\\python311\\lib\\site-packages (from mlxtend) (2.0.0)\n",
      "Requirement already satisfied: scikit-learn>=1.0.2 in c:\\users\\ksipl\\appdata\\roaming\\python\\python311\\site-packages (from mlxtend) (1.3.0)\n",
      "Requirement already satisfied: matplotlib>=3.0.0 in c:\\python311\\lib\\site-packages (from mlxtend) (3.7.1)\n",
      "Requirement already satisfied: joblib>=0.13.2 in c:\\users\\ksipl\\appdata\\roaming\\python\\python311\\site-packages (from mlxtend) (1.3.1)\n",
      "Requirement already satisfied: setuptools in c:\\python311\\lib\\site-packages (from mlxtend) (65.5.0)\n",
      "Requirement already satisfied: contourpy>=1.0.1 in c:\\python311\\lib\\site-packages (from matplotlib>=3.0.0->mlxtend) (1.0.7)\n",
      "Requirement already satisfied: cycler>=0.10 in c:\\python311\\lib\\site-packages (from matplotlib>=3.0.0->mlxtend) (0.11.0)\n",
      "Requirement already satisfied: fonttools>=4.22.0 in c:\\python311\\lib\\site-packages (from matplotlib>=3.0.0->mlxtend) (4.39.3)\n",
      "Requirement already satisfied: kiwisolver>=1.0.1 in c:\\python311\\lib\\site-packages (from matplotlib>=3.0.0->mlxtend) (1.4.4)\n",
      "Requirement already satisfied: packaging>=20.0 in c:\\python311\\lib\\site-packages (from matplotlib>=3.0.0->mlxtend) (23.0)\n",
      "Requirement already satisfied: pillow>=6.2.0 in c:\\python311\\lib\\site-packages (from matplotlib>=3.0.0->mlxtend) (9.5.0)\n",
      "Requirement already satisfied: pyparsing>=2.3.1 in c:\\python311\\lib\\site-packages (from matplotlib>=3.0.0->mlxtend) (3.0.9)\n",
      "Requirement already satisfied: python-dateutil>=2.7 in c:\\python311\\lib\\site-packages (from matplotlib>=3.0.0->mlxtend) (2.8.2)\n",
      "Requirement already satisfied: pytz>=2020.1 in c:\\python311\\lib\\site-packages (from pandas>=0.24.2->mlxtend) (2023.3)\n",
      "Requirement already satisfied: tzdata>=2022.1 in c:\\python311\\lib\\site-packages (from pandas>=0.24.2->mlxtend) (2023.3)\n",
      "Requirement already satisfied: threadpoolctl>=2.0.0 in c:\\users\\ksipl\\appdata\\roaming\\python\\python311\\site-packages (from scikit-learn>=1.0.2->mlxtend) (3.1.0)\n",
      "Requirement already satisfied: six>=1.5 in c:\\python311\\lib\\site-packages (from python-dateutil>=2.7->matplotlib>=3.0.0->mlxtend) (1.16.0)\n"
     ]
    }
   ],
   "source": [
    "!pip install mlxtend  \n"
   ]
  },
  {
   "cell_type": "code",
   "execution_count": 56,
   "id": "6c67878f",
   "metadata": {},
   "outputs": [
    {
     "data": {
      "text/plain": [
       "1"
      ]
     },
     "execution_count": 56,
     "metadata": {},
     "output_type": "execute_result"
    }
   ],
   "source": [
    "torch.tensor(test_data.targets).ndim"
   ]
  },
  {
   "cell_type": "code",
   "execution_count": 57,
   "id": "4c1b1a11",
   "metadata": {},
   "outputs": [
    {
     "data": {
      "text/plain": [
       "tensor([28, 16, 32, 15, 34, 11, 32, 34, 32, 34])"
      ]
     },
     "execution_count": 57,
     "metadata": {},
     "output_type": "execute_result"
    }
   ],
   "source": [
    "y_pred_tensor[:10]"
   ]
  },
  {
   "cell_type": "code",
   "execution_count": null,
   "id": "461966ab",
   "metadata": {},
   "outputs": [],
   "source": []
  },
  {
   "cell_type": "code",
   "execution_count": 58,
   "id": "6d6346f5",
   "metadata": {},
   "outputs": [
    {
     "name": "stderr",
     "output_type": "stream",
     "text": [
      "C:\\Users\\KSIPL\\AppData\\Roaming\\Python\\Python311\\site-packages\\torchaudio\\backend\\utils.py:74: UserWarning: No audio backend is available.\n",
      "  warnings.warn(\"No audio backend is available.\")\n"
     ]
    },
    {
     "data": {
      "image/png": "[encoded data removed]",
      "text/plain": [
       "<Figure size 1000x700 with 1 Axes>"
      ]
     },
     "metadata": {},
     "output_type": "display_data"
    }
   ],
   "source": [
    "from torchmetrics import ConfusionMatrix\n",
    "from mlxtend.plotting import plot_confusion_matrix\n",
    "\n",
    "# 2. Setup confusion instance and compare predictions to targets\n",
    "confmat = ConfusionMatrix(num_classes=len(class_name),task=\"multiclass\")\n",
    "confmat_tensor = confmat(preds=y_pred_tensor,\n",
    "                         target=torch.tensor(test_data.targets))\n",
    "\n",
    "# 3. Plot the confusion matrix\n",
    "fig, ax = plot_confusion_matrix(\n",
    "    conf_mat=confmat_tensor.numpy(), # matplotlib likes working with numpy\n",
    "    class_names=class_name,\n",
    "    figsize=(10, 7)\n",
    ")"
   ]
  },
  {
   "cell_type": "code",
   "execution_count": null,
   "id": "0ff42a4c",
   "metadata": {},
   "outputs": [],
   "source": []
  }
 ],
 "metadata": {
  "kernelspec": {
   "display_name": "Python 3 (ipykernel)",
   "language": "python",
   "name": "python3"
  },
  "language_info": {
   "codemirror_mode": {
    "name": "ipython",
    "version": 3
   },
   "file_extension": ".py",
   "mimetype": "text/x-python",
   "name": "python",
   "nbconvert_exporter": "python",
   "pygments_lexer": "ipython3",
   "version": "3.11.0"
  }
 },
 "nbformat": 4,
 "nbformat_minor": 5
}
