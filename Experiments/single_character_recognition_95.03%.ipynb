{
 "cells": [
  {
   "cell_type": "markdown",
   "id": "02b8742e",
   "metadata": {},
   "source": [
    "# TRAINING "
   ]
  },
  {
   "cell_type": "code",
   "execution_count": 2,
   "id": "3a9228ab",
   "metadata": {},
   "outputs": [
    {
     "name": "stdout",
     "output_type": "stream",
     "text": [
      "archive\\data\\training_data\\0\n",
      "0\n"
     ]
    },
    {
     "name": "stderr",
     "output_type": "stream",
     "text": [
      "100%|███████████████████████████████████████████████████████████████████████████████| 573/573 [00:00<00:00, 632.56it/s]\n"
     ]
    },
    {
     "name": "stdout",
     "output_type": "stream",
     "text": [
      "archive\\data\\training_data\\1\n",
      "1\n"
     ]
    },
    {
     "name": "stderr",
     "output_type": "stream",
     "text": [
      "100%|███████████████████████████████████████████████████████████████████████████████| 573/573 [00:00<00:00, 820.62it/s]\n"
     ]
    },
    {
     "name": "stdout",
     "output_type": "stream",
     "text": [
      "archive\\data\\training_data\\2\n",
      "2\n"
     ]
    },
    {
     "name": "stderr",
     "output_type": "stream",
     "text": [
      "100%|███████████████████████████████████████████████████████████████████████████████| 573/573 [00:00<00:00, 648.29it/s]\n"
     ]
    },
    {
     "name": "stdout",
     "output_type": "stream",
     "text": [
      "archive\\data\\training_data\\3\n",
      "3\n"
     ]
    },
    {
     "name": "stderr",
     "output_type": "stream",
     "text": [
      "100%|███████████████████████████████████████████████████████████████████████████████| 573/573 [00:00<00:00, 677.08it/s]\n"
     ]
    },
    {
     "name": "stdout",
     "output_type": "stream",
     "text": [
      "archive\\data\\training_data\\4\n",
      "4\n"
     ]
    },
    {
     "name": "stderr",
     "output_type": "stream",
     "text": [
      "100%|███████████████████████████████████████████████████████████████████████████████| 573/573 [00:00<00:00, 678.37it/s]\n"
     ]
    },
    {
     "name": "stdout",
     "output_type": "stream",
     "text": [
      "archive\\data\\training_data\\5\n",
      "5\n"
     ]
    },
    {
     "name": "stderr",
     "output_type": "stream",
     "text": [
      "100%|███████████████████████████████████████████████████████████████████████████████| 573/573 [00:00<00:00, 691.75it/s]\n"
     ]
    },
    {
     "name": "stdout",
     "output_type": "stream",
     "text": [
      "archive\\data\\training_data\\6\n",
      "6\n"
     ]
    },
    {
     "name": "stderr",
     "output_type": "stream",
     "text": [
      "100%|███████████████████████████████████████████████████████████████████████████████| 573/573 [00:00<00:00, 620.15it/s]\n"
     ]
    },
    {
     "name": "stdout",
     "output_type": "stream",
     "text": [
      "archive\\data\\training_data\\7\n",
      "7\n"
     ]
    },
    {
     "name": "stderr",
     "output_type": "stream",
     "text": [
      "100%|███████████████████████████████████████████████████████████████████████████████| 573/573 [00:00<00:00, 675.25it/s]\n"
     ]
    },
    {
     "name": "stdout",
     "output_type": "stream",
     "text": [
      "archive\\data\\training_data\\8\n",
      "8\n"
     ]
    },
    {
     "name": "stderr",
     "output_type": "stream",
     "text": [
      "100%|███████████████████████████████████████████████████████████████████████████████| 573/573 [00:00<00:00, 694.81it/s]\n"
     ]
    },
    {
     "name": "stdout",
     "output_type": "stream",
     "text": [
      "archive\\data\\training_data\\9\n",
      "9\n"
     ]
    },
    {
     "name": "stderr",
     "output_type": "stream",
     "text": [
      "100%|███████████████████████████████████████████████████████████████████████████████| 573/573 [00:00<00:00, 653.96it/s]\n"
     ]
    },
    {
     "name": "stdout",
     "output_type": "stream",
     "text": [
      "archive\\data\\training_data\\A\n",
      "10\n"
     ]
    },
    {
     "name": "stderr",
     "output_type": "stream",
     "text": [
      "100%|███████████████████████████████████████████████████████████████████████████████| 573/573 [00:01<00:00, 521.97it/s]\n"
     ]
    },
    {
     "name": "stdout",
     "output_type": "stream",
     "text": [
      "archive\\data\\training_data\\B\n",
      "11\n"
     ]
    },
    {
     "name": "stderr",
     "output_type": "stream",
     "text": [
      "100%|███████████████████████████████████████████████████████████████████████████████| 573/573 [00:00<00:00, 677.44it/s]\n"
     ]
    },
    {
     "name": "stdout",
     "output_type": "stream",
     "text": [
      "archive\\data\\training_data\\C\n",
      "12\n"
     ]
    },
    {
     "name": "stderr",
     "output_type": "stream",
     "text": [
      "100%|███████████████████████████████████████████████████████████████████████████████| 573/573 [00:00<00:00, 675.27it/s]\n"
     ]
    },
    {
     "name": "stdout",
     "output_type": "stream",
     "text": [
      "archive\\data\\training_data\\D\n",
      "13\n"
     ]
    },
    {
     "name": "stderr",
     "output_type": "stream",
     "text": [
      "100%|███████████████████████████████████████████████████████████████████████████████| 573/573 [00:00<00:00, 659.64it/s]\n"
     ]
    },
    {
     "name": "stdout",
     "output_type": "stream",
     "text": [
      "archive\\data\\training_data\\E\n",
      "14\n"
     ]
    },
    {
     "name": "stderr",
     "output_type": "stream",
     "text": [
      "100%|███████████████████████████████████████████████████████████████████████████████| 573/573 [00:01<00:00, 556.29it/s]\n"
     ]
    },
    {
     "name": "stdout",
     "output_type": "stream",
     "text": [
      "archive\\data\\training_data\\F\n",
      "15\n"
     ]
    },
    {
     "name": "stderr",
     "output_type": "stream",
     "text": [
      "100%|███████████████████████████████████████████████████████████████████████████████| 573/573 [00:00<00:00, 648.31it/s]\n"
     ]
    },
    {
     "name": "stdout",
     "output_type": "stream",
     "text": [
      "archive\\data\\training_data\\G\n",
      "16\n"
     ]
    },
    {
     "name": "stderr",
     "output_type": "stream",
     "text": [
      "100%|███████████████████████████████████████████████████████████████████████████████| 573/573 [00:01<00:00, 556.74it/s]\n"
     ]
    },
    {
     "name": "stdout",
     "output_type": "stream",
     "text": [
      "archive\\data\\training_data\\H\n",
      "17\n"
     ]
    },
    {
     "name": "stderr",
     "output_type": "stream",
     "text": [
      "100%|███████████████████████████████████████████████████████████████████████████████| 573/573 [00:00<00:00, 576.06it/s]\n"
     ]
    },
    {
     "name": "stdout",
     "output_type": "stream",
     "text": [
      "archive\\data\\training_data\\I\n",
      "18\n"
     ]
    },
    {
     "name": "stderr",
     "output_type": "stream",
     "text": [
      "100%|███████████████████████████████████████████████████████████████████████████████| 573/573 [00:00<00:00, 749.33it/s]\n"
     ]
    },
    {
     "name": "stdout",
     "output_type": "stream",
     "text": [
      "archive\\data\\training_data\\J\n",
      "19\n"
     ]
    },
    {
     "name": "stderr",
     "output_type": "stream",
     "text": [
      "100%|███████████████████████████████████████████████████████████████████████████████| 573/573 [00:00<00:00, 603.00it/s]\n"
     ]
    },
    {
     "name": "stdout",
     "output_type": "stream",
     "text": [
      "archive\\data\\training_data\\K\n",
      "20\n"
     ]
    },
    {
     "name": "stderr",
     "output_type": "stream",
     "text": [
      "100%|███████████████████████████████████████████████████████████████████████████████| 573/573 [00:01<00:00, 514.86it/s]\n"
     ]
    },
    {
     "name": "stdout",
     "output_type": "stream",
     "text": [
      "archive\\data\\training_data\\L\n",
      "21\n"
     ]
    },
    {
     "name": "stderr",
     "output_type": "stream",
     "text": [
      "100%|███████████████████████████████████████████████████████████████████████████████| 573/573 [00:00<00:00, 668.49it/s]\n"
     ]
    },
    {
     "name": "stdout",
     "output_type": "stream",
     "text": [
      "archive\\data\\training_data\\M\n",
      "22\n"
     ]
    },
    {
     "name": "stderr",
     "output_type": "stream",
     "text": [
      "100%|███████████████████████████████████████████████████████████████████████████████| 573/573 [00:00<00:00, 603.82it/s]\n"
     ]
    },
    {
     "name": "stdout",
     "output_type": "stream",
     "text": [
      "archive\\data\\training_data\\N\n",
      "23\n"
     ]
    },
    {
     "name": "stderr",
     "output_type": "stream",
     "text": [
      "100%|███████████████████████████████████████████████████████████████████████████████| 573/573 [00:00<00:00, 664.93it/s]\n"
     ]
    },
    {
     "name": "stdout",
     "output_type": "stream",
     "text": [
      "archive\\data\\training_data\\O\n",
      "24\n"
     ]
    },
    {
     "name": "stderr",
     "output_type": "stream",
     "text": [
      "100%|███████████████████████████████████████████████████████████████████████████████| 573/573 [00:01<00:00, 534.97it/s]\n"
     ]
    },
    {
     "name": "stdout",
     "output_type": "stream",
     "text": [
      "archive\\data\\training_data\\P\n",
      "25\n"
     ]
    },
    {
     "name": "stderr",
     "output_type": "stream",
     "text": [
      "100%|███████████████████████████████████████████████████████████████████████████████| 573/573 [00:01<00:00, 502.35it/s]\n"
     ]
    },
    {
     "name": "stdout",
     "output_type": "stream",
     "text": [
      "archive\\data\\training_data\\Q\n",
      "26\n"
     ]
    },
    {
     "name": "stderr",
     "output_type": "stream",
     "text": [
      "100%|███████████████████████████████████████████████████████████████████████████████| 573/573 [00:01<00:00, 526.67it/s]\n"
     ]
    },
    {
     "name": "stdout",
     "output_type": "stream",
     "text": [
      "archive\\data\\training_data\\R\n",
      "27\n"
     ]
    },
    {
     "name": "stderr",
     "output_type": "stream",
     "text": [
      "100%|███████████████████████████████████████████████████████████████████████████████| 573/573 [00:01<00:00, 568.83it/s]\n"
     ]
    },
    {
     "name": "stdout",
     "output_type": "stream",
     "text": [
      "archive\\data\\training_data\\S\n",
      "28\n"
     ]
    },
    {
     "name": "stderr",
     "output_type": "stream",
     "text": [
      "100%|███████████████████████████████████████████████████████████████████████████████| 573/573 [00:00<00:00, 683.78it/s]\n"
     ]
    },
    {
     "name": "stdout",
     "output_type": "stream",
     "text": [
      "archive\\data\\training_data\\T\n",
      "29\n"
     ]
    },
    {
     "name": "stderr",
     "output_type": "stream",
     "text": [
      "100%|███████████████████████████████████████████████████████████████████████████████| 573/573 [00:00<00:00, 664.27it/s]\n"
     ]
    },
    {
     "name": "stdout",
     "output_type": "stream",
     "text": [
      "archive\\data\\training_data\\U\n",
      "30\n"
     ]
    },
    {
     "name": "stderr",
     "output_type": "stream",
     "text": [
      "100%|███████████████████████████████████████████████████████████████████████████████| 573/573 [00:01<00:00, 549.79it/s]\n"
     ]
    },
    {
     "name": "stdout",
     "output_type": "stream",
     "text": [
      "archive\\data\\training_data\\V\n",
      "31\n"
     ]
    },
    {
     "name": "stderr",
     "output_type": "stream",
     "text": [
      "100%|███████████████████████████████████████████████████████████████████████████████| 573/573 [00:01<00:00, 570.09it/s]\n"
     ]
    },
    {
     "name": "stdout",
     "output_type": "stream",
     "text": [
      "archive\\data\\training_data\\W\n",
      "32\n"
     ]
    },
    {
     "name": "stderr",
     "output_type": "stream",
     "text": [
      "100%|███████████████████████████████████████████████████████████████████████████████| 573/573 [00:00<00:00, 603.04it/s]\n"
     ]
    },
    {
     "name": "stdout",
     "output_type": "stream",
     "text": [
      "archive\\data\\training_data\\X\n",
      "33\n"
     ]
    },
    {
     "name": "stderr",
     "output_type": "stream",
     "text": [
      "100%|███████████████████████████████████████████████████████████████████████████████| 573/573 [00:00<00:00, 658.15it/s]\n"
     ]
    },
    {
     "name": "stdout",
     "output_type": "stream",
     "text": [
      "archive\\data\\training_data\\Y\n",
      "34\n"
     ]
    },
    {
     "name": "stderr",
     "output_type": "stream",
     "text": [
      "100%|███████████████████████████████████████████████████████████████████████████████| 573/573 [00:00<00:00, 699.12it/s]\n"
     ]
    },
    {
     "name": "stdout",
     "output_type": "stream",
     "text": [
      "archive\\data\\training_data\\Z\n",
      "35\n"
     ]
    },
    {
     "name": "stderr",
     "output_type": "stream",
     "text": [
      "100%|███████████████████████████████████████████████████████████████████████████████| 573/573 [00:00<00:00, 579.78it/s]"
     ]
    },
    {
     "name": "stdout",
     "output_type": "stream",
     "text": [
      "573\n",
      "573\n",
      "573\n",
      "573\n",
      "573\n",
      "573\n",
      "573\n",
      "573\n",
      "573\n",
      "573\n",
      "573\n",
      "573\n",
      "573\n",
      "573\n",
      "573\n",
      "573\n",
      "573\n",
      "573\n",
      "573\n",
      "573\n",
      "573\n",
      "573\n",
      "573\n",
      "573\n",
      "573\n",
      "573\n",
      "573\n",
      "573\n",
      "573\n",
      "573\n",
      "573\n",
      "573\n",
      "573\n",
      "573\n",
      "573\n",
      "573\n"
     ]
    },
    {
     "name": "stderr",
     "output_type": "stream",
     "text": [
      "\n"
     ]
    }
   ],
   "source": [
    "import os\n",
    "import cv2\n",
    "import numpy as np\n",
    "from tqdm import tqdm\n",
    "\n",
    "REBUILD_DATA = True\n",
    "\n",
    "class LettersAndDigits():\n",
    "    IMG_SIZE=50\n",
    "    FOLDER = \"archive\\data\\\\training_data\\\\\"\n",
    "    LABELS = {\"0\":0,\"1\":1,\"2\":2,\"3\":3,\"4\":4,\"5\":5,\"6\":6,\"7\":7,\"8\":8,\"9\":9,\"A\":10,\"B\":11,\"C\":12, 'D': 13, 'E': 14, 'F': 15, 'G': 16, 'H': 17, 'I': 18, 'J': 19, 'K': 20, 'L': 21, 'M': 22, 'N': 23, 'O': 24, 'P': 25, 'Q': 26, 'R': 27, 'S': 28, 'T': 29, 'U': 30, 'V': 31, 'W': 32, 'X': 33, 'Y': 34, 'Z': 35}\n",
    "    training_data = []\n",
    "    counts = {\"0\":0,\"1\":0,\"2\":0,\"3\":0,\"4\":0,\"5\":0,\"6\":0,\"7\":0,\"8\":0,\"9\":0,\"A\":0,\"B\":0,\"C\":0, 'D': 0, 'E': 0, 'F': 0, 'G': 0, 'H': 0, 'I': 0, 'J': 0, 'K': 0, 'L': 0, 'M': 0, 'N': 0, 'O': 0, 'P': 0, 'Q': 0, 'R': 0, 'S': 0, 'T': 0, 'U': 0, 'V': 0, 'W': 0, 'X': 0, 'Y': 0, 'Z': 0}\n",
    "    \n",
    "    def make_training_data(self):\n",
    "        for label in self.LABELS:\n",
    "            folderPath=self.FOLDER+label\n",
    "            print(folderPath)\n",
    "            print(self.LABELS[label])\n",
    "            for f in tqdm(os.listdir(folderPath)):\n",
    "                 try:\n",
    "                    path = os.path.join(folderPath, f)  #conplete path of file\n",
    "                    img = cv2.imread(path, cv2.IMREAD_GRAYSCALE)\n",
    "                    img = cv2.resize(img, (self.IMG_SIZE, self.IMG_SIZE))\n",
    "                    self.training_data.append([np.array(img), np.eye(36)[self.LABELS[label]]])\n",
    "                    \n",
    "                    for count in  self.counts:\n",
    "                        if label == count:\n",
    "                            self.counts[count]+=1\n",
    "                 except Exception as e:\n",
    "                    pass\n",
    "                \n",
    "        np.random.shuffle(self.training_data)\n",
    "        for count in  self.counts:\n",
    "            print(self.counts.get(count))\n",
    "        \n",
    "if REBUILD_DATA:\n",
    "    lettersanddigits = LettersAndDigits()\n",
    "    lettersanddigits.make_training_data()"
   ]
  },
  {
   "cell_type": "code",
   "execution_count": 3,
   "id": "a746beea",
   "metadata": {},
   "outputs": [
    {
     "name": "stdout",
     "output_type": "stream",
     "text": [
      "20628\n",
      "[array([[222, 223, 224, ..., 224, 226, 227],\n",
      "       [224, 224, 224, ..., 222, 225, 226],\n",
      "       [226, 226, 226, ..., 220, 223, 225],\n",
      "       ...,\n",
      "       [225, 224, 224, ..., 220, 224, 226],\n",
      "       [224, 224, 225, ..., 223, 224, 224],\n",
      "       [224, 224, 226, ..., 224, 224, 224]], dtype=uint8), array([0., 0., 0., 0., 0., 0., 0., 0., 0., 0., 0., 0., 1., 0., 0., 0., 0.,\n",
      "       0., 0., 0., 0., 0., 0., 0., 0., 0., 0., 0., 0., 0., 0., 0., 0., 0.,\n",
      "       0., 0.])]\n"
     ]
    }
   ],
   "source": [
    "print(len(lettersanddigits.training_data))\n",
    "print(lettersanddigits.training_data[0])"
   ]
  },
  {
   "cell_type": "code",
   "execution_count": 4,
   "id": "4d2fa8b3",
   "metadata": {},
   "outputs": [
    {
     "data": {
      "image/png": "[encoded data removed]",
      "text/plain": [
       "<Figure size 640x480 with 1 Axes>"
      ]
     },
     "metadata": {},
     "output_type": "display_data"
    }
   ],
   "source": [
    "import matplotlib.pyplot as plt\n",
    "plt.imshow(lettersanddigits.training_data[0][0])\n",
    "plt.show()"
   ]
  },
  {
   "cell_type": "code",
   "execution_count": 5,
   "id": "d35c322f",
   "metadata": {},
   "outputs": [
    {
     "name": "stdout",
     "output_type": "stream",
     "text": [
      "Net(\n",
      "  (conv1): Conv2d(1, 32, kernel_size=(5, 5), stride=(1, 1))\n",
      "  (conv2): Conv2d(32, 64, kernel_size=(5, 5), stride=(1, 1))\n",
      "  (conv3): Conv2d(64, 128, kernel_size=(5, 5), stride=(1, 1))\n",
      "  (fc1): Linear(in_features=512, out_features=512, bias=True)\n",
      "  (fc2): Linear(in_features=512, out_features=36, bias=True)\n",
      ")\n"
     ]
    }
   ],
   "source": [
    "import torch\n",
    "import torch.nn as nn\n",
    "import torch.nn.functional as F\n",
    "\n",
    "class Net(nn.Module):  #inheritance\n",
    "    \n",
    "    def __init__(self):\n",
    "        super().__init__()\n",
    "        self.conv1 = nn.Conv2d(1,32,5)  # 5 is kernel size 1,32 are input and output\n",
    "        self.conv2 = nn.Conv2d(32,64,5)  \n",
    "        self.conv3 = nn.Conv2d(64,128,5)\n",
    "        \n",
    "        x=torch.randn(50,50).view(-1,1,50,50)  # 1 comes from Conv1\n",
    "        self._to_linear = None       # to find what comes as input in self.fc1\n",
    "        self.convs(x)\n",
    "        \n",
    "        self.fc1 = nn.Linear(self._to_linear, 512) # we have to convert everything in linear\n",
    "        self.fc2 = nn.Linear(512, 36)\n",
    "        \n",
    "    def convs(self,x):\n",
    "        x = F.max_pool2d(F.relu(self.conv1(x)), (2, 2))\n",
    "        x = F.max_pool2d(F.relu(self.conv2(x)), (2, 2))\n",
    "        x = F.max_pool2d(F.relu(self.conv3(x)), (2, 2))\n",
    "        \n",
    "        if self._to_linear is None:\n",
    "            self._to_linear = x[0].shape[0]*x[0].shape[1]*x[0].shape[2]\n",
    "        return x\n",
    "    \n",
    "    def forward(self, x):\n",
    "        x = self.convs(x)\n",
    "        x = x.view(-1, self._to_linear)  # .view is reshape ... this flattens X before\n",
    "        x = F.relu(self.fc1(x))\n",
    "        x = self.fc2(x) # bc this is our output layer. No activation here.\n",
    "        return F.softmax(x, dim=1)\n",
    "        \n",
    "net = Net()\n",
    "\n",
    "print(net)"
   ]
  },
  {
   "cell_type": "code",
   "execution_count": 6,
   "id": "a32de2f8",
   "metadata": {},
   "outputs": [
    {
     "name": "stderr",
     "output_type": "stream",
     "text": [
      "C:\\Users\\KSIPL\\AppData\\Local\\Temp\\ipykernel_6996\\3545784155.py:6: UserWarning: Creating a tensor from a list of numpy.ndarrays is extremely slow. Please consider converting the list to a single numpy.ndarray with numpy.array() before converting to a tensor. (Triggered internally at ..\\torch\\csrc\\utils\\tensor_new.cpp:248.)\n",
      "  X = torch.Tensor([i[0] for i in lettersanddigits.training_data]).view(-1,50,50)\n"
     ]
    },
    {
     "name": "stdout",
     "output_type": "stream",
     "text": [
      "20628\n"
     ]
    }
   ],
   "source": [
    "import torch.optim as optim\n",
    "\n",
    "optimizer = optim.Adam(net.parameters(),lr=0.001)\n",
    "loss_function = nn.MSELoss()\n",
    "\n",
    "X = torch.Tensor([i[0] for i in lettersanddigits.training_data]).view(-1,50,50)\n",
    "X = X/255.0\n",
    "y = torch.Tensor([i[1] for i in lettersanddigits.training_data])\n",
    "\n",
    "train_X = X\n",
    "train_y = y\n",
    "\n",
    "print(len(train_X))\n",
    "# VAL_PCT = 0.1  # lets reserve 10% of our data for validation\n",
    "# val_size = int(len(X)*VAL_PCT)\n",
    "# print(val_size)"
   ]
  },
  {
   "cell_type": "code",
   "execution_count": 7,
   "id": "aa2d452e",
   "metadata": {},
   "outputs": [],
   "source": [
    "# train_X = X[:-val_size]\n",
    "# train_y = y[:-val_size]\n",
    "\n",
    "# test_X = X[-val_size:]\n",
    "# test_y = y[-val_size:]\n",
    "\n",
    "# print(len(train_X))\n",
    "# print(len(test_X ))"
   ]
  },
  {
   "cell_type": "code",
   "execution_count": 8,
   "id": "b72d4923",
   "metadata": {},
   "outputs": [],
   "source": [
    "BATCH_SIZE = 100\n",
    "EPOCHS = 5\n",
    "\n",
    "def train(net):\n",
    "    for epoch in range(EPOCHS):\n",
    "        for i in tqdm(range(0, len(train_X), BATCH_SIZE)): # from 0, to the len of x, stepping BATCH_SIZE at a time. [:50] ..for now just to dev\n",
    "            #print(f\"{i}:{i+BATCH_SIZE}\")\n",
    "            batch_X = train_X[i:i+BATCH_SIZE].view(-1, 1, 50, 50)\n",
    "            batch_y = train_y[i:i+BATCH_SIZE]\n",
    "\n",
    "            optimizer.zero_grad()\n",
    "\n",
    "            outputs = net(batch_X)\n",
    "            loss = loss_function(outputs, batch_y)\n",
    "            loss.backward()\n",
    "            optimizer.step()    # Does the update\n",
    "# print(loss)\n",
    "        print(f\"Epoch: {epoch}. Loss: {loss}\")"
   ]
  },
  {
   "cell_type": "code",
   "execution_count": 9,
   "id": "98d8a3bb",
   "metadata": {},
   "outputs": [
    {
     "name": "stderr",
     "output_type": "stream",
     "text": [
      "100%|████████████████████████████████████████████████████████████████████████████████| 207/207 [01:23<00:00,  2.48it/s]\n"
     ]
    },
    {
     "name": "stdout",
     "output_type": "stream",
     "text": [
      "Epoch: 0. Loss: 0.005270893685519695\n"
     ]
    },
    {
     "name": "stderr",
     "output_type": "stream",
     "text": [
      "100%|████████████████████████████████████████████████████████████████████████████████| 207/207 [01:27<00:00,  2.37it/s]\n"
     ]
    },
    {
     "name": "stdout",
     "output_type": "stream",
     "text": [
      "Epoch: 1. Loss: 0.005859795492142439\n"
     ]
    },
    {
     "name": "stderr",
     "output_type": "stream",
     "text": [
      "100%|████████████████████████████████████████████████████████████████████████████████| 207/207 [01:24<00:00,  2.45it/s]\n"
     ]
    },
    {
     "name": "stdout",
     "output_type": "stream",
     "text": [
      "Epoch: 2. Loss: 0.0032779821194708347\n"
     ]
    },
    {
     "name": "stderr",
     "output_type": "stream",
     "text": [
      "100%|████████████████████████████████████████████████████████████████████████████████| 207/207 [01:25<00:00,  2.43it/s]\n"
     ]
    },
    {
     "name": "stdout",
     "output_type": "stream",
     "text": [
      "Epoch: 3. Loss: 0.0031568105332553387\n"
     ]
    },
    {
     "name": "stderr",
     "output_type": "stream",
     "text": [
      "100%|████████████████████████████████████████████████████████████████████████████████| 207/207 [01:25<00:00,  2.42it/s]"
     ]
    },
    {
     "name": "stdout",
     "output_type": "stream",
     "text": [
      "Epoch: 4. Loss: 0.0023053335025906563\n"
     ]
    },
    {
     "name": "stderr",
     "output_type": "stream",
     "text": [
      "\n"
     ]
    }
   ],
   "source": [
    "train(net)"
   ]
  },
  {
   "cell_type": "markdown",
   "id": "bbe3c31e",
   "metadata": {},
   "source": [
    "# TESTING "
   ]
  },
  {
   "cell_type": "code",
   "execution_count": 10,
   "id": "6493547f",
   "metadata": {},
   "outputs": [
    {
     "name": "stdout",
     "output_type": "stream",
     "text": [
      "archive\\data\\testing_data\\0\n",
      "0\n"
     ]
    },
    {
     "name": "stderr",
     "output_type": "stream",
     "text": [
      "100%|█████████████████████████████████████████████████████████████████████████████████| 28/28 [00:00<00:00, 425.35it/s]\n"
     ]
    },
    {
     "name": "stdout",
     "output_type": "stream",
     "text": [
      "archive\\data\\testing_data\\1\n",
      "1\n"
     ]
    },
    {
     "name": "stderr",
     "output_type": "stream",
     "text": [
      "100%|█████████████████████████████████████████████████████████████████████████████████| 28/28 [00:00<00:00, 572.96it/s]\n"
     ]
    },
    {
     "name": "stdout",
     "output_type": "stream",
     "text": [
      "archive\\data\\testing_data\\2\n",
      "2\n"
     ]
    },
    {
     "name": "stderr",
     "output_type": "stream",
     "text": [
      "100%|█████████████████████████████████████████████████████████████████████████████████| 28/28 [00:00<00:00, 551.29it/s]\n"
     ]
    },
    {
     "name": "stdout",
     "output_type": "stream",
     "text": [
      "archive\\data\\testing_data\\3\n",
      "3\n"
     ]
    },
    {
     "name": "stderr",
     "output_type": "stream",
     "text": [
      "100%|█████████████████████████████████████████████████████████████████████████████████| 28/28 [00:00<00:00, 606.09it/s]\n"
     ]
    },
    {
     "name": "stdout",
     "output_type": "stream",
     "text": [
      "archive\\data\\testing_data\\4\n",
      "4\n"
     ]
    },
    {
     "name": "stderr",
     "output_type": "stream",
     "text": [
      "100%|█████████████████████████████████████████████████████████████████████████████████| 28/28 [00:00<00:00, 584.93it/s]\n"
     ]
    },
    {
     "name": "stdout",
     "output_type": "stream",
     "text": [
      "archive\\data\\testing_data\\5\n",
      "5\n"
     ]
    },
    {
     "name": "stderr",
     "output_type": "stream",
     "text": [
      "100%|█████████████████████████████████████████████████████████████████████████████████| 28/28 [00:00<00:00, 561.84it/s]\n"
     ]
    },
    {
     "name": "stdout",
     "output_type": "stream",
     "text": [
      "archive\\data\\testing_data\\6\n",
      "6\n"
     ]
    },
    {
     "name": "stderr",
     "output_type": "stream",
     "text": [
      "100%|█████████████████████████████████████████████████████████████████████████████████| 28/28 [00:00<00:00, 581.35it/s]\n"
     ]
    },
    {
     "name": "stdout",
     "output_type": "stream",
     "text": [
      "archive\\data\\testing_data\\7\n",
      "7\n"
     ]
    },
    {
     "name": "stderr",
     "output_type": "stream",
     "text": [
      "100%|█████████████████████████████████████████████████████████████████████████████████| 28/28 [00:00<00:00, 551.11it/s]\n"
     ]
    },
    {
     "name": "stdout",
     "output_type": "stream",
     "text": [
      "archive\\data\\testing_data\\8\n",
      "8\n"
     ]
    },
    {
     "name": "stderr",
     "output_type": "stream",
     "text": [
      "100%|█████████████████████████████████████████████████████████████████████████████████| 28/28 [00:00<00:00, 572.23it/s]\n"
     ]
    },
    {
     "name": "stdout",
     "output_type": "stream",
     "text": [
      "archive\\data\\testing_data\\9\n",
      "9\n"
     ]
    },
    {
     "name": "stderr",
     "output_type": "stream",
     "text": [
      "100%|█████████████████████████████████████████████████████████████████████████████████| 28/28 [00:00<00:00, 576.61it/s]\n"
     ]
    },
    {
     "name": "stdout",
     "output_type": "stream",
     "text": [
      "archive\\data\\testing_data\\A\n",
      "10\n"
     ]
    },
    {
     "name": "stderr",
     "output_type": "stream",
     "text": [
      "100%|█████████████████████████████████████████████████████████████████████████████████| 28/28 [00:00<00:00, 460.14it/s]\n"
     ]
    },
    {
     "name": "stdout",
     "output_type": "stream",
     "text": [
      "archive\\data\\testing_data\\B\n",
      "11\n"
     ]
    },
    {
     "name": "stderr",
     "output_type": "stream",
     "text": [
      "100%|█████████████████████████████████████████████████████████████████████████████████| 28/28 [00:00<00:00, 560.12it/s]\n"
     ]
    },
    {
     "name": "stdout",
     "output_type": "stream",
     "text": [
      "archive\\data\\testing_data\\C\n",
      "12\n"
     ]
    },
    {
     "name": "stderr",
     "output_type": "stream",
     "text": [
      "100%|█████████████████████████████████████████████████████████████████████████████████| 28/28 [00:00<00:00, 520.45it/s]\n"
     ]
    },
    {
     "name": "stdout",
     "output_type": "stream",
     "text": [
      "archive\\data\\testing_data\\D\n",
      "13\n"
     ]
    },
    {
     "name": "stderr",
     "output_type": "stream",
     "text": [
      "100%|█████████████████████████████████████████████████████████████████████████████████| 28/28 [00:00<00:00, 570.23it/s]\n"
     ]
    },
    {
     "name": "stdout",
     "output_type": "stream",
     "text": [
      "archive\\data\\testing_data\\E\n",
      "14\n"
     ]
    },
    {
     "name": "stderr",
     "output_type": "stream",
     "text": [
      "100%|█████████████████████████████████████████████████████████████████████████████████| 28/28 [00:00<00:00, 566.38it/s]\n"
     ]
    },
    {
     "name": "stdout",
     "output_type": "stream",
     "text": [
      "archive\\data\\testing_data\\F\n",
      "15\n"
     ]
    },
    {
     "name": "stderr",
     "output_type": "stream",
     "text": [
      "100%|█████████████████████████████████████████████████████████████████████████████████| 28/28 [00:00<00:00, 580.35it/s]\n"
     ]
    },
    {
     "name": "stdout",
     "output_type": "stream",
     "text": [
      "archive\\data\\testing_data\\G\n",
      "16\n"
     ]
    },
    {
     "name": "stderr",
     "output_type": "stream",
     "text": [
      "100%|█████████████████████████████████████████████████████████████████████████████████| 28/28 [00:00<00:00, 519.96it/s]\n"
     ]
    },
    {
     "name": "stdout",
     "output_type": "stream",
     "text": [
      "archive\\data\\testing_data\\H\n",
      "17\n"
     ]
    },
    {
     "name": "stderr",
     "output_type": "stream",
     "text": [
      "100%|█████████████████████████████████████████████████████████████████████████████████| 28/28 [00:00<00:00, 534.73it/s]\n"
     ]
    },
    {
     "name": "stdout",
     "output_type": "stream",
     "text": [
      "archive\\data\\testing_data\\I\n",
      "18\n"
     ]
    },
    {
     "name": "stderr",
     "output_type": "stream",
     "text": [
      "100%|█████████████████████████████████████████████████████████████████████████████████| 28/28 [00:00<00:00, 644.66it/s]\n"
     ]
    },
    {
     "name": "stdout",
     "output_type": "stream",
     "text": [
      "archive\\data\\testing_data\\J\n",
      "19\n"
     ]
    },
    {
     "name": "stderr",
     "output_type": "stream",
     "text": [
      "100%|█████████████████████████████████████████████████████████████████████████████████| 28/28 [00:00<00:00, 566.04it/s]\n"
     ]
    },
    {
     "name": "stdout",
     "output_type": "stream",
     "text": [
      "archive\\data\\testing_data\\K\n",
      "20\n"
     ]
    },
    {
     "name": "stderr",
     "output_type": "stream",
     "text": [
      "100%|█████████████████████████████████████████████████████████████████████████████████| 28/28 [00:00<00:00, 498.46it/s]\n"
     ]
    },
    {
     "name": "stdout",
     "output_type": "stream",
     "text": [
      "archive\\data\\testing_data\\L\n",
      "21\n"
     ]
    },
    {
     "name": "stderr",
     "output_type": "stream",
     "text": [
      "100%|█████████████████████████████████████████████████████████████████████████████████| 28/28 [00:00<00:00, 590.80it/s]\n"
     ]
    },
    {
     "name": "stdout",
     "output_type": "stream",
     "text": [
      "archive\\data\\testing_data\\M\n",
      "22\n"
     ]
    },
    {
     "name": "stderr",
     "output_type": "stream",
     "text": [
      "100%|█████████████████████████████████████████████████████████████████████████████████| 28/28 [00:00<00:00, 374.28it/s]\n"
     ]
    },
    {
     "name": "stdout",
     "output_type": "stream",
     "text": [
      "archive\\data\\testing_data\\N\n",
      "23\n"
     ]
    },
    {
     "name": "stderr",
     "output_type": "stream",
     "text": [
      "100%|█████████████████████████████████████████████████████████████████████████████████| 28/28 [00:00<00:00, 504.88it/s]\n"
     ]
    },
    {
     "name": "stdout",
     "output_type": "stream",
     "text": [
      "archive\\data\\testing_data\\O\n",
      "24\n"
     ]
    },
    {
     "name": "stderr",
     "output_type": "stream",
     "text": [
      "100%|█████████████████████████████████████████████████████████████████████████████████| 28/28 [00:00<00:00, 561.27it/s]\n"
     ]
    },
    {
     "name": "stdout",
     "output_type": "stream",
     "text": [
      "archive\\data\\testing_data\\P\n",
      "25\n"
     ]
    },
    {
     "name": "stderr",
     "output_type": "stream",
     "text": [
      "100%|█████████████████████████████████████████████████████████████████████████████████| 28/28 [00:00<00:00, 578.49it/s]\n"
     ]
    },
    {
     "name": "stdout",
     "output_type": "stream",
     "text": [
      "archive\\data\\testing_data\\Q\n",
      "26\n"
     ]
    },
    {
     "name": "stderr",
     "output_type": "stream",
     "text": [
      "100%|█████████████████████████████████████████████████████████████████████████████████| 28/28 [00:00<00:00, 623.87it/s]\n"
     ]
    },
    {
     "name": "stdout",
     "output_type": "stream",
     "text": [
      "archive\\data\\testing_data\\R\n",
      "27\n"
     ]
    },
    {
     "name": "stderr",
     "output_type": "stream",
     "text": [
      "100%|█████████████████████████████████████████████████████████████████████████████████| 28/28 [00:00<00:00, 647.58it/s]\n"
     ]
    },
    {
     "name": "stdout",
     "output_type": "stream",
     "text": [
      "archive\\data\\testing_data\\S\n",
      "28\n"
     ]
    },
    {
     "name": "stderr",
     "output_type": "stream",
     "text": [
      "100%|█████████████████████████████████████████████████████████████████████████████████| 28/28 [00:00<00:00, 636.67it/s]\n"
     ]
    },
    {
     "name": "stdout",
     "output_type": "stream",
     "text": [
      "archive\\data\\testing_data\\T\n",
      "29\n"
     ]
    },
    {
     "name": "stderr",
     "output_type": "stream",
     "text": [
      "100%|█████████████████████████████████████████████████████████████████████████████████| 28/28 [00:00<00:00, 644.09it/s]\n"
     ]
    },
    {
     "name": "stdout",
     "output_type": "stream",
     "text": [
      "archive\\data\\testing_data\\U\n",
      "30\n"
     ]
    },
    {
     "name": "stderr",
     "output_type": "stream",
     "text": [
      "100%|█████████████████████████████████████████████████████████████████████████████████| 28/28 [00:00<00:00, 626.96it/s]\n"
     ]
    },
    {
     "name": "stdout",
     "output_type": "stream",
     "text": [
      "archive\\data\\testing_data\\V\n",
      "31\n"
     ]
    },
    {
     "name": "stderr",
     "output_type": "stream",
     "text": [
      "100%|█████████████████████████████████████████████████████████████████████████████████| 28/28 [00:00<00:00, 623.85it/s]\n"
     ]
    },
    {
     "name": "stdout",
     "output_type": "stream",
     "text": [
      "archive\\data\\testing_data\\W\n",
      "32\n"
     ]
    },
    {
     "name": "stderr",
     "output_type": "stream",
     "text": [
      "100%|█████████████████████████████████████████████████████████████████████████████████| 28/28 [00:00<00:00, 618.25it/s]\n"
     ]
    },
    {
     "name": "stdout",
     "output_type": "stream",
     "text": [
      "archive\\data\\testing_data\\X\n",
      "33\n"
     ]
    },
    {
     "name": "stderr",
     "output_type": "stream",
     "text": [
      "100%|█████████████████████████████████████████████████████████████████████████████████| 28/28 [00:00<00:00, 623.80it/s]\n"
     ]
    },
    {
     "name": "stdout",
     "output_type": "stream",
     "text": [
      "archive\\data\\testing_data\\Y\n",
      "34\n"
     ]
    },
    {
     "name": "stderr",
     "output_type": "stream",
     "text": [
      "100%|█████████████████████████████████████████████████████████████████████████████████| 28/28 [00:00<00:00, 590.27it/s]\n"
     ]
    },
    {
     "name": "stdout",
     "output_type": "stream",
     "text": [
      "archive\\data\\testing_data\\Z\n",
      "35\n"
     ]
    },
    {
     "name": "stderr",
     "output_type": "stream",
     "text": [
      "100%|█████████████████████████████████████████████████████████████████████████████████| 28/28 [00:00<00:00, 599.65it/s]"
     ]
    },
    {
     "name": "stdout",
     "output_type": "stream",
     "text": [
      "28\n",
      "28\n",
      "28\n",
      "28\n",
      "28\n",
      "28\n",
      "28\n",
      "28\n",
      "28\n",
      "28\n",
      "28\n",
      "28\n",
      "28\n",
      "28\n",
      "28\n",
      "28\n",
      "28\n",
      "28\n",
      "28\n",
      "28\n",
      "28\n",
      "28\n",
      "28\n",
      "28\n",
      "28\n",
      "28\n",
      "28\n",
      "28\n",
      "28\n",
      "28\n",
      "28\n",
      "28\n",
      "28\n",
      "28\n",
      "28\n",
      "28\n"
     ]
    },
    {
     "name": "stderr",
     "output_type": "stream",
     "text": [
      "\n"
     ]
    }
   ],
   "source": [
    "class TestLettersAndDigits():\n",
    "    IMG_SIZE=50\n",
    "    FOLDER = \"archive\\data\\\\testing_data\\\\\"\n",
    "    LABELS = {\"0\":0,\"1\":1,\"2\":2,\"3\":3,\"4\":4,\"5\":5,\"6\":6,\"7\":7,\"8\":8,\"9\":9,\"A\":10,\"B\":11,\"C\":12, 'D': 13, 'E': 14, 'F': 15, 'G': 16, 'H': 17, 'I': 18, 'J': 19, 'K': 20, 'L': 21, 'M': 22, 'N': 23, 'O': 24, 'P': 25, 'Q': 26, 'R': 27, 'S': 28, 'T': 29, 'U': 30, 'V': 31, 'W': 32, 'X': 33, 'Y': 34, 'Z': 35}\n",
    "    testing_data = []\n",
    "    counts = {\"0\":0,\"1\":0,\"2\":0,\"3\":0,\"4\":0,\"5\":0,\"6\":0,\"7\":0,\"8\":0,\"9\":0,\"A\":0,\"B\":0,\"C\":0, 'D': 0, 'E': 0, 'F': 0, 'G': 0, 'H': 0, 'I': 0, 'J': 0, 'K': 0, 'L': 0, 'M': 0, 'N': 0, 'O': 0, 'P': 0, 'Q': 0, 'R': 0, 'S': 0, 'T': 0, 'U': 0, 'V': 0, 'W': 0, 'X': 0, 'Y': 0, 'Z': 0}\n",
    "    \n",
    "    def make_testing_data(self):\n",
    "        for label in self.LABELS:\n",
    "            folderPath=self.FOLDER+label\n",
    "            print(folderPath)\n",
    "            print(self.LABELS[label])\n",
    "            for f in tqdm(os.listdir(folderPath)):\n",
    "                 try:\n",
    "                    path = os.path.join(folderPath, f)  #conplete path of file\n",
    "                    img = cv2.imread(path, cv2.IMREAD_GRAYSCALE)\n",
    "                    img = cv2.resize(img, (self.IMG_SIZE, self.IMG_SIZE))\n",
    "                    self.testing_data.append([np.array(img), np.eye(36)[self.LABELS[label]]])\n",
    "                    \n",
    "                    for count in  self.counts:\n",
    "                        if label == count:\n",
    "                            self.counts[count]+=1\n",
    "                 except Exception as e:\n",
    "                    pass\n",
    "                \n",
    "        np.random.shuffle(self.testing_data)\n",
    "        for count in  self.counts:\n",
    "            print(self.counts.get(count))\n",
    "        \n",
    "\n",
    "testlettersanddigits = TestLettersAndDigits()\n",
    "testlettersanddigits.make_testing_data()"
   ]
  },
  {
   "cell_type": "code",
   "execution_count": 11,
   "id": "1509c836",
   "metadata": {},
   "outputs": [
    {
     "name": "stdout",
     "output_type": "stream",
     "text": [
      "1008\n",
      "[array([[216, 218, 221, ..., 220, 221, 221],\n",
      "       [219, 220, 221, ..., 219, 221, 222],\n",
      "       [219, 219, 221, ..., 218, 220, 222],\n",
      "       ...,\n",
      "       [218, 218, 218, ..., 218, 219, 221],\n",
      "       [220, 220, 219, ..., 217, 219, 220],\n",
      "       [221, 220, 218, ..., 219, 220, 221]], dtype=uint8), array([0., 0., 0., 0., 0., 0., 0., 0., 0., 0., 0., 0., 1., 0., 0., 0., 0.,\n",
      "       0., 0., 0., 0., 0., 0., 0., 0., 0., 0., 0., 0., 0., 0., 0., 0., 0.,\n",
      "       0., 0.])]\n"
     ]
    }
   ],
   "source": [
    "print(len(testlettersanddigits.testing_data))\n",
    "print(testlettersanddigits.testing_data[0])"
   ]
  },
  {
   "cell_type": "code",
   "execution_count": 12,
   "id": "433a61d1",
   "metadata": {},
   "outputs": [
    {
     "name": "stdout",
     "output_type": "stream",
     "text": [
      "1008\n"
     ]
    }
   ],
   "source": [
    "X = torch.Tensor([i[0] for i in testlettersanddigits.testing_data]).view(-1,50,50)\n",
    "X = X/255.0\n",
    "y = torch.Tensor([i[1] for i in testlettersanddigits.testing_data])\n",
    "\n",
    "test_X = X\n",
    "test_y = y\n",
    "\n",
    "print(len(test_X))"
   ]
  },
  {
   "cell_type": "code",
   "execution_count": 13,
   "id": "95d4fe67",
   "metadata": {},
   "outputs": [],
   "source": [
    "def test(net):\n",
    "    correct = 0\n",
    "    total = 0\n",
    "    with torch.no_grad():\n",
    "        for i in tqdm(range(len(test_X))):\n",
    "            real_class = torch.argmax(test_y[i])\n",
    "            net_out = net(test_X[i].view(-1, 1, 50, 50))[0]  # returns a list,\n",
    "            predicted_class = torch.argmax(net_out)\n",
    "\n",
    "            if predicted_class == real_class:\n",
    "                correct += 1\n",
    "            total += 1\n",
    "\n",
    "    print(\"Accuracy in % : \",correct*100/total)"
   ]
  },
  {
   "cell_type": "code",
   "execution_count": 14,
   "id": "6317e16b",
   "metadata": {},
   "outputs": [
    {
     "name": "stderr",
     "output_type": "stream",
     "text": [
      "100%|█████████████████████████████████████████████████████████████████████████████| 1008/1008 [00:02<00:00, 429.90it/s]"
     ]
    },
    {
     "name": "stdout",
     "output_type": "stream",
     "text": [
      "Accuracy in % :  95.03968253968254\n"
     ]
    },
    {
     "name": "stderr",
     "output_type": "stream",
     "text": [
      "\n"
     ]
    }
   ],
   "source": [
    "test(net)"
   ]
  },
  {
   "cell_type": "code",
   "execution_count": 19,
   "id": "e06bfc78",
   "metadata": {},
   "outputs": [],
   "source": [
    "model = Net()\n",
    "FILE =\"model.pth\"\n",
    "torch.save(model.state_dict(),FILE)"
   ]
  },
  {
   "cell_type": "code",
   "execution_count": 20,
   "id": "b4347263",
   "metadata": {},
   "outputs": [
    {
     "name": "stdout",
     "output_type": "stream",
     "text": [
      "Parameter containing:\n",
      "tensor([[[[ 1.4137e-01, -6.7040e-02, -1.5524e-01,  5.0090e-02,  1.9778e-01],\n",
      "          [-1.3913e-01, -6.1926e-02,  1.1030e-01,  9.6750e-02,  5.5349e-02],\n",
      "          [-3.4545e-02, -1.7579e-01, -1.0460e-01, -1.5678e-01, -1.5412e-01],\n",
      "          [-1.1255e-01,  3.3853e-02, -6.4553e-02, -4.4496e-02, -7.2702e-02],\n",
      "          [ 8.9895e-02, -2.6820e-02,  2.5490e-02,  8.3297e-02, -1.9237e-02]]],\n",
      "\n",
      "\n",
      "        [[[-7.4625e-02,  4.7676e-02,  1.6885e-01,  1.0760e-01, -1.6562e-01],\n",
      "          [-4.6374e-02, -1.9636e-01, -5.0601e-02,  1.9307e-01, -1.2925e-01],\n",
      "          [-1.8066e-01,  1.0491e-01,  1.7293e-01,  1.7997e-01, -1.2648e-02],\n",
      "          [ 1.9790e-01,  8.0355e-02, -1.1066e-01, -1.3697e-02, -1.0790e-03],\n",
      "          [-7.7424e-02,  2.8710e-02,  3.3628e-03, -3.0652e-03, -1.8843e-01]]],\n",
      "\n",
      "\n",
      "        [[[ 8.0725e-02,  9.7253e-02,  1.9204e-02,  1.3573e-01,  5.5001e-02],\n",
      "          [-1.0308e-01, -3.8093e-02,  1.1888e-01,  9.1751e-02, -1.1072e-01],\n",
      "          [ 1.1319e-01, -1.3159e-01,  1.7859e-01, -1.3158e-01, -5.3795e-02],\n",
      "          [-3.3852e-02,  6.9323e-02,  9.7840e-02, -6.4799e-02,  1.3603e-02],\n",
      "          [-1.8710e-01,  1.0644e-01, -6.8093e-02, -1.5446e-02, -1.8268e-01]]],\n",
      "\n",
      "\n",
      "        [[[ 9.1567e-02, -1.0318e-01,  1.7635e-01,  9.1067e-02, -6.1992e-02],\n",
      "          [-9.6571e-02, -1.4877e-01, -5.1500e-02, -9.5756e-02, -8.2879e-02],\n",
      "          [ 5.1938e-02, -1.3836e-01,  5.0540e-02, -3.6065e-03,  9.1382e-02],\n",
      "          [-4.8982e-02, -9.8344e-02, -9.1228e-02,  1.6267e-01, -1.3292e-01],\n",
      "          [ 3.4755e-02, -1.0978e-01,  1.3477e-01,  9.6093e-03, -1.2257e-01]]],\n",
      "\n",
      "\n",
      "        [[[ 8.4236e-02,  2.5198e-02, -1.1782e-01, -1.7095e-01,  3.6838e-02],\n",
      "          [ 1.3668e-01, -9.1235e-02, -1.5993e-01,  1.5487e-01,  2.1003e-02],\n",
      "          [ 1.3545e-01,  1.1857e-01,  1.3424e-01,  1.5905e-01,  1.4436e-01],\n",
      "          [-1.3237e-01, -1.1700e-01, -1.5550e-01, -1.5416e-01, -7.1297e-02],\n",
      "          [ 2.6364e-02, -1.5641e-01,  5.5829e-04,  6.9940e-02,  1.1673e-01]]],\n",
      "\n",
      "\n",
      "        [[[-9.1108e-02,  1.1088e-01, -6.5685e-02, -1.8014e-01, -9.2219e-02],\n",
      "          [-7.4009e-02, -5.1231e-02,  8.5595e-02,  1.7441e-01, -2.5943e-02],\n",
      "          [-8.4779e-02,  1.5374e-01,  8.4978e-03, -1.0629e-01, -1.5058e-01],\n",
      "          [-1.4468e-01,  1.5120e-01, -6.0786e-03, -1.8809e-01, -2.5615e-02],\n",
      "          [-1.2389e-01,  7.6174e-02, -2.7084e-02, -8.8258e-02,  3.8329e-02]]],\n",
      "\n",
      "\n",
      "        [[[-1.5401e-01,  1.9467e-01,  6.1215e-02, -1.8310e-01,  4.4267e-02],\n",
      "          [-1.4298e-02,  7.4863e-02, -5.0452e-02,  6.6268e-02, -1.8981e-01],\n",
      "          [-1.4592e-01,  4.0701e-02,  9.9478e-02, -2.6331e-02,  1.3817e-01],\n",
      "          [-6.4637e-02,  1.9895e-01,  9.8369e-02,  2.4355e-02, -7.2372e-02],\n",
      "          [ 1.2345e-01,  1.1994e-01,  1.6140e-01, -1.4519e-01, -3.7298e-03]]],\n",
      "\n",
      "\n",
      "        [[[ 1.2026e-01, -1.9477e-01,  1.4554e-01, -2.1665e-02, -1.2768e-01],\n",
      "          [-9.3021e-02,  2.3316e-02, -9.7420e-02, -4.5047e-02, -1.3061e-01],\n",
      "          [-1.6572e-01,  6.1312e-03, -1.9295e-01, -4.3201e-02,  1.7857e-01],\n",
      "          [ 1.3565e-01, -1.7224e-01,  6.5215e-02, -1.6671e-01,  5.0791e-02],\n",
      "          [-6.5049e-02, -1.6945e-01,  1.8196e-01,  4.8715e-02,  9.3883e-02]]],\n",
      "\n",
      "\n",
      "        [[[-7.2170e-02,  6.5414e-02, -1.9397e-01,  1.8339e-01,  1.4848e-01],\n",
      "          [ 1.9455e-01, -1.8021e-01,  1.4160e-02, -1.0619e-02,  4.6074e-02],\n",
      "          [-7.3204e-02, -1.8186e-03,  1.1344e-01, -1.0845e-01, -9.0951e-02],\n",
      "          [-9.9638e-02,  1.7230e-01,  1.5656e-01, -4.6912e-02, -1.1338e-01],\n",
      "          [ 8.0560e-02,  1.6565e-01,  1.0181e-01, -1.5055e-01,  1.6387e-01]]],\n",
      "\n",
      "\n",
      "        [[[ 1.9509e-01,  8.9665e-02, -6.5086e-02,  4.8598e-03, -9.0431e-02],\n",
      "          [ 4.6638e-02, -9.9835e-02,  2.5880e-02, -1.7355e-01, -3.5257e-02],\n",
      "          [ 8.6959e-02,  5.5378e-02, -1.0223e-01,  5.1368e-02, -7.1814e-02],\n",
      "          [-9.3637e-02, -7.0125e-02,  1.0912e-02,  8.0796e-02, -1.0376e-01],\n",
      "          [ 4.6863e-02, -3.6195e-02, -6.1915e-02, -4.2459e-02,  1.3536e-01]]],\n",
      "\n",
      "\n",
      "        [[[ 1.1863e-01, -3.3978e-02,  1.6125e-01,  1.1313e-01,  5.4709e-02],\n",
      "          [-1.0543e-01,  1.0168e-01,  1.4959e-02, -1.5870e-01, -1.9017e-01],\n",
      "          [ 6.2727e-02, -9.1188e-03,  2.9614e-02,  1.1913e-01, -9.2699e-02],\n",
      "          [ 1.0366e-01,  1.9250e-02,  4.6034e-02,  1.5992e-01,  1.4531e-02],\n",
      "          [-1.7115e-01, -4.5828e-02, -1.4274e-01,  5.8310e-02, -4.9386e-02]]],\n",
      "\n",
      "\n",
      "        [[[-2.8216e-02,  5.7235e-02, -7.5527e-03,  1.0694e-01,  1.0645e-01],\n",
      "          [-1.3745e-01, -9.8380e-02,  9.3341e-02,  7.4698e-02, -1.0175e-01],\n",
      "          [ 6.5177e-02,  1.2786e-01,  2.7037e-02,  1.2986e-01, -3.4450e-02],\n",
      "          [-4.6269e-02, -3.1029e-02, -9.3799e-02, -5.0873e-02, -1.9667e-01],\n",
      "          [ 1.0289e-01,  3.8146e-02, -7.0295e-02,  1.7307e-01,  1.3121e-01]]],\n",
      "\n",
      "\n",
      "        [[[-3.2190e-02, -1.9844e-01, -7.8235e-02, -1.7346e-01, -2.2081e-02],\n",
      "          [-1.7468e-01, -1.4248e-02,  3.6023e-02,  6.2107e-02, -8.0242e-02],\n",
      "          [-7.7613e-02, -7.5193e-03, -1.1332e-01, -2.1609e-02,  1.6939e-01],\n",
      "          [ 2.5891e-02,  5.9813e-02, -8.5018e-02, -1.5624e-01,  8.2240e-02],\n",
      "          [-1.4955e-02, -7.3196e-02, -5.1973e-02, -8.3407e-02,  5.0875e-02]]],\n",
      "\n",
      "\n",
      "        [[[-7.5210e-02, -9.9433e-02,  1.8102e-01,  1.2076e-01,  1.5081e-01],\n",
      "          [ 3.9114e-02, -1.4889e-01, -2.9355e-02, -1.9916e-01, -8.0511e-02],\n",
      "          [-1.1970e-01, -1.6398e-01,  7.1125e-02, -2.7186e-02, -5.0889e-03],\n",
      "          [ 1.1032e-01, -3.4138e-02, -6.3997e-02,  5.0590e-02, -5.8189e-02],\n",
      "          [ 2.2575e-02,  1.7361e-01,  4.5823e-02,  1.2108e-01,  1.0211e-01]]],\n",
      "\n",
      "\n",
      "        [[[ 1.8202e-01, -4.1562e-02, -6.3572e-02, -1.7608e-01,  1.1956e-01],\n",
      "          [ 1.9869e-02, -1.1973e-01, -1.8930e-01, -1.0700e-02, -1.1134e-01],\n",
      "          [ 6.4145e-02, -7.2747e-02, -1.2096e-01, -1.2398e-01, -1.5225e-01],\n",
      "          [ 2.2614e-02, -5.5529e-02, -1.5324e-01,  4.2212e-02, -5.3229e-02],\n",
      "          [ 1.9116e-03,  6.4341e-02,  9.2620e-02, -1.0098e-02,  7.0631e-02]]],\n",
      "\n",
      "\n",
      "        [[[-1.5496e-01, -1.8903e-01, -8.4076e-03,  1.9493e-01, -6.2136e-02],\n",
      "          [-3.4972e-02, -7.3842e-02,  4.6268e-03, -3.7970e-02, -9.2480e-02],\n",
      "          [ 1.7403e-01,  1.1413e-01, -1.5802e-01,  1.2234e-01,  5.7151e-02],\n",
      "          [ 1.0278e-01,  1.5025e-01,  4.4832e-02,  8.6446e-02, -3.2321e-02],\n",
      "          [ 1.7771e-01, -1.8254e-01, -1.8087e-01,  1.1082e-01,  2.4902e-02]]],\n",
      "\n",
      "\n",
      "        [[[-3.8659e-02,  1.8774e-01, -1.0475e-01,  1.9813e-01,  5.0248e-02],\n",
      "          [-1.3306e-01, -9.5975e-02, -1.7057e-01, -1.0685e-01,  4.9876e-02],\n",
      "          [-8.3381e-02, -1.4819e-01,  9.8607e-03,  7.9640e-02,  8.0604e-02],\n",
      "          [ 1.4594e-01, -9.4413e-02,  1.8872e-01,  8.0923e-02,  1.4297e-01],\n",
      "          [-2.5865e-02,  7.8107e-02, -1.0208e-01,  6.8427e-02, -1.4127e-01]]],\n",
      "\n",
      "\n",
      "        [[[-1.7989e-01, -1.3836e-01,  9.9307e-02,  1.6892e-01,  7.2108e-02],\n",
      "          [ 1.1194e-01, -7.1249e-02, -1.9197e-01, -1.3019e-02,  5.1014e-02],\n",
      "          [ 1.9141e-01, -4.5266e-02,  3.6936e-03, -1.1493e-01,  4.0586e-02],\n",
      "          [-1.6694e-01,  1.0759e-03, -2.7369e-02,  1.7990e-01, -1.7373e-01],\n",
      "          [ 1.0239e-01,  3.9741e-02,  4.9314e-02, -1.2240e-01, -5.2494e-02]]],\n",
      "\n",
      "\n",
      "        [[[ 9.8404e-02,  1.8232e-01, -1.1388e-01, -1.5121e-01, -1.9484e-01],\n",
      "          [-5.9291e-02,  7.5617e-03, -5.1465e-02, -1.4537e-02, -1.4491e-01],\n",
      "          [ 1.3947e-02, -3.9542e-02, -8.2455e-02,  7.1588e-02, -4.3055e-02],\n",
      "          [-8.7455e-03,  3.3602e-02,  8.8570e-02, -1.7107e-01, -4.0835e-02],\n",
      "          [ 2.0447e-03, -7.5915e-02, -1.2483e-01,  1.0795e-01,  9.5777e-02]]],\n",
      "\n",
      "\n",
      "        [[[ 1.5708e-02, -1.4779e-01,  2.9103e-02, -1.9300e-01,  1.2848e-01],\n",
      "          [-9.3659e-02,  5.4889e-02,  1.1606e-01,  9.0836e-02,  6.4567e-02],\n",
      "          [ 1.3174e-01, -2.3142e-02,  2.8756e-03, -1.1237e-01, -1.0245e-02],\n",
      "          [ 1.5526e-01,  1.0722e-01,  1.8059e-01,  5.9670e-02, -1.3283e-01],\n",
      "          [ 5.1572e-02,  1.5931e-01, -7.3425e-03, -4.1012e-02,  3.8247e-02]]],\n",
      "\n",
      "\n",
      "        [[[ 1.9172e-01,  1.5896e-01,  1.9935e-01,  9.9964e-02, -5.2315e-02],\n",
      "          [ 1.3109e-01, -2.7016e-02, -5.4659e-02,  9.5160e-02,  1.3387e-03],\n",
      "          [-1.9572e-01,  3.2357e-02, -5.8945e-02, -3.5557e-02, -1.3965e-01],\n",
      "          [ 1.5019e-01, -1.7824e-01, -9.3339e-02,  7.8870e-02,  1.7071e-01],\n",
      "          [-1.7192e-01,  4.5392e-02,  1.2951e-02, -1.5782e-01,  1.8512e-01]]],\n",
      "\n",
      "\n",
      "        [[[-1.6976e-01,  6.6811e-02,  1.7112e-01, -1.4484e-02,  1.4381e-01],\n",
      "          [-1.1237e-01,  7.2034e-03,  1.1268e-01,  1.5965e-01,  1.7675e-01],\n",
      "          [ 6.8240e-02, -9.5341e-02, -2.4403e-03,  1.6952e-01, -4.9884e-03],\n",
      "          [-3.0592e-02,  1.2245e-02, -1.7875e-01, -1.5477e-01,  1.0093e-01],\n",
      "          [-1.2185e-02,  1.4139e-01,  8.8367e-02,  1.6079e-02,  1.6362e-01]]],\n",
      "\n",
      "\n",
      "        [[[ 9.6870e-02,  1.6958e-01, -1.2751e-01,  9.2455e-02, -1.5155e-01],\n",
      "          [ 1.0748e-01,  1.8647e-01, -1.5743e-01,  1.9953e-01, -9.1225e-03],\n",
      "          [ 1.9519e-01, -4.7620e-02, -3.2273e-02, -1.1523e-01, -1.2567e-01],\n",
      "          [ 1.7642e-01,  2.0432e-02, -8.9699e-02, -1.2879e-01,  1.1476e-02],\n",
      "          [-3.5973e-02, -1.5516e-01, -4.6363e-02,  1.2109e-01,  5.3364e-02]]],\n",
      "\n",
      "\n",
      "        [[[-1.2476e-02, -3.2935e-04,  1.0283e-01,  5.4255e-02,  4.0315e-02],\n",
      "          [ 9.0317e-02, -1.6988e-01, -3.7505e-03, -1.2998e-01,  1.5162e-01],\n",
      "          [ 1.6780e-01, -1.9081e-01,  1.3998e-01,  3.5637e-02,  1.4212e-01],\n",
      "          [ 1.4139e-01, -1.0976e-02, -6.4935e-02, -2.3556e-02, -1.8550e-01],\n",
      "          [-4.4095e-02, -3.8051e-02, -1.5590e-01,  1.5308e-01, -1.0008e-01]]],\n",
      "\n",
      "\n",
      "        [[[ 8.7526e-02,  1.8927e-01,  1.5127e-01,  1.9037e-01, -1.8937e-01],\n",
      "          [ 5.6961e-02,  1.4934e-01,  5.1567e-02,  1.9968e-01, -6.5830e-03],\n",
      "          [-1.3008e-01, -2.9022e-02,  8.9284e-02,  1.5126e-01,  8.3449e-02],\n",
      "          [-1.2622e-01,  4.9336e-02, -1.2570e-01, -9.6704e-02,  8.5824e-02],\n",
      "          [-9.9624e-02,  1.6506e-01, -9.2828e-02, -8.3261e-03,  7.2494e-03]]],\n",
      "\n",
      "\n",
      "        [[[ 1.0380e-01, -7.8209e-02, -1.4218e-01, -1.5331e-01, -7.0276e-02],\n",
      "          [-9.0438e-02,  4.2679e-02, -1.3904e-01,  8.6314e-02, -3.5462e-02],\n",
      "          [-8.9584e-02,  1.4131e-01,  1.0285e-01,  1.6482e-01, -1.2440e-01],\n",
      "          [ 1.3702e-01,  1.3236e-01,  1.0679e-02, -7.6535e-03,  1.2742e-01],\n",
      "          [ 6.2758e-02,  7.9610e-02,  2.6539e-02,  6.3734e-02, -9.4122e-02]]],\n",
      "\n",
      "\n",
      "        [[[-5.6732e-02,  5.4135e-02, -2.6798e-02, -2.6884e-02,  4.2281e-02],\n",
      "          [-1.2326e-01,  1.4018e-01,  4.2196e-03,  5.1925e-02, -1.0084e-01],\n",
      "          [-6.3825e-02,  8.4418e-02,  1.8621e-01, -1.7172e-01, -7.2432e-02],\n",
      "          [-9.5796e-02,  2.2831e-02, -3.0558e-02, -9.9924e-02,  1.1897e-01],\n",
      "          [-6.3958e-02,  1.9394e-01, -8.8049e-02, -5.0340e-02,  9.7773e-02]]],\n",
      "\n",
      "\n",
      "        [[[-8.7111e-02, -4.4557e-02, -4.0276e-02,  1.9644e-01,  1.9909e-01],\n",
      "          [ 1.3672e-01,  3.4906e-02, -1.0260e-01,  5.9337e-02,  1.7256e-01],\n",
      "          [ 5.6968e-02,  4.7600e-02,  9.6535e-02, -8.2569e-02, -1.5493e-01],\n",
      "          [ 1.9823e-01, -1.2509e-01, -4.1929e-02,  7.1659e-02,  1.0600e-01],\n",
      "          [ 1.1277e-01,  1.1293e-01, -1.9726e-01, -6.1292e-02,  1.5774e-01]]],\n",
      "\n",
      "\n",
      "        [[[ 1.2714e-01, -6.8481e-02, -5.5898e-02,  9.7776e-02,  5.0937e-02],\n",
      "          [-1.2838e-01, -4.3682e-03,  1.8264e-01,  1.5343e-01, -1.0578e-01],\n",
      "          [ 2.3383e-03,  1.7451e-01, -1.2081e-01, -1.2994e-01, -1.6642e-01],\n",
      "          [ 6.8250e-04, -1.9379e-04, -1.6877e-01,  6.6901e-02, -1.8909e-02],\n",
      "          [ 1.7640e-01, -7.5827e-02, -1.4056e-02, -9.0139e-02,  8.9861e-02]]],\n",
      "\n",
      "\n",
      "        [[[-6.8646e-02, -5.2157e-02,  3.0855e-02,  7.2322e-02, -1.7928e-01],\n",
      "          [ 1.5179e-01,  1.2780e-01,  1.5784e-01,  1.2810e-01,  1.6853e-01],\n",
      "          [ 1.5660e-01, -3.6983e-03,  6.1194e-02, -5.5944e-02,  8.3434e-02],\n",
      "          [-1.6392e-01, -1.0168e-01,  8.4220e-02,  1.4656e-02,  1.9508e-01],\n",
      "          [-6.8142e-02,  9.8337e-03,  1.9841e-01,  1.2045e-01, -5.4358e-02]]],\n",
      "\n",
      "\n",
      "        [[[-1.9680e-01,  3.0196e-03,  1.0884e-01,  1.5730e-01, -1.5487e-01],\n",
      "          [-9.1986e-02, -1.2972e-01,  1.1951e-01, -6.4503e-02, -1.0638e-01],\n",
      "          [-9.9904e-02,  6.0814e-02, -1.5760e-01,  1.5907e-01, -1.1859e-01],\n",
      "          [-1.5069e-01, -8.7621e-02,  6.0688e-02, -1.6930e-01,  9.3477e-02],\n",
      "          [ 4.5709e-02,  1.6803e-01, -9.1182e-02,  1.4590e-01, -9.0025e-02]]],\n",
      "\n",
      "\n",
      "        [[[ 1.2074e-01, -1.1998e-01,  4.4692e-02,  1.3875e-02,  5.8939e-02],\n",
      "          [-2.0451e-02, -1.5507e-01, -1.6152e-01, -1.6455e-01,  1.0174e-01],\n",
      "          [ 1.4521e-01,  7.7520e-02,  9.8995e-02, -7.5943e-02, -4.4427e-02],\n",
      "          [ 1.8917e-01, -8.8606e-03, -6.7781e-02,  1.2012e-01, -1.3876e-01],\n",
      "          [ 1.5830e-01,  5.7057e-02, -6.0889e-02, -4.7602e-02, -6.0775e-02]]]],\n",
      "       requires_grad=True)\n",
      "Parameter containing:\n",
      "tensor([-0.1765, -0.0005, -0.1333,  0.0230,  0.1136, -0.1110,  0.1047, -0.0631,\n",
      "        -0.0783,  0.0568, -0.0037,  0.1045,  0.1690, -0.1178,  0.0579, -0.1461,\n",
      "         0.0708,  0.1872,  0.1272,  0.0113, -0.1157,  0.0642,  0.0710,  0.0112,\n",
      "        -0.0291,  0.1290,  0.1126, -0.0984, -0.0893,  0.0263,  0.0659,  0.0871],\n",
      "       requires_grad=True)\n",
      "Parameter containing:\n",
      "tensor([[[[-2.7928e-02,  3.2054e-02,  3.1496e-02,  2.9096e-03, -2.3285e-02],\n",
      "          [ 8.4663e-03, -3.1411e-02,  3.0660e-02,  3.1192e-02,  2.0752e-02],\n",
      "          [ 1.8133e-02,  3.0768e-02, -1.8144e-02, -1.6991e-02, -2.4118e-02],\n",
      "          [ 2.6189e-02,  1.2765e-03, -3.0001e-02, -3.3541e-02,  3.6611e-04],\n",
      "          [-2.1316e-02,  3.1416e-02,  5.6397e-03,  3.4479e-02,  1.3548e-02]],\n",
      "\n",
      "         [[ 1.4357e-02,  1.8277e-02,  2.2611e-02,  1.1799e-02, -1.0389e-02],\n",
      "          [ 4.4447e-03,  1.8007e-02, -3.3511e-03,  1.2479e-02,  3.3433e-02],\n",
      "          [ 3.2236e-02, -3.2273e-02, -3.5166e-02,  3.2615e-02, -3.5007e-02],\n",
      "          [-2.9152e-02, -3.4353e-02, -1.4544e-02, -1.6093e-02, -1.2745e-02],\n",
      "          [-1.6802e-02,  2.7749e-02, -1.5502e-02, -1.7507e-02, -1.0725e-02]],\n",
      "\n",
      "         [[-2.9806e-02, -7.4568e-04,  7.9487e-03, -2.3784e-02,  1.4200e-02],\n",
      "          [ 3.3732e-02, -2.6488e-03, -9.4699e-03, -2.6828e-02, -1.3309e-02],\n",
      "          [-1.1689e-02,  2.6831e-03,  9.5666e-03, -2.8953e-02,  3.2681e-03],\n",
      "          [ 6.9929e-03, -5.4489e-03,  1.1778e-02, -8.5261e-03, -9.0923e-03],\n",
      "          [-1.9262e-02,  1.4814e-02, -3.3656e-02,  2.0676e-02,  3.4441e-02]],\n",
      "\n",
      "         ...,\n",
      "\n",
      "         [[-3.2630e-02,  5.3128e-03, -8.9455e-03, -2.5665e-02,  1.3979e-02],\n",
      "          [ 1.5824e-02,  1.6775e-02,  3.1648e-02, -1.7897e-02,  3.3058e-02],\n",
      "          [ 2.2880e-02,  1.9930e-02,  1.0670e-02,  3.2163e-02, -2.8635e-02],\n",
      "          [-6.8671e-03,  6.9602e-03, -2.6599e-02,  2.1194e-02,  1.4468e-02],\n",
      "          [ 3.2011e-02,  1.2986e-02,  1.6687e-02,  3.5740e-03, -2.8563e-02]],\n",
      "\n",
      "         [[-7.1723e-03, -1.4470e-02, -3.4683e-02, -2.3374e-02, -1.4347e-02],\n",
      "          [ 1.8302e-03,  2.1078e-02,  2.8111e-02, -1.7922e-02, -3.3488e-02],\n",
      "          [ 2.2559e-02, -4.0410e-03, -3.6602e-04, -2.6703e-02, -1.5349e-02],\n",
      "          [-1.0043e-02, -2.3707e-03, -1.2604e-02, -1.3117e-02, -4.3790e-03],\n",
      "          [-3.0246e-02, -2.3255e-02,  1.2902e-02, -1.3499e-02, -2.5065e-02]],\n",
      "\n",
      "         [[-7.5244e-03, -3.0447e-02, -1.5064e-02, -3.1460e-02,  2.3465e-02],\n",
      "          [ 1.2402e-02,  2.4241e-02,  3.3896e-02, -2.3752e-02,  9.5297e-03],\n",
      "          [ 2.8912e-02, -1.4155e-02, -5.7081e-04, -1.7384e-02, -1.9076e-02],\n",
      "          [ 1.5256e-02,  3.1612e-02, -3.1609e-02,  1.0886e-02,  1.6914e-02],\n",
      "          [-3.3997e-02, -2.0847e-02, -3.1061e-02,  1.0794e-02, -1.7372e-02]]],\n",
      "\n",
      "\n",
      "        [[[-1.3850e-02, -1.0064e-02, -3.1955e-02,  3.0041e-02, -5.2252e-03],\n",
      "          [ 1.4569e-02, -2.2964e-03, -5.1252e-03, -1.3294e-02, -1.8576e-02],\n",
      "          [ 2.4223e-02, -3.5158e-02,  1.5414e-03,  1.2472e-02, -1.4428e-03],\n",
      "          [ 1.1889e-02,  8.7836e-03, -2.6218e-02,  2.8631e-03, -1.8817e-02],\n",
      "          [ 1.9673e-02,  5.1412e-03, -2.3674e-02,  2.8564e-02, -3.3145e-02]],\n",
      "\n",
      "         [[-1.9905e-02,  2.5708e-02, -3.4911e-02,  1.9321e-02,  2.3136e-02],\n",
      "          [-1.2579e-02, -3.0107e-02,  1.8583e-02,  2.7723e-02, -2.5625e-02],\n",
      "          [-2.4124e-02, -9.2245e-03,  3.3822e-02,  1.0933e-02, -1.9237e-02],\n",
      "          [ 2.2802e-02,  1.6590e-02, -1.8171e-03, -2.6100e-02,  1.3616e-02],\n",
      "          [-1.9805e-02, -2.5780e-02, -8.4323e-03,  2.8108e-02,  2.9111e-02]],\n",
      "\n",
      "         [[-1.7902e-02,  3.0202e-02,  3.1062e-02,  9.3133e-04, -1.4626e-02],\n",
      "          [-5.2064e-03, -1.5453e-02,  9.1804e-03,  1.6946e-02,  2.5816e-02],\n",
      "          [-3.0018e-02, -2.4046e-02, -2.2400e-02,  1.1111e-02,  2.5821e-02],\n",
      "          [-3.2333e-02, -2.5130e-02, -1.8346e-02,  2.7125e-02, -2.9998e-02],\n",
      "          [ 2.2702e-02, -1.9443e-02,  1.3187e-03, -1.5634e-02,  1.4507e-02]],\n",
      "\n",
      "         ...,\n",
      "\n",
      "         [[ 1.5513e-02, -1.0454e-02,  6.7109e-03,  7.5956e-03,  4.1819e-03],\n",
      "          [-1.9842e-03, -5.1358e-03,  7.0436e-03,  1.5505e-02,  2.6879e-02],\n",
      "          [ 3.3773e-02,  1.7590e-02,  1.5226e-02,  6.1622e-03,  3.7171e-03],\n",
      "          [ 2.8274e-02, -1.8102e-02, -1.8425e-02, -3.0295e-02,  2.9562e-02],\n",
      "          [-2.9941e-03,  1.6961e-02,  9.7026e-04, -2.8003e-02,  8.8312e-03]],\n",
      "\n",
      "         [[-5.2951e-03,  1.1759e-02,  4.7517e-03,  3.2206e-02, -3.0414e-03],\n",
      "          [ 1.1320e-02, -2.9990e-02, -3.5338e-02,  5.8407e-03,  9.8817e-03],\n",
      "          [ 1.1812e-02, -6.9421e-03,  2.3064e-02,  2.9315e-02,  1.6168e-02],\n",
      "          [ 1.8495e-02, -2.9508e-02, -3.4889e-02, -2.5440e-02, -2.9362e-02],\n",
      "          [-2.6537e-02, -1.3847e-02, -8.0869e-03, -2.5527e-02,  3.5191e-02]],\n",
      "\n",
      "         [[-1.0252e-02,  1.6955e-03, -1.4828e-02,  3.3310e-02, -2.5569e-02],\n",
      "          [-1.1735e-02,  1.8720e-02, -1.9178e-02,  5.6794e-03,  5.4838e-03],\n",
      "          [-2.0687e-02, -2.2896e-02, -1.5605e-02,  3.2055e-02,  2.6785e-02],\n",
      "          [-5.7524e-04, -3.2235e-02,  3.4270e-02, -1.4516e-02, -1.4940e-02],\n",
      "          [-2.5434e-02,  2.4620e-02,  2.0087e-02, -2.8520e-02,  1.4418e-02]]],\n",
      "\n",
      "\n",
      "        [[[-2.8083e-02,  1.9700e-02, -8.2945e-03,  2.3244e-02,  1.4090e-02],\n",
      "          [-3.5180e-03,  3.4657e-02, -9.7756e-03,  1.1300e-02,  2.5466e-02],\n",
      "          [-1.9471e-02,  1.3596e-02, -1.7621e-02,  2.3213e-02,  2.8375e-02],\n",
      "          [-3.1885e-03,  2.1152e-02, -2.6879e-02, -2.5576e-02,  6.8232e-03],\n",
      "          [-3.4071e-02, -2.8422e-02, -2.7781e-02, -3.6073e-03, -1.6036e-02]],\n",
      "\n",
      "         [[-3.3753e-02, -1.0324e-02, -2.2418e-02,  1.2968e-02,  3.2382e-02],\n",
      "          [-2.7632e-02, -9.8361e-03, -1.7168e-02, -1.1665e-02, -1.9011e-02],\n",
      "          [-2.0813e-02, -1.0580e-02,  1.3356e-02,  2.2109e-02, -4.8481e-03],\n",
      "          [ 5.8990e-03, -1.3789e-02, -1.8575e-02, -3.0173e-02,  3.2897e-02],\n",
      "          [ 1.6149e-02, -2.5473e-02, -1.8918e-02,  4.6195e-03,  9.0636e-04]],\n",
      "\n",
      "         [[ 3.3820e-02, -1.7190e-02,  8.7521e-03,  2.8605e-02, -2.7790e-02],\n",
      "          [ 2.3387e-02, -3.8334e-03, -3.4227e-02, -5.1950e-03,  1.9298e-03],\n",
      "          [ 3.3240e-02,  2.1402e-02,  1.6211e-02,  7.8041e-04,  1.7484e-02],\n",
      "          [-1.0006e-02,  2.2407e-02,  3.0172e-02,  3.2816e-02,  7.0811e-03],\n",
      "          [ 8.6444e-03, -1.4458e-02,  2.4946e-02, -1.2528e-02,  3.0089e-02]],\n",
      "\n",
      "         ...,\n",
      "\n",
      "         [[ 2.6716e-02,  7.3751e-03, -2.9162e-04,  1.0478e-02,  1.9600e-02],\n",
      "          [ 5.0918e-03,  3.4049e-02,  2.1761e-02, -3.3184e-02, -1.4187e-02],\n",
      "          [ 6.1590e-03, -2.0995e-02,  3.4108e-02,  2.3674e-02,  2.3856e-03],\n",
      "          [ 2.4651e-02,  3.2607e-02, -3.4028e-02, -3.4587e-02, -3.1062e-03],\n",
      "          [-6.7752e-03,  2.2905e-02,  3.0982e-02, -9.8991e-03, -2.0962e-02]],\n",
      "\n",
      "         [[-2.7840e-02,  1.3091e-03, -2.2306e-02, -2.1182e-02, -2.1901e-02],\n",
      "          [ 7.5222e-03, -1.7505e-02, -2.1407e-02, -9.6692e-03,  7.3520e-03],\n",
      "          [ 2.4609e-02, -1.0422e-02, -9.2597e-03, -1.5307e-02,  9.6492e-03],\n",
      "          [-2.0036e-02,  3.5478e-03, -3.4354e-02, -2.6896e-02, -3.2419e-02],\n",
      "          [-2.0363e-02, -2.9864e-03, -1.0522e-03,  1.6443e-02, -3.7893e-03]],\n",
      "\n",
      "         [[ 5.8325e-03,  3.7213e-03,  3.1371e-02, -2.3427e-02,  3.5031e-02],\n",
      "          [-8.0584e-03, -2.6279e-02,  2.2052e-02,  3.4517e-03, -3.7752e-03],\n",
      "          [-8.4922e-03,  2.3375e-02,  1.3409e-02, -2.3275e-02, -1.9211e-02],\n",
      "          [ 2.0236e-03, -1.4005e-02,  1.1325e-02, -1.3325e-03, -1.1779e-02],\n",
      "          [-1.4837e-02, -6.8801e-03, -3.1960e-02, -6.6141e-03,  2.0933e-02]]],\n",
      "\n",
      "\n",
      "        ...,\n",
      "\n",
      "\n",
      "        [[[-3.5363e-03, -4.6210e-03,  9.1901e-03,  3.4135e-02,  2.5195e-02],\n",
      "          [-7.8672e-03,  3.4426e-02,  1.1351e-02,  2.5165e-02,  5.3540e-03],\n",
      "          [-2.2895e-02,  1.5783e-02, -2.5222e-02,  1.7401e-02, -9.5991e-03],\n",
      "          [-2.5305e-02,  8.2953e-03,  5.7492e-03, -4.5392e-03, -2.8735e-02],\n",
      "          [-3.1471e-02, -2.9012e-03,  1.5945e-03,  1.9529e-02, -2.7144e-02]],\n",
      "\n",
      "         [[ 2.5454e-02,  1.0937e-02, -3.1435e-02,  1.0163e-02,  1.3788e-02],\n",
      "          [ 3.3937e-02, -2.2143e-02, -2.8500e-02, -4.2516e-03, -3.5224e-02],\n",
      "          [ 4.8217e-03, -1.9301e-02,  3.3217e-02,  3.1093e-02,  3.3031e-02],\n",
      "          [-1.6091e-02,  2.5115e-02, -5.2926e-03,  2.2604e-02,  2.8132e-02],\n",
      "          [ 3.4195e-02, -3.3725e-02,  7.9697e-03,  3.4133e-02,  1.4983e-02]],\n",
      "\n",
      "         [[ 1.8233e-02,  1.8733e-02,  3.2969e-02,  5.8385e-03, -1.3248e-02],\n",
      "          [ 1.0384e-02, -1.0858e-02, -1.7436e-02, -3.2203e-02,  1.5887e-02],\n",
      "          [-9.8747e-03,  2.2888e-02, -3.2948e-02,  6.0083e-03,  1.9929e-02],\n",
      "          [-6.5101e-03, -2.0753e-02,  4.7393e-03, -2.3290e-02,  8.2068e-03],\n",
      "          [ 1.1159e-02,  3.1618e-02,  3.2722e-02, -3.4488e-02, -1.8550e-03]],\n",
      "\n",
      "         ...,\n",
      "\n",
      "         [[ 1.4223e-02,  1.1370e-02, -2.5437e-02, -3.3405e-02,  1.5476e-02],\n",
      "          [-2.3015e-02, -5.3992e-03,  3.0087e-02, -1.8182e-02, -2.2411e-02],\n",
      "          [ 3.2775e-02,  2.6484e-02,  2.7073e-02, -6.6482e-03,  1.3773e-02],\n",
      "          [ 2.5944e-02, -3.1250e-02,  1.3392e-02,  1.5790e-02,  1.8974e-02],\n",
      "          [-3.5161e-02,  2.2368e-02, -2.5892e-02,  2.5876e-02,  1.1081e-02]],\n",
      "\n",
      "         [[ 5.0968e-03, -2.1940e-02,  8.6821e-03, -3.1045e-02, -3.2168e-02],\n",
      "          [ 1.7544e-02, -4.4150e-03, -1.2587e-02, -2.0718e-02,  1.6029e-02],\n",
      "          [ 3.0680e-02, -4.2320e-03, -2.9423e-02, -1.9018e-03,  2.9107e-02],\n",
      "          [-6.0230e-03,  1.8946e-03,  2.9267e-02, -1.0280e-02,  1.9645e-02],\n",
      "          [-1.4775e-02,  5.2384e-03,  8.8982e-03, -2.4774e-02, -2.7459e-02]],\n",
      "\n",
      "         [[-2.7252e-02, -4.1486e-03, -8.4838e-03,  2.6674e-02, -1.8001e-03],\n",
      "          [ 6.3651e-03, -2.1277e-02,  1.4731e-02, -1.5494e-02, -2.1997e-02],\n",
      "          [ 1.6549e-02,  1.6201e-02, -2.8745e-02, -1.8810e-02,  3.0618e-02],\n",
      "          [ 1.8148e-02,  3.4897e-02,  3.0210e-02, -2.3072e-02,  2.4617e-02],\n",
      "          [-1.6672e-02,  2.3059e-02,  5.5550e-03,  6.5628e-03,  4.5995e-03]]],\n",
      "\n",
      "\n",
      "        [[[ 3.5280e-02,  3.4055e-02, -6.4757e-03, -3.0302e-02,  1.6818e-02],\n",
      "          [ 1.2674e-02,  3.3512e-04, -3.5091e-02,  3.0840e-02, -1.5389e-02],\n",
      "          [-1.9290e-02,  2.1075e-02,  1.3359e-02,  2.3417e-02, -2.0300e-02],\n",
      "          [ 1.2557e-02,  9.2049e-04,  1.0716e-02, -2.5086e-02, -7.3368e-04],\n",
      "          [ 8.0437e-03, -3.4067e-02, -3.3577e-02,  5.8228e-03, -2.3929e-02]],\n",
      "\n",
      "         [[ 3.0965e-02,  2.0224e-02,  2.5569e-02,  2.1836e-02, -2.3466e-02],\n",
      "          [ 3.2886e-02,  3.3494e-02,  2.9147e-02, -1.4534e-02,  1.2542e-02],\n",
      "          [ 3.1277e-02, -2.2649e-03, -3.1665e-02, -1.8276e-02,  3.0446e-02],\n",
      "          [-3.2565e-02,  1.2981e-02, -1.7974e-02, -1.5749e-04, -3.1866e-04],\n",
      "          [-2.4565e-02,  3.8692e-03,  1.7876e-02, -2.2049e-02,  3.2509e-02]],\n",
      "\n",
      "         [[-2.6812e-02,  7.1470e-03, -5.0281e-03, -1.5511e-02,  2.7886e-02],\n",
      "          [-1.4145e-04, -2.5946e-02, -2.3439e-02,  8.5688e-03,  7.1739e-03],\n",
      "          [ 4.2724e-03, -3.2356e-02, -1.6327e-02,  3.3982e-02,  1.0554e-02],\n",
      "          [-1.7436e-02, -2.7840e-02, -9.4245e-03,  5.0783e-03, -1.6190e-02],\n",
      "          [ 4.0837e-05,  3.4125e-02, -3.9593e-03, -3.0694e-02,  1.0639e-02]],\n",
      "\n",
      "         ...,\n",
      "\n",
      "         [[-2.4162e-02,  6.7052e-03,  7.0536e-03,  8.0222e-03, -2.3823e-02],\n",
      "          [-4.3291e-03, -2.1481e-02, -2.0039e-02, -4.6960e-03, -1.6565e-02],\n",
      "          [-2.9393e-02,  2.1235e-02,  2.1173e-02,  2.8026e-02,  1.1723e-02],\n",
      "          [ 3.2233e-02,  2.8578e-02,  2.4100e-02,  1.4328e-02, -6.5518e-04],\n",
      "          [ 6.9776e-03,  3.4476e-02, -2.5537e-03,  1.5665e-02, -3.1536e-02]],\n",
      "\n",
      "         [[ 2.5433e-02,  2.8872e-02,  3.2375e-02, -2.5988e-02, -1.1504e-02],\n",
      "          [ 2.9282e-02, -1.3747e-02,  3.5818e-03,  5.4372e-03,  2.6532e-02],\n",
      "          [ 8.0064e-03,  3.1096e-03, -1.5269e-02,  3.4525e-02,  1.2448e-03],\n",
      "          [ 2.3456e-02,  3.0310e-02,  2.8432e-03,  1.6090e-02, -2.8261e-03],\n",
      "          [ 1.4196e-02, -1.3106e-02, -3.2044e-02, -1.9286e-02,  1.4354e-02]],\n",
      "\n",
      "         [[-3.4986e-02,  1.2123e-02,  1.0985e-02, -2.5532e-03, -3.0621e-02],\n",
      "          [ 2.5617e-02, -3.7468e-03, -3.1305e-02,  2.8638e-02, -1.5164e-02],\n",
      "          [-2.0185e-02, -2.2419e-02,  9.4482e-03, -4.8237e-03,  2.6619e-02],\n",
      "          [-1.7288e-02,  3.5004e-02,  2.6647e-02,  2.1154e-03,  3.2734e-02],\n",
      "          [-3.3898e-02, -6.3705e-03,  2.6096e-02, -9.7673e-03, -2.6593e-02]]],\n",
      "\n",
      "\n",
      "        [[[-3.1126e-02,  6.7480e-03,  3.2653e-02, -6.0261e-03,  3.2276e-02],\n",
      "          [ 1.9641e-03, -3.2761e-02, -2.9545e-02, -3.1052e-02, -8.2897e-03],\n",
      "          [ 2.1610e-02, -4.8011e-03, -1.6149e-02,  2.8486e-02,  6.1760e-03],\n",
      "          [ 3.3906e-02,  1.0739e-02,  1.4534e-04,  1.1960e-02, -1.8140e-02],\n",
      "          [-1.3371e-02,  1.3085e-02,  1.5288e-02, -1.9404e-02,  1.8874e-02]],\n",
      "\n",
      "         [[-1.9854e-02,  3.3946e-02,  3.0371e-02, -2.0760e-02, -2.2380e-02],\n",
      "          [ 6.9112e-03,  8.5411e-03, -3.1061e-02, -1.2986e-02, -1.1660e-02],\n",
      "          [ 1.7007e-02,  1.9343e-02,  9.9953e-03,  1.0668e-02,  7.6654e-03],\n",
      "          [-5.3232e-03,  3.1456e-02,  2.9714e-02,  1.5577e-02, -1.1989e-02],\n",
      "          [-7.3845e-04,  2.1280e-02, -3.2109e-02, -2.2934e-02,  5.9137e-03]],\n",
      "\n",
      "         [[ 2.0970e-02, -2.4069e-02, -1.3577e-02, -1.8847e-02,  2.1342e-02],\n",
      "          [-9.6544e-03,  1.8381e-02, -2.2782e-02,  1.4971e-02,  1.2796e-03],\n",
      "          [ 1.7585e-02,  2.6176e-03, -2.7417e-02, -5.0743e-03, -1.9515e-02],\n",
      "          [-2.4819e-02, -7.3845e-03,  1.7632e-02, -2.4343e-03, -3.1501e-02],\n",
      "          [ 2.7467e-02,  7.0134e-03, -2.5694e-03, -3.2646e-02, -7.6945e-03]],\n",
      "\n",
      "         ...,\n",
      "\n",
      "         [[-5.5566e-05, -5.5142e-03,  3.5347e-02, -2.6764e-02, -1.4114e-02],\n",
      "          [-2.9479e-02,  1.7883e-02,  9.2880e-03, -8.9339e-03,  1.6569e-02],\n",
      "          [ 3.4172e-02,  1.7005e-03, -9.9977e-03, -2.3824e-02, -2.9887e-02],\n",
      "          [ 1.5255e-02, -3.0025e-02,  2.8452e-03, -1.2312e-02, -2.6847e-02],\n",
      "          [-6.4721e-03, -1.0073e-02,  1.6654e-02, -1.3065e-02, -2.8889e-02]],\n",
      "\n",
      "         [[-9.5018e-03,  6.4321e-03, -1.5299e-02,  3.2668e-02, -1.1893e-02],\n",
      "          [-1.8979e-02,  2.8912e-02,  1.4594e-03, -7.8063e-03,  7.6080e-03],\n",
      "          [-3.1736e-02,  2.8649e-02, -3.0367e-02, -8.9526e-03, -3.5069e-02],\n",
      "          [ 2.5588e-02, -1.0544e-02, -1.4490e-02, -3.3341e-03,  2.4330e-02],\n",
      "          [-1.1600e-03, -1.2900e-02,  2.1892e-02,  1.3345e-02, -3.5281e-02]],\n",
      "\n",
      "         [[-3.0402e-02, -2.7134e-02, -9.9201e-03, -2.0503e-02,  3.5153e-02],\n",
      "          [ 4.9464e-03,  9.1742e-03, -6.6373e-03,  1.7864e-03,  2.6967e-02],\n",
      "          [ 1.2104e-02, -2.8555e-02,  2.7818e-02,  1.1958e-03, -2.7149e-02],\n",
      "          [ 1.7572e-02, -8.9081e-03, -2.9008e-02, -1.2014e-03,  9.0152e-03],\n",
      "          [ 1.4092e-02,  3.4024e-02, -2.9029e-02,  2.8328e-02,  1.5340e-02]]]],\n",
      "       requires_grad=True)\n",
      "Parameter containing:\n",
      "tensor([-0.0155,  0.0331,  0.0215,  0.0063, -0.0076,  0.0186, -0.0146,  0.0012,\n",
      "        -0.0249, -0.0233,  0.0347, -0.0324, -0.0266,  0.0160, -0.0001,  0.0311,\n",
      "        -0.0029,  0.0221, -0.0299, -0.0203, -0.0099,  0.0142, -0.0183,  0.0201,\n",
      "         0.0337, -0.0232, -0.0020,  0.0164,  0.0161,  0.0272, -0.0280, -0.0015,\n",
      "         0.0328, -0.0342,  0.0039, -0.0173, -0.0152, -0.0336, -0.0043, -0.0349,\n",
      "        -0.0339, -0.0228, -0.0104, -0.0031, -0.0251,  0.0256, -0.0287,  0.0231,\n",
      "         0.0168, -0.0233, -0.0093,  0.0332, -0.0198, -0.0226, -0.0187,  0.0125,\n",
      "        -0.0043,  0.0277,  0.0107,  0.0022, -0.0222, -0.0272, -0.0141, -0.0233],\n",
      "       requires_grad=True)\n",
      "Parameter containing:\n",
      "tensor([[[[ 2.1550e-02, -1.0692e-02, -7.3881e-03, -1.0830e-02, -1.5602e-02],\n",
      "          [-4.5371e-03, -5.4990e-03,  1.8870e-03,  2.1371e-02,  1.4885e-03],\n",
      "          [-1.3112e-02,  6.2083e-03, -1.9622e-02, -9.1977e-03,  1.4596e-02],\n",
      "          [ 1.1059e-02,  1.7904e-02,  1.7477e-02, -1.5803e-02, -1.2492e-02],\n",
      "          [-3.3005e-03, -2.6083e-03,  3.0547e-04, -7.7664e-03, -2.3760e-02]],\n",
      "\n",
      "         [[-2.8280e-03, -2.1988e-02,  5.9666e-03,  2.6588e-03, -2.9846e-03],\n",
      "          [-3.1080e-03,  2.3616e-02,  4.4492e-03, -1.1973e-02, -7.7637e-04],\n",
      "          [-1.4117e-02,  4.4074e-03,  1.8764e-04,  2.4619e-02, -1.8411e-02],\n",
      "          [-1.9130e-02,  2.3078e-02,  2.7218e-03, -6.2766e-03,  3.9131e-03],\n",
      "          [-1.3161e-02,  1.1378e-02, -1.4746e-02,  2.0300e-02,  2.4687e-02]],\n",
      "\n",
      "         [[-9.6177e-03, -6.1147e-03, -2.7617e-03, -1.0260e-02, -8.3758e-03],\n",
      "          [ 2.9883e-03, -2.2702e-02, -2.4079e-02,  1.4471e-02, -9.7478e-03],\n",
      "          [-2.2812e-02, -1.2435e-02,  7.4900e-03,  1.6184e-02,  2.4859e-02],\n",
      "          [ 1.1006e-02, -9.6913e-03, -9.3387e-03,  1.9888e-02,  1.2045e-02],\n",
      "          [-1.5654e-02, -8.2351e-03, -2.2011e-02, -2.0718e-02,  8.9564e-03]],\n",
      "\n",
      "         ...,\n",
      "\n",
      "         [[-1.9168e-02, -8.3588e-03, -9.8783e-03,  1.4189e-02, -3.6973e-03],\n",
      "          [-2.0502e-02, -8.8791e-03, -6.9027e-03, -9.7771e-03, -1.7894e-02],\n",
      "          [-2.3796e-02, -1.1352e-03,  1.8616e-02,  1.0701e-02, -1.1271e-02],\n",
      "          [ 2.3768e-02, -4.2857e-04,  2.2991e-02, -2.3943e-02, -1.0364e-02],\n",
      "          [-2.4166e-02,  2.0485e-02,  3.3703e-03, -1.6688e-02,  2.1076e-02]],\n",
      "\n",
      "         [[-6.6126e-03,  8.2036e-03, -5.7535e-04,  2.4062e-02, -2.5442e-03],\n",
      "          [ 1.7878e-02, -1.2165e-04, -1.8864e-03, -2.3595e-02,  2.1079e-02],\n",
      "          [-1.6987e-02,  2.3411e-02,  3.5861e-03, -6.4936e-03, -1.0328e-02],\n",
      "          [ 1.7812e-02,  1.8067e-02, -8.8957e-03, -1.0876e-02, -8.6101e-03],\n",
      "          [-1.2419e-02,  1.4095e-02, -5.6774e-03, -5.1058e-03,  3.1800e-03]],\n",
      "\n",
      "         [[-2.3397e-02,  1.3648e-02,  1.6024e-02, -8.4772e-03, -2.1710e-03],\n",
      "          [-2.4179e-04, -1.4175e-02, -1.5068e-02, -3.3662e-03,  5.6272e-03],\n",
      "          [ 1.6337e-02,  1.5417e-02,  6.2883e-03,  1.7958e-02, -1.9092e-02],\n",
      "          [ 1.1970e-02,  2.1020e-02,  1.4245e-02, -9.3306e-03,  9.9657e-04],\n",
      "          [-3.9862e-03,  1.4306e-02, -1.5443e-02,  9.7226e-03,  1.0073e-02]]],\n",
      "\n",
      "\n",
      "        [[[-1.3870e-02,  1.1831e-02,  2.6658e-03,  1.5393e-02,  2.7973e-04],\n",
      "          [-2.0630e-02,  1.1335e-02, -4.0166e-03, -2.8471e-03,  1.4040e-02],\n",
      "          [-1.0919e-02,  1.2280e-02, -8.5227e-03, -2.3070e-02, -1.4727e-02],\n",
      "          [ 1.4639e-02,  2.3332e-02, -1.0334e-02, -4.6502e-03, -1.6095e-02],\n",
      "          [-2.3362e-02, -8.3934e-03,  2.0499e-02, -2.1729e-02,  2.3554e-02]],\n",
      "\n",
      "         [[ 1.7609e-02, -1.2319e-02,  2.1766e-02, -2.2724e-02,  2.4040e-02],\n",
      "          [-1.5877e-02,  2.6519e-03, -1.0851e-02, -1.0095e-02, -1.6693e-03],\n",
      "          [ 3.6470e-03, -2.4147e-02, -6.1203e-03,  7.7415e-03, -7.1803e-03],\n",
      "          [-2.3342e-02,  1.0801e-02,  6.4962e-04, -6.3495e-03, -1.3787e-03],\n",
      "          [ 1.1553e-02,  1.8898e-02,  3.4579e-03,  1.8369e-02, -8.4577e-03]],\n",
      "\n",
      "         [[-8.1584e-03, -1.3986e-02, -2.7043e-03,  1.7114e-02,  2.1929e-02],\n",
      "          [-1.3243e-03,  2.4959e-03, -1.7223e-02,  1.8773e-02, -1.5850e-02],\n",
      "          [-1.6280e-02,  2.2654e-02,  2.3767e-02,  1.7621e-02, -1.8985e-02],\n",
      "          [ 1.5893e-02, -1.6937e-02,  1.4092e-02,  5.4150e-04, -1.0266e-02],\n",
      "          [ 6.2034e-03, -1.9192e-02, -4.0439e-03, -4.3009e-03, -1.7883e-02]],\n",
      "\n",
      "         ...,\n",
      "\n",
      "         [[-5.0156e-03,  8.8499e-04, -1.8319e-03, -1.7734e-02,  1.6603e-03],\n",
      "          [-1.8564e-02,  3.6796e-03,  7.6558e-03,  1.8983e-02,  2.2866e-02],\n",
      "          [ 5.8668e-03, -1.5729e-02, -1.3818e-02, -1.9649e-02,  1.4963e-02],\n",
      "          [-1.9828e-02, -7.3333e-03, -2.3731e-02,  2.3925e-02,  2.8536e-03],\n",
      "          [ 1.5650e-02,  9.1747e-03,  8.6103e-03, -9.7353e-05,  1.5264e-02]],\n",
      "\n",
      "         [[-1.7203e-02,  5.4113e-03,  7.6987e-03,  2.1949e-02, -5.9125e-03],\n",
      "          [ 1.0156e-02,  1.6761e-02, -6.2200e-03, -1.6714e-02, -1.7351e-02],\n",
      "          [-1.4477e-02,  2.0862e-02, -8.0582e-03, -2.1815e-04,  1.1034e-02],\n",
      "          [-2.2027e-02,  1.9515e-02, -8.5922e-03, -2.2583e-02, -2.0486e-02],\n",
      "          [-2.1518e-02,  2.1566e-02,  1.6141e-02,  2.1702e-02, -1.9695e-03]],\n",
      "\n",
      "         [[-2.3410e-02,  1.2018e-02, -1.1325e-02, -1.7072e-02, -1.0131e-02],\n",
      "          [ 1.4068e-02, -1.8093e-02,  1.0347e-02,  2.3311e-02,  1.0848e-02],\n",
      "          [-1.5623e-02, -1.0657e-02,  1.9968e-02,  8.6361e-03,  1.4795e-02],\n",
      "          [-9.1498e-03,  7.2931e-04, -8.8668e-03, -1.6173e-02,  7.1090e-03],\n",
      "          [-2.1538e-02, -7.2639e-03, -4.1576e-03,  9.2852e-03, -7.4765e-03]]],\n",
      "\n",
      "\n",
      "        [[[ 1.7326e-02, -5.3901e-03,  1.8343e-02,  1.8196e-02, -5.8155e-03],\n",
      "          [ 1.7459e-02, -7.4493e-04, -5.0628e-03,  1.9183e-02,  1.2818e-02],\n",
      "          [ 5.7597e-03,  1.8454e-02, -2.0095e-02,  1.9595e-02, -2.3938e-02],\n",
      "          [ 2.2724e-02,  2.1982e-02, -1.4319e-02, -1.6659e-03, -2.4482e-02],\n",
      "          [ 8.7178e-04, -1.6879e-02, -1.2219e-02,  1.9935e-02,  1.2537e-02]],\n",
      "\n",
      "         [[-2.3250e-02,  8.3654e-03, -2.0512e-03,  2.4395e-02, -2.4416e-03],\n",
      "          [-2.2698e-02, -1.0635e-02,  1.3477e-02,  2.7918e-03, -7.7387e-03],\n",
      "          [-7.3050e-03,  2.2327e-02,  2.0178e-02, -2.5427e-03,  9.7600e-03],\n",
      "          [ 1.9639e-02,  2.3321e-02,  2.5976e-03,  4.6073e-03,  1.8167e-02],\n",
      "          [-8.5759e-03,  1.4402e-02,  2.2990e-02, -2.3462e-02, -2.3736e-02]],\n",
      "\n",
      "         [[-1.4718e-02, -6.9202e-03,  2.4176e-02, -1.0127e-02, -2.4559e-02],\n",
      "          [-1.3863e-02, -6.9329e-03, -1.3229e-02,  1.0168e-02, -2.2045e-02],\n",
      "          [ 2.0361e-02, -1.1934e-02,  2.3571e-02, -1.6020e-03, -1.4655e-02],\n",
      "          [ 2.3358e-02, -4.4368e-03,  1.2879e-02, -1.2402e-02, -1.4423e-02],\n",
      "          [-9.8801e-03,  2.2836e-02,  1.9024e-02, -2.3088e-02,  1.1811e-02]],\n",
      "\n",
      "         ...,\n",
      "\n",
      "         [[-2.0814e-03,  2.5109e-03,  8.5618e-03,  6.6302e-03, -1.0603e-02],\n",
      "          [ 8.7940e-03,  1.3278e-02,  8.8123e-03,  2.2756e-02,  1.1838e-02],\n",
      "          [-2.3418e-02,  2.2069e-02,  1.0159e-02,  1.3478e-02,  1.9011e-02],\n",
      "          [ 5.9432e-03,  7.0781e-03,  2.2031e-02, -1.1713e-02,  1.0937e-02],\n",
      "          [-2.7754e-03, -1.8785e-03,  2.2712e-02,  2.0591e-02, -4.5688e-03]],\n",
      "\n",
      "         [[ 6.8454e-03, -2.2466e-02,  5.4836e-03,  2.1612e-02, -1.1269e-02],\n",
      "          [ 8.5889e-03, -1.2021e-02,  1.6884e-02, -2.3009e-03,  1.5473e-02],\n",
      "          [-1.2282e-02, -2.0857e-02, -1.1815e-02,  1.5416e-02, -2.4284e-02],\n",
      "          [ 1.7146e-02, -8.8957e-03,  3.3510e-03,  2.1938e-02,  8.0462e-03],\n",
      "          [ 1.7992e-02, -1.0450e-02, -4.8887e-03, -1.1073e-02,  5.3401e-03]],\n",
      "\n",
      "         [[-1.1704e-02,  1.1578e-02, -2.2397e-02,  1.7912e-02, -2.2474e-02],\n",
      "          [-1.4695e-02,  2.3121e-02,  4.5214e-03, -1.0324e-02, -2.3850e-02],\n",
      "          [-1.8278e-02,  1.4967e-02, -2.3418e-02,  1.4131e-03, -5.9479e-04],\n",
      "          [-1.2661e-02, -6.1626e-03,  2.2387e-02, -1.2067e-02,  9.6953e-03],\n",
      "          [-1.8507e-02,  5.0998e-03,  7.8509e-03, -5.6808e-03,  1.1558e-02]]],\n",
      "\n",
      "\n",
      "        ...,\n",
      "\n",
      "\n",
      "        [[[ 2.0179e-02, -4.3970e-03, -6.4477e-03,  1.6051e-02, -3.8470e-03],\n",
      "          [-1.6109e-02,  4.2845e-03, -1.6181e-02,  9.6142e-03, -1.6654e-02],\n",
      "          [ 2.9799e-03,  6.5481e-04, -4.5435e-03,  3.0587e-03,  5.4431e-03],\n",
      "          [-8.1327e-03, -2.5913e-04, -2.0595e-02, -1.4168e-02, -9.0711e-03],\n",
      "          [-2.0038e-02, -2.2362e-02, -1.1691e-03,  9.7752e-03,  1.7554e-03]],\n",
      "\n",
      "         [[ 9.9546e-03,  1.2614e-03,  4.6849e-03,  2.4737e-02, -1.3443e-02],\n",
      "          [ 1.9096e-02,  1.4177e-02,  1.1878e-02,  1.2124e-02,  1.7785e-03],\n",
      "          [ 2.0091e-02, -1.6356e-02,  1.2544e-04,  1.2166e-02, -2.2648e-02],\n",
      "          [-9.5544e-03, -1.2156e-02, -8.5120e-03,  9.1714e-04, -1.9526e-02],\n",
      "          [ 1.9124e-02, -4.0032e-03, -5.3238e-03, -8.7225e-03, -2.4145e-02]],\n",
      "\n",
      "         [[ 1.4098e-02,  1.8273e-03, -5.0953e-03, -6.0414e-03,  6.6454e-03],\n",
      "          [ 2.7099e-03,  2.3846e-02,  1.5642e-02, -2.4109e-02, -1.5660e-02],\n",
      "          [-1.5845e-02,  2.0355e-02, -9.9772e-03,  1.2522e-02,  1.6948e-02],\n",
      "          [ 1.1300e-03,  2.3707e-02,  6.4235e-03,  5.0277e-03, -1.6751e-02],\n",
      "          [ 1.0742e-02, -2.5488e-03, -7.6276e-03, -6.7101e-03, -5.6484e-03]],\n",
      "\n",
      "         ...,\n",
      "\n",
      "         [[ 5.5006e-03,  1.6966e-02,  2.0520e-02,  5.3485e-03,  1.3703e-02],\n",
      "          [-3.9606e-03, -1.0010e-02,  3.7463e-03, -1.0097e-02,  1.4233e-02],\n",
      "          [ 1.5460e-02,  6.6279e-03, -1.1031e-03, -1.6599e-02,  2.2150e-02],\n",
      "          [ 2.2806e-03, -1.7800e-02,  2.0021e-03,  5.4224e-03,  1.4634e-02],\n",
      "          [ 1.7442e-02,  5.4929e-03,  2.0204e-02, -2.3437e-03, -6.4306e-03]],\n",
      "\n",
      "         [[-8.3260e-03, -5.2416e-03, -1.1064e-02, -1.0231e-02, -4.8887e-03],\n",
      "          [-9.2431e-03, -1.9022e-02,  1.5510e-03,  1.3894e-02, -1.6205e-02],\n",
      "          [ 1.2813e-02,  1.7442e-02,  9.9539e-03,  1.7123e-02,  1.4156e-02],\n",
      "          [ 5.9332e-03,  1.7764e-02,  1.8203e-02,  2.1575e-02, -3.2981e-04],\n",
      "          [-2.1544e-02,  1.9770e-02,  1.2011e-02, -7.2650e-03,  2.2436e-02]],\n",
      "\n",
      "         [[ 1.2749e-02, -1.0852e-02, -1.2620e-02, -1.2090e-02,  9.8691e-03],\n",
      "          [ 7.5411e-04, -8.9915e-03, -6.4723e-03, -1.5103e-02, -8.7515e-05],\n",
      "          [-4.4347e-03, -1.0877e-02, -1.4100e-02,  2.3818e-02,  1.3375e-02],\n",
      "          [ 1.1543e-03,  2.4204e-03,  1.9372e-02, -2.0611e-02,  1.4336e-02],\n",
      "          [ 1.8709e-02, -6.3875e-03, -7.1658e-03,  1.7253e-02,  7.3532e-03]]],\n",
      "\n",
      "\n",
      "        [[[-2.3539e-02, -5.9792e-04, -5.3329e-03, -1.5814e-02, -1.2891e-02],\n",
      "          [ 2.1701e-02, -9.9998e-03,  1.8083e-02,  2.0015e-02,  1.0191e-02],\n",
      "          [ 2.2131e-02,  1.7533e-02,  4.5892e-03,  3.9184e-03, -3.8483e-03],\n",
      "          [ 1.7058e-03,  8.2458e-03,  6.7745e-03,  8.1967e-03, -1.9630e-02],\n",
      "          [ 1.4106e-02,  2.2064e-02,  8.4949e-03,  3.4728e-03, -6.3219e-03]],\n",
      "\n",
      "         [[-8.7923e-03, -1.1701e-02,  4.0213e-03,  2.0769e-03,  1.9488e-02],\n",
      "          [ 1.1901e-02,  1.0646e-02, -5.9202e-03, -1.5498e-02, -1.8229e-02],\n",
      "          [-5.4855e-04,  4.8892e-04,  1.8678e-02, -1.3871e-02,  1.3615e-02],\n",
      "          [ 6.3038e-03,  6.6286e-03, -2.0228e-02,  7.1727e-03, -1.0270e-02],\n",
      "          [ 2.2115e-02,  9.9791e-03,  9.3587e-03, -8.8828e-03, -9.5115e-03]],\n",
      "\n",
      "         [[-1.2965e-03,  4.3215e-03,  1.5107e-02,  5.4592e-03, -1.9559e-02],\n",
      "          [-5.3334e-03,  4.7651e-03,  4.3419e-03,  5.3146e-03,  8.0200e-04],\n",
      "          [-1.8032e-02, -6.5521e-04, -1.7742e-02, -2.3112e-02, -1.5427e-02],\n",
      "          [-2.1853e-02,  1.5570e-02,  1.4158e-02,  8.2120e-03,  2.2607e-02],\n",
      "          [ 5.6865e-03,  5.3206e-03,  8.2997e-03,  2.2098e-02,  1.4353e-02]],\n",
      "\n",
      "         ...,\n",
      "\n",
      "         [[-5.6012e-03,  1.4686e-02,  1.5881e-02, -5.8576e-03, -3.1813e-03],\n",
      "          [ 1.7428e-02, -1.1471e-02,  8.3937e-03, -8.0671e-03, -2.0212e-02],\n",
      "          [-2.0075e-02, -7.4264e-03,  2.1459e-02,  5.6833e-03, -1.1998e-02],\n",
      "          [-1.6234e-02, -2.4554e-03,  4.7774e-03,  4.8312e-03,  1.3240e-02],\n",
      "          [-9.5770e-03,  1.4265e-02, -1.6538e-02, -1.3909e-02, -2.2214e-02]],\n",
      "\n",
      "         [[-1.9512e-02,  1.8518e-02,  9.6637e-04,  8.2790e-04, -1.9682e-02],\n",
      "          [-2.2614e-02, -4.3874e-03,  3.9751e-03,  1.8690e-02, -2.4521e-02],\n",
      "          [ 2.4206e-02, -1.4801e-02,  2.4750e-03,  1.6795e-04, -1.9373e-02],\n",
      "          [-1.0493e-02,  5.0610e-03,  1.5414e-02,  1.4364e-02, -9.5462e-03],\n",
      "          [-1.3060e-02,  2.1743e-03,  2.0649e-02,  1.1268e-02, -1.2864e-02]],\n",
      "\n",
      "         [[-1.0630e-02,  5.0844e-03,  1.4727e-02,  2.2804e-02,  1.2887e-02],\n",
      "          [-9.0722e-03, -2.2643e-03, -1.0992e-02,  9.0618e-03, -4.4028e-03],\n",
      "          [ 3.4932e-03,  4.7695e-03, -1.2543e-02,  2.1070e-03, -2.2121e-03],\n",
      "          [ 1.0223e-02,  1.6124e-02,  8.0137e-03,  1.7975e-02,  7.7332e-03],\n",
      "          [ 1.4959e-02,  1.9326e-02, -1.7037e-02, -2.0177e-02, -2.1499e-02]]],\n",
      "\n",
      "\n",
      "        [[[-4.0073e-03, -3.5250e-03,  2.0221e-02, -1.3267e-02,  1.0326e-02],\n",
      "          [ 2.1704e-02,  1.4883e-02,  1.6511e-02,  3.8866e-03,  6.3601e-03],\n",
      "          [-1.6124e-02,  1.1570e-02,  2.4858e-02, -1.2632e-02,  3.2999e-03],\n",
      "          [-3.3603e-03,  2.3660e-02, -1.3978e-02,  1.0959e-03,  1.2235e-02],\n",
      "          [-1.1691e-02, -1.1984e-02, -2.0364e-03, -1.9473e-02, -3.6931e-03]],\n",
      "\n",
      "         [[-2.0883e-02, -5.9918e-03,  1.1847e-02, -1.9749e-02,  2.5884e-03],\n",
      "          [ 5.0937e-03, -1.5731e-02,  2.0887e-02,  1.0865e-04,  5.2465e-03],\n",
      "          [-1.5744e-02, -2.0890e-02,  8.8169e-03, -2.2576e-02,  3.1616e-04],\n",
      "          [ 3.0439e-03,  7.7701e-03,  1.3816e-02,  2.2387e-02, -1.5904e-02],\n",
      "          [-8.0472e-03, -2.4062e-02,  3.1401e-03, -5.9275e-03, -1.0959e-02]],\n",
      "\n",
      "         [[-2.6095e-03, -2.1808e-02, -7.5713e-03,  3.3913e-04,  7.4505e-03],\n",
      "          [ 2.2349e-03, -1.6352e-02, -1.7124e-02, -2.5998e-03, -2.4342e-02],\n",
      "          [ 6.1556e-03, -2.2707e-03,  9.9346e-03, -8.2617e-03, -1.4706e-02],\n",
      "          [-2.0149e-02, -2.0810e-02,  1.0788e-02,  2.2874e-02, -2.1226e-02],\n",
      "          [ 2.3331e-03,  1.4425e-02,  9.1657e-03,  1.2495e-02, -9.0743e-04]],\n",
      "\n",
      "         ...,\n",
      "\n",
      "         [[ 3.8332e-03, -2.3655e-02, -1.2913e-02,  1.9116e-02,  7.5128e-03],\n",
      "          [-1.4281e-02,  1.5444e-02,  3.4479e-03, -1.4337e-02,  1.6829e-02],\n",
      "          [-9.0053e-03,  7.3561e-03, -8.6342e-03, -1.1174e-02,  1.0129e-03],\n",
      "          [-1.9890e-02,  5.4138e-03, -6.5341e-03, -2.3095e-02, -2.4143e-02],\n",
      "          [-1.4923e-02,  1.6840e-02,  2.1908e-02,  1.1476e-02,  5.3523e-04]],\n",
      "\n",
      "         [[-1.5212e-02, -6.4816e-03,  1.5680e-03, -1.7004e-02, -2.3395e-03],\n",
      "          [ 2.5336e-03,  5.1269e-03, -9.1374e-03,  1.5426e-02,  9.7185e-03],\n",
      "          [-8.1044e-04, -1.9764e-02,  1.6773e-02, -7.9685e-03, -8.8050e-03],\n",
      "          [ 1.6770e-02, -1.0879e-02,  5.6118e-03, -1.1681e-02, -1.7416e-02],\n",
      "          [ 1.9879e-02,  2.0266e-02,  1.4962e-02,  2.3435e-02, -2.2123e-02]],\n",
      "\n",
      "         [[ 1.7412e-02, -2.3009e-02,  1.1959e-02,  1.6073e-02,  8.6956e-03],\n",
      "          [-1.1034e-02, -1.9741e-02,  2.1503e-03,  1.8141e-02,  1.7684e-02],\n",
      "          [ 1.8746e-02, -1.8122e-02,  3.7525e-03,  1.5407e-02,  4.2007e-03],\n",
      "          [-1.3022e-02,  1.8457e-02, -2.4013e-02,  9.7317e-03, -1.5953e-02],\n",
      "          [ 2.3459e-02,  4.6425e-03, -1.9771e-02,  7.2044e-03, -8.0471e-03]]]],\n",
      "       requires_grad=True)\n",
      "Parameter containing:\n",
      "tensor([ 7.8782e-03, -1.2572e-03, -7.9249e-03,  1.6084e-02,  2.1020e-02,\n",
      "         1.1649e-02,  2.3048e-02, -2.2790e-02, -6.4068e-03, -2.0156e-02,\n",
      "        -1.0000e-02,  1.3872e-02,  1.6478e-02, -1.3231e-02, -3.3595e-03,\n",
      "         8.8393e-03, -2.1997e-02, -1.9205e-02,  6.0254e-03, -4.1714e-03,\n",
      "         1.8916e-02, -1.9115e-02, -2.0878e-02,  2.0958e-02, -1.5444e-02,\n",
      "        -1.8223e-02, -4.2404e-03, -2.1625e-05,  1.2994e-02,  7.0475e-03,\n",
      "        -3.3144e-03,  2.5667e-03, -4.2044e-03, -2.2236e-02,  2.3664e-02,\n",
      "         1.2630e-02, -8.4722e-03,  1.9651e-02,  1.4008e-03, -1.8111e-02,\n",
      "         1.7575e-02,  9.7198e-03, -2.2009e-02, -8.8132e-03, -1.4643e-02,\n",
      "        -1.9782e-02, -2.3812e-02,  2.1491e-02,  1.5359e-02, -1.3530e-02,\n",
      "        -1.2702e-02, -7.4547e-03,  1.7872e-02, -1.8003e-02,  5.0185e-04,\n",
      "        -2.3377e-02,  9.9146e-03, -4.7484e-03,  3.7920e-03, -7.2954e-03,\n",
      "         1.0612e-02, -7.7710e-03, -1.1652e-02, -2.3326e-02,  1.2306e-02,\n",
      "        -4.6364e-03, -1.5291e-02, -7.2177e-03,  1.9877e-02,  1.2549e-03,\n",
      "        -1.6283e-02,  1.3488e-02, -3.2627e-03, -1.3898e-02,  3.8563e-03,\n",
      "        -5.1407e-03, -7.9912e-03, -2.3609e-02,  2.1390e-02,  2.4594e-03,\n",
      "        -4.5015e-03,  1.6717e-02, -2.4498e-02, -1.9126e-02,  2.3831e-02,\n",
      "        -1.0294e-02, -4.1577e-03,  1.6875e-02,  1.2320e-02, -2.3017e-02,\n",
      "         7.3082e-03,  2.4298e-02,  2.2063e-02,  1.2378e-02, -2.3799e-02,\n",
      "        -1.7645e-03,  1.5322e-02,  1.4535e-02,  2.4490e-02,  6.8450e-03,\n",
      "        -4.2211e-03, -2.3899e-02, -1.5471e-03, -1.2622e-02,  1.1648e-02,\n",
      "         2.3746e-02,  2.4010e-04, -5.3256e-03,  1.1196e-02, -5.3192e-03,\n",
      "         2.4546e-02,  1.8981e-02,  4.5616e-04, -1.1734e-02,  2.0799e-02,\n",
      "        -2.1527e-02, -4.6811e-03, -2.2556e-03, -6.8828e-03,  1.2855e-02,\n",
      "         9.2298e-03,  1.3848e-02,  1.6918e-02, -4.5273e-03,  1.8472e-02,\n",
      "         1.6992e-02, -7.1765e-03,  3.7747e-03], requires_grad=True)\n",
      "Parameter containing:\n",
      "tensor([[ 0.0341, -0.0270, -0.0119,  ..., -0.0417,  0.0414,  0.0012],\n",
      "        [ 0.0086, -0.0142,  0.0158,  ..., -0.0108,  0.0412,  0.0430],\n",
      "        [ 0.0049, -0.0408, -0.0178,  ...,  0.0309,  0.0047,  0.0020],\n",
      "        ...,\n",
      "        [ 0.0166, -0.0396, -0.0260,  ..., -0.0025,  0.0388, -0.0390],\n",
      "        [-0.0134,  0.0101, -0.0441,  ...,  0.0253,  0.0204, -0.0054],\n",
      "        [ 0.0098,  0.0306, -0.0012,  ...,  0.0083,  0.0144,  0.0375]],\n",
      "       requires_grad=True)\n",
      "Parameter containing:\n",
      "tensor([-0.0115, -0.0120,  0.0263, -0.0090,  0.0204,  0.0100,  0.0373,  0.0232,\n",
      "        -0.0309,  0.0320,  0.0261, -0.0019,  0.0333,  0.0011,  0.0207,  0.0142,\n",
      "         0.0152, -0.0267,  0.0266,  0.0316, -0.0057,  0.0058,  0.0287,  0.0286,\n",
      "        -0.0397,  0.0221, -0.0261, -0.0243, -0.0164,  0.0377,  0.0223,  0.0192,\n",
      "         0.0150,  0.0102, -0.0109, -0.0241, -0.0269,  0.0224, -0.0095, -0.0400,\n",
      "         0.0175,  0.0435, -0.0385,  0.0427, -0.0023,  0.0253,  0.0353,  0.0178,\n",
      "        -0.0412,  0.0048,  0.0154,  0.0241, -0.0351, -0.0296, -0.0019,  0.0287,\n",
      "        -0.0050, -0.0046,  0.0033, -0.0149,  0.0215, -0.0084, -0.0333,  0.0293,\n",
      "         0.0440,  0.0215,  0.0123, -0.0159, -0.0359,  0.0332,  0.0091,  0.0278,\n",
      "        -0.0364, -0.0057,  0.0153, -0.0101,  0.0423, -0.0257,  0.0283, -0.0431,\n",
      "        -0.0416,  0.0442,  0.0076, -0.0143, -0.0179,  0.0185, -0.0003,  0.0368,\n",
      "        -0.0101, -0.0359,  0.0155, -0.0093,  0.0326, -0.0007, -0.0099, -0.0308,\n",
      "        -0.0009,  0.0299, -0.0198, -0.0086,  0.0263,  0.0131,  0.0051, -0.0191,\n",
      "        -0.0071, -0.0387, -0.0122, -0.0381, -0.0255, -0.0433, -0.0345,  0.0247,\n",
      "        -0.0344, -0.0006, -0.0193,  0.0341, -0.0231,  0.0384, -0.0067,  0.0196,\n",
      "         0.0083, -0.0323, -0.0335,  0.0203, -0.0357, -0.0152, -0.0369, -0.0017,\n",
      "        -0.0407, -0.0326,  0.0167,  0.0107, -0.0039, -0.0333, -0.0058, -0.0380,\n",
      "         0.0227,  0.0376,  0.0317, -0.0155,  0.0237,  0.0178,  0.0342,  0.0418,\n",
      "         0.0219,  0.0433,  0.0200,  0.0285,  0.0191, -0.0311, -0.0070, -0.0381,\n",
      "        -0.0171, -0.0064, -0.0097, -0.0215, -0.0336, -0.0237,  0.0024, -0.0124,\n",
      "         0.0389, -0.0426, -0.0078,  0.0207,  0.0057, -0.0259,  0.0106, -0.0177,\n",
      "         0.0345, -0.0388,  0.0385, -0.0133,  0.0235,  0.0380, -0.0424,  0.0408,\n",
      "         0.0331,  0.0374,  0.0059,  0.0035,  0.0333, -0.0194,  0.0019, -0.0362,\n",
      "         0.0152, -0.0269, -0.0372,  0.0198, -0.0078,  0.0353, -0.0084,  0.0398,\n",
      "        -0.0094, -0.0281, -0.0090, -0.0346,  0.0091,  0.0021, -0.0287,  0.0434,\n",
      "         0.0017,  0.0072,  0.0333,  0.0432, -0.0362, -0.0363,  0.0242, -0.0256,\n",
      "         0.0097, -0.0262, -0.0089,  0.0315,  0.0299, -0.0018, -0.0397, -0.0376,\n",
      "        -0.0076,  0.0069,  0.0069, -0.0368, -0.0147,  0.0059,  0.0063,  0.0409,\n",
      "         0.0356,  0.0081, -0.0406,  0.0024, -0.0017,  0.0228, -0.0070,  0.0009,\n",
      "        -0.0289,  0.0106,  0.0016, -0.0093, -0.0162, -0.0297,  0.0261, -0.0403,\n",
      "        -0.0431, -0.0210, -0.0302,  0.0402,  0.0321,  0.0345,  0.0039,  0.0177,\n",
      "         0.0169, -0.0188, -0.0178, -0.0012, -0.0437, -0.0196, -0.0195, -0.0150,\n",
      "         0.0039,  0.0115,  0.0052, -0.0353, -0.0310,  0.0398, -0.0400,  0.0119,\n",
      "         0.0301,  0.0250,  0.0087,  0.0032, -0.0269,  0.0376,  0.0165, -0.0229,\n",
      "         0.0356, -0.0173,  0.0181, -0.0389, -0.0224, -0.0068,  0.0023, -0.0428,\n",
      "         0.0252,  0.0220, -0.0319,  0.0284, -0.0325, -0.0354, -0.0375, -0.0092,\n",
      "        -0.0297,  0.0423, -0.0204,  0.0048, -0.0138, -0.0194,  0.0058,  0.0005,\n",
      "        -0.0321, -0.0034, -0.0069,  0.0439,  0.0300,  0.0201, -0.0440, -0.0376,\n",
      "        -0.0391,  0.0146, -0.0020, -0.0072, -0.0212, -0.0231, -0.0015, -0.0210,\n",
      "         0.0322, -0.0411,  0.0022, -0.0041,  0.0176, -0.0377,  0.0081,  0.0162,\n",
      "        -0.0201, -0.0225,  0.0156, -0.0362, -0.0134, -0.0131, -0.0179, -0.0410,\n",
      "        -0.0326, -0.0292, -0.0281, -0.0228, -0.0105, -0.0080,  0.0243,  0.0188,\n",
      "         0.0148,  0.0350, -0.0211, -0.0360,  0.0165, -0.0318,  0.0025, -0.0115,\n",
      "        -0.0344, -0.0074, -0.0119,  0.0038,  0.0261, -0.0343, -0.0090,  0.0412,\n",
      "        -0.0258, -0.0072,  0.0303, -0.0376, -0.0292,  0.0387,  0.0198,  0.0215,\n",
      "        -0.0434,  0.0190, -0.0406,  0.0399, -0.0069, -0.0261, -0.0129, -0.0405,\n",
      "         0.0142, -0.0248,  0.0365, -0.0416, -0.0234, -0.0187, -0.0142,  0.0382,\n",
      "        -0.0079, -0.0224,  0.0360,  0.0189,  0.0024,  0.0106, -0.0266, -0.0400,\n",
      "        -0.0408, -0.0427, -0.0183, -0.0307,  0.0193,  0.0052,  0.0302,  0.0079,\n",
      "         0.0220, -0.0158,  0.0087, -0.0231, -0.0289, -0.0427,  0.0317,  0.0305,\n",
      "        -0.0422, -0.0026, -0.0148, -0.0151, -0.0412,  0.0106, -0.0046, -0.0272,\n",
      "         0.0249,  0.0033, -0.0009, -0.0188,  0.0216, -0.0323, -0.0087,  0.0419,\n",
      "         0.0333,  0.0378,  0.0346,  0.0104,  0.0101, -0.0320,  0.0055, -0.0436,\n",
      "        -0.0106, -0.0326, -0.0202, -0.0016,  0.0315,  0.0199, -0.0005, -0.0435,\n",
      "        -0.0267,  0.0073, -0.0085,  0.0402,  0.0338,  0.0256, -0.0348,  0.0087,\n",
      "         0.0119, -0.0384,  0.0017,  0.0332,  0.0119, -0.0127, -0.0072,  0.0029,\n",
      "         0.0296,  0.0304,  0.0128, -0.0080, -0.0126, -0.0256,  0.0089,  0.0355,\n",
      "         0.0129,  0.0411,  0.0334, -0.0255,  0.0271,  0.0284,  0.0175,  0.0433,\n",
      "         0.0281,  0.0132,  0.0162,  0.0369, -0.0387, -0.0313,  0.0224,  0.0195,\n",
      "        -0.0314,  0.0050, -0.0110,  0.0361, -0.0151,  0.0321,  0.0432, -0.0321,\n",
      "         0.0136, -0.0202,  0.0422, -0.0213, -0.0232,  0.0282,  0.0211,  0.0337,\n",
      "        -0.0087, -0.0331,  0.0246,  0.0219, -0.0089, -0.0090,  0.0371,  0.0152,\n",
      "        -0.0038,  0.0295, -0.0247,  0.0242,  0.0267,  0.0081, -0.0154, -0.0279,\n",
      "        -0.0398, -0.0285,  0.0320,  0.0269, -0.0355,  0.0370,  0.0242, -0.0023],\n",
      "       requires_grad=True)\n",
      "Parameter containing:\n",
      "tensor([[-0.0401, -0.0439,  0.0331,  ...,  0.0432, -0.0392,  0.0050],\n",
      "        [ 0.0291,  0.0286, -0.0101,  ..., -0.0420, -0.0257,  0.0413],\n",
      "        [ 0.0304,  0.0351, -0.0082,  ..., -0.0284, -0.0054, -0.0259],\n",
      "        ...,\n",
      "        [ 0.0299, -0.0239, -0.0423,  ...,  0.0305,  0.0414,  0.0291],\n",
      "        [ 0.0020, -0.0121,  0.0390,  ...,  0.0127, -0.0072, -0.0386],\n",
      "        [-0.0120,  0.0255,  0.0149,  ...,  0.0136, -0.0111,  0.0235]],\n",
      "       requires_grad=True)\n",
      "Parameter containing:\n",
      "tensor([ 0.0141, -0.0042, -0.0429, -0.0375, -0.0398,  0.0255, -0.0075, -0.0099,\n",
      "         0.0079,  0.0052,  0.0140,  0.0093,  0.0244, -0.0156,  0.0372, -0.0093,\n",
      "         0.0431, -0.0201, -0.0019,  0.0033,  0.0046, -0.0020,  0.0264, -0.0285,\n",
      "        -0.0270,  0.0326, -0.0203,  0.0014,  0.0219, -0.0145,  0.0400, -0.0296,\n",
      "        -0.0036,  0.0019,  0.0245, -0.0396], requires_grad=True)\n"
     ]
    }
   ],
   "source": [
    "# model.load_state_dict(torch.load(FILE))\n",
    "# model.eval()\n",
    "\n",
    "# for param in model.parameters():\n",
    "#     print(param)\n",
    "    "
   ]
  },
  {
   "cell_type": "code",
   "execution_count": null,
   "id": "4ddbc144",
   "metadata": {},
   "outputs": [],
   "source": []
  }
 ],
 "metadata": {
  "kernelspec": {
   "display_name": "Python 3 (ipykernel)",
   "language": "python",
   "name": "python3"
  },
  "language_info": {
   "codemirror_mode": {
    "name": "ipython",
    "version": 3
   },
   "file_extension": ".py",
   "mimetype": "text/x-python",
   "name": "python",
   "nbconvert_exporter": "python",
   "pygments_lexer": "ipython3",
   "version": "3.11.0"
  }
 },
 "nbformat": 4,
 "nbformat_minor": 5
}
